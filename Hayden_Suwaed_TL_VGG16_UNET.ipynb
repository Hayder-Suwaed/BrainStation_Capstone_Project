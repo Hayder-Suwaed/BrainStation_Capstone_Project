{
 "cells": [
  {
   "cell_type": "markdown",
   "metadata": {},
   "source": [
    "# Image Segmentation with Deep Learning\n",
    "\n",
    "\n",
    "\n",
    "\n",
    "Author: Hayden Suwaed\n",
    "\n",
    "Email: haidersuwaed@gmail.com\n",
    "\n",
    "\n",
    "\n",
    "Date: Apr-1-2023\n",
    "\n",
    "\n",
    "\n",
    "## Table of Contents\n",
    "\n",
    "[1. Introduction](#Intorduction) <br>\n",
    "[2. Modeling](#Modeling) <br>\n",
    "[3. Conclusions](#Conclusions)\n",
    "\n",
    "\n",
    "\n",
    "## Introduction\n",
    "\n",
    "\"Deep learning neural networks are brain-inspired networks that are used to recognize patterns.\" - *Fei-Fei Li* \n",
    "\n",
    "Brain tumor segmentation is a critical task in medical image analysis, which entails the precise delineation of tumor regions from healthy brain tissues in magnetic resonance imaging (MRI) scans. Accurate segmentation is vital for diagnosis, treatment planning, and monitoring the progress of patients with brain tumors. Deep learning has emerged as a powerful tool for tackling this challenging problem, with Convolutional Neural Networks (CNNs) and other sophisticated architectures exhibiting remarkable performance in identifying, localizing, and classifying different tumor sub-regions.**The primary goal of utilizing deep learning algorithms for brain tumor segmentation is to achieve unparalleled accuracy in detecting and delineating tumor regions, thereby facilitating timely diagnosis and personalized treatment plans for improved patient outcomes.**\n",
    "\n",
    "## 1. Data Collection and Description\n",
    "\n",
    "In this study, we will utilize a dataset consisting of images and their corresponding masks in the Joint Photographic Experts Group (JPEG) format. The dataset was procured and preprocessed by Southern Medical University, located in Guangzhou, Guangdong, China. The dataset was originally released on April 2, 2017.\n",
    "\n",
    "\n",
    "The brain tumor dataset comprises 3,064 T1-weighted contrast-enhanced images derived from 233 patients diagnosed with three distinct brain tumor types: meningioma (708 slices), glioma (1,426 slices), and pituitary tumor (930 slices). Owing to repository file size constraints, the dataset has been partitioned into four subsets and compressed into four separate .zip files, each containing 766 slices. Additionally, the dataset includes indices for 5-fold cross-validation to facilitate model evaluation and comparison.\n",
    "\n",
    "\n",
    "\n",
    "Check out the dataset that have bee used for this project [Here](https://drive.google.com/drive/folders/1nAu70XoU7Wln8nY1OC7zhfr7n5f0rYlf?usp=share_link)"
   ]
  },
  {
   "cell_type": "code",
   "execution_count": 1,
   "metadata": {
    "id": "_QKn7Ga0CgVR",
    "scrolled": true
   },
   "outputs": [],
   "source": [
    "import tensorflow as tf\n",
    "from tensorflow.keras import backend as K\n",
    "from tensorflow.keras.utils import CustomObjectScope\n",
    "from sklearn.metrics import f1_score, jaccard_score, precision_score, recall_score\n",
    "from tensorflow.keras.applications.vgg16 import VGG16, preprocess_input\n",
    "\n",
    "from tensorflow.keras.layers import Conv2D, BatchNormalization, Activation,\\\n",
    "MaxPool2D, Conv2DTranspose, Concatenate, Input, Dropout, GaussianNoise, concatenate\n",
    "from tensorflow.keras.models import Model\n",
    "# from focal_loss import BinaryFocalLoss\n",
    "\n",
    "\n",
    "import os\n",
    "import random\n",
    "import numpy as np\n",
    "import pandas as pd\n",
    "from glob import glob\n",
    "import pandas as pd\n",
    "\n",
    " \n",
    "from tqdm import tqdm \n",
    "import cv2\n",
    "from skimage.io import imread, imshow\n",
    "from skimage.transform import resize\n",
    "from sklearn.model_selection import train_test_split\n",
    "from sklearn.utils import shuffle\n",
    "import matplotlib.pyplot as plt"
   ]
  },
  {
   "cell_type": "markdown",
   "metadata": {},
   "source": [
    "The following code utilizes the TensorFlow library to detect and list the physical and logical graphics processing units (GPUs) available in the system. It then sets the memory growth parameter to True for each available GPU, which allows for dynamic allocation of only necessary GPU memory during computation. The code is enclosed in a try-except block to handle any runtime errors. Finally, the code prints the number of physical and logical GPUs detected in the system."
   ]
  },
  {
   "cell_type": "code",
   "execution_count": 4,
   "metadata": {},
   "outputs": [
    {
     "name": "stdout",
     "output_type": "stream",
     "text": [
      "1 Physical GPUs, 1 Logical GPUs\n"
     ]
    },
    {
     "name": "stderr",
     "output_type": "stream",
     "text": [
      "2023-03-19 17:25:51.308388: I tensorflow/stream_executor/cuda/cuda_gpu_executor.cc:936] successful NUMA node read from SysFS had negative value (-1), but there must be at least one NUMA node, so returning NUMA node zero\n",
      "2023-03-19 17:25:51.308628: I tensorflow/stream_executor/cuda/cuda_gpu_executor.cc:936] successful NUMA node read from SysFS had negative value (-1), but there must be at least one NUMA node, so returning NUMA node zero\n",
      "2023-03-19 17:25:51.335628: I tensorflow/stream_executor/cuda/cuda_gpu_executor.cc:936] successful NUMA node read from SysFS had negative value (-1), but there must be at least one NUMA node, so returning NUMA node zero\n",
      "2023-03-19 17:25:51.335838: I tensorflow/stream_executor/cuda/cuda_gpu_executor.cc:936] successful NUMA node read from SysFS had negative value (-1), but there must be at least one NUMA node, so returning NUMA node zero\n",
      "2023-03-19 17:25:51.336092: I tensorflow/stream_executor/cuda/cuda_gpu_executor.cc:936] successful NUMA node read from SysFS had negative value (-1), but there must be at least one NUMA node, so returning NUMA node zero\n",
      "2023-03-19 17:25:51.336254: I tensorflow/stream_executor/cuda/cuda_gpu_executor.cc:936] successful NUMA node read from SysFS had negative value (-1), but there must be at least one NUMA node, so returning NUMA node zero\n",
      "2023-03-19 17:25:51.336372: I tensorflow/core/common_runtime/gpu/gpu_device.cc:1932] Ignoring visible gpu device (device: 1, name: Quadro P1000, pci bus id: 0000:01:00.0, compute capability: 6.1) with core count: 4. The minimum required count is 8. You can adjust this requirement with the env var TF_MIN_GPU_MULTIPROCESSOR_COUNT.\n",
      "2023-03-19 17:25:51.336911: I tensorflow/core/platform/cpu_feature_guard.cc:151] This TensorFlow binary is optimized with oneAPI Deep Neural Network Library (oneDNN) to use the following CPU instructions in performance-critical operations:  AVX2 FMA\n",
      "To enable them in other operations, rebuild TensorFlow with the appropriate compiler flags.\n",
      "2023-03-19 17:25:51.337720: I tensorflow/stream_executor/cuda/cuda_gpu_executor.cc:936] successful NUMA node read from SysFS had negative value (-1), but there must be at least one NUMA node, so returning NUMA node zero\n",
      "2023-03-19 17:25:51.337923: I tensorflow/stream_executor/cuda/cuda_gpu_executor.cc:936] successful NUMA node read from SysFS had negative value (-1), but there must be at least one NUMA node, so returning NUMA node zero\n",
      "2023-03-19 17:25:51.338089: I tensorflow/stream_executor/cuda/cuda_gpu_executor.cc:936] successful NUMA node read from SysFS had negative value (-1), but there must be at least one NUMA node, so returning NUMA node zero\n",
      "2023-03-19 17:25:51.890506: I tensorflow/stream_executor/cuda/cuda_gpu_executor.cc:936] successful NUMA node read from SysFS had negative value (-1), but there must be at least one NUMA node, so returning NUMA node zero\n",
      "2023-03-19 17:25:51.890730: I tensorflow/stream_executor/cuda/cuda_gpu_executor.cc:936] successful NUMA node read from SysFS had negative value (-1), but there must be at least one NUMA node, so returning NUMA node zero\n",
      "2023-03-19 17:25:51.890900: I tensorflow/stream_executor/cuda/cuda_gpu_executor.cc:936] successful NUMA node read from SysFS had negative value (-1), but there must be at least one NUMA node, so returning NUMA node zero\n",
      "2023-03-19 17:25:51.891040: I tensorflow/core/common_runtime/gpu/gpu_device.cc:1525] Created device /job:localhost/replica:0/task:0/device:GPU:0 with 22312 MB memory:  -> device: 0, name: NVIDIA GeForce RTX 3090, pci bus id: 0000:3e:00.0, compute capability: 8.6\n"
     ]
    }
   ],
   "source": [
    "gpus = tf.config.list_physical_devices('GPU')\n",
    "if gpus:\n",
    "  try:\n",
    "    # Currently, memory growth needs to be the same across GPUs\n",
    "    for gpu in gpus:\n",
    "      tf.config.experimental.set_memory_growth(gpu, True)\n",
    "    logical_gpus = tf.config.list_logical_devices('GPU')\n",
    "    print(len(gpus), \"Physical GPUs,\", len(logical_gpus), \"Logical GPUs\")\n",
    "  except RuntimeError as e:\n",
    "    # Memory growth must be set before GPUs have been initialized\n",
    "    print(e)"
   ]
  },
  {
   "cell_type": "markdown",
   "metadata": {},
   "source": [
    "Here we set the values of `IMG_WIDTH`, `IMG_HEIGHT`, and `IMG_CHANNELS` to 128, 128, and 3, respectively. These variables are commonly used in image processing and computer vision applications to define the dimensions and number of channels of an image."
   ]
  },
  {
   "cell_type": "code",
   "execution_count": 5,
   "metadata": {
    "id": "krRavFvBClTX"
   },
   "outputs": [],
   "source": [
    "IMG_WIDTH = 128\n",
    "IMG_HEIGHT = 128\n",
    "IMG_CHANNELS = 3"
   ]
  },
  {
   "cell_type": "markdown",
   "metadata": {},
   "source": [
    "The `seed` variable is set to 42, which is a commonly used value in random number generation. The `batch_size` is set to 10, which specifies the number of samples to use for each training update. The `lr` variable defines the learning rate of the optimizer and is set to 1e-4, and the `optimizer` is defined using the Adam optimizer from the Keras library with the specified learning rate. `num_epochs` is set to 60, which specifies the number of times the training process should iterate over the entire dataset. Finally,`model_path` and `csv_path` specify the file paths for saving the best model and logging the training metrics, respectively."
   ]
  },
  {
   "cell_type": "code",
   "execution_count": 6,
   "metadata": {
    "id": "23l5IPRID5jx"
   },
   "outputs": [],
   "source": [
    "seed=42\n",
    "batch_size = 10\n",
    "lr = 1e-4\n",
    "optimizer =tf.keras.optimizers.Adam(lr)\n",
    "num_epochs = 100\n",
    "model_path = os.path.join(\"files\", \"best_model.h5\")\n",
    "csv_path = os.path.join(\"files\", \"log.csv\")"
   ]
  },
  {
   "cell_type": "markdown",
   "metadata": {},
   "source": [
    "## 2. Loading and Preprocessing Data\n",
    "\n",
    "\n",
    "Here wedefine a function named `load_dataset` that takes a `path` argument, which specifies the location of the dataset images and masks. The function also allows for specifying the `val_split` and `test_split` proportions for splitting the dataset into validation and test sets. The function first retrieves the images and masks from the specified paths using `glob` and sorts them. It then calculates the validation and test set sizes and splits the data accordingly using `train_test_split` from the Scikit-learn library. Finally, the function returns the training, validation, and test data as tuples of `(images, masks)` for each set."
   ]
  },
  {
   "cell_type": "code",
   "execution_count": 7,
   "metadata": {
    "id": "Jel7N-06Cps7"
   },
   "outputs": [],
   "source": [
    "def load_dataset(path, val_split=0.1, test_split=0.05, image_format=\"jpg\"):\n",
    "    image_format = image_format\n",
    "    images = sorted(glob(os.path.join(path, \"images\", f\"*.{image_format}\")))\n",
    "    masks = sorted(glob(os.path.join(path, \"masks\", f\"*.{image_format}\")))\n",
    "\n",
    "    val_split_size = int(len(images) * val_split)\n",
    "    test_split_size = int(len(images) * test_split)\n",
    "\n",
    "    train_x, valid_x = train_test_split(images, test_size=val_split_size, random_state=42)\n",
    "    train_y, valid_y = train_test_split(masks, test_size=val_split_size, random_state=42)\n",
    "\n",
    "    train_x, test_x = train_test_split(train_x, test_size=test_split_size, random_state=42)\n",
    "    train_y, test_y = train_test_split(train_y, test_size=test_split_size, random_state=42)\n",
    "\n",
    "    return (train_x, train_y), (valid_x, valid_y), (test_x, test_y)"
   ]
  },
  {
   "cell_type": "markdown",
   "metadata": {},
   "source": [
    "As you can see, `np.random.seed(42)` sets the NumPy random seed to 42, which ensures that the same sequence of random numbers will be generated on each run. `tf.random.set_seed(42)` sets the TensorFlow random seed to 42, which ensures that the model will be initialized with the same set of random weights on each run, allowing for reproducibility of results."
   ]
  },
  {
   "cell_type": "code",
   "execution_count": 8,
   "metadata": {
    "id": "oxr9bRJZCsyY"
   },
   "outputs": [],
   "source": [
    "np.random.seed(42)\n",
    "tf.random.set_seed(42)"
   ]
  },
  {
   "cell_type": "markdown",
   "metadata": {},
   "source": [
    "We are checking if a directory named 'files/' exists, and creates one if it does not exist, using the `os` module. The following commented line is used to print the current working directory path using the `pwd` command."
   ]
  },
  {
   "cell_type": "code",
   "execution_count": 9,
   "metadata": {
    "colab": {
     "base_uri": "https://localhost:8080/"
    },
    "id": "WUMfMZmBCwge",
    "outputId": "720ea2bf-efcd-4d7e-b8c0-1a6f5e13d17f"
   },
   "outputs": [
    {
     "name": "stdout",
     "output_type": "stream",
     "text": [
      "/home/ahmed/Downloads/unet_aug_tl\n"
     ]
    }
   ],
   "source": [
    "if os.path.exists('files/') == False:\n",
    "  os.mkdir('files/')\n",
    "if os.path.exists('output_results/') == False:\n",
    "  os.mkdir('output_results/')\n",
    "\n",
    "# os.chdir('/content/drive/MyDrive/BT_Seg_Unet')\n",
    "!pwd"
   ]
  },
  {
   "cell_type": "markdown",
   "metadata": {},
   "source": [
    "`dataset_path`, `image_path`, and `mask_path` variables store the paths to the dataset and the corresponding image and mask directories. The `load_dataset()` function is used to load and split the data into training, validation, and test sets and returns them as tuples of `(images, masks)` for each set. The returned values are then unpacked and stored in `(train_x, train_y)`, `(valid_x, valid_y)`, `(test_x, test_y)` variables."
   ]
  },
  {
   "cell_type": "code",
   "execution_count": 10,
   "metadata": {
    "id": "VXXzGTCOC6a1"
   },
   "outputs": [],
   "source": [
    "dataset_path = \"/content/drive/MyDrive/Brain_MRI_Segmentation/dataset\"\n",
    "image_path = '/content/drive/MyDrive/Brain_MRI_Segmentation/dataset/images/'\n",
    "mask_path = '/content/drive/MyDrive/Brain_MRI_Segmentation/dataset/masks/'\n",
    "(train_x, train_y), (valid_x, valid_y), (test_x, test_y) = load_dataset(dataset_path, image_format='jpg')"
   ]
  },
  {
   "cell_type": "code",
   "execution_count": 11,
   "metadata": {
    "colab": {
     "base_uri": "https://localhost:8080/"
    },
    "id": "aLCh4XsLC8om",
    "outputId": "67446c62-a08f-49e6-86b7-b1f871502af3"
   },
   "outputs": [
    {
     "name": "stdout",
     "output_type": "stream",
     "text": [
      "Train: 2605 - 2605\n",
      "Valid: 306 - 306\n",
      "Test : 153 - 153\n"
     ]
    }
   ],
   "source": [
    "# Sanity check\n",
    "print(f\"Train: {len(train_x)} - {len(train_y)}\")\n",
    "print(f\"Valid: {len(valid_x)} - {len(valid_y)}\")\n",
    "print(f\"Test : {len(test_x)} - {len(test_y)}\")"
   ]
  },
  {
   "cell_type": "markdown",
   "metadata": {},
   "source": [
    "The below code creates a pandas DataFrame object `train_x_df` containing the paths to the training images, splits the paths by '/' using `str.split()` function, stores the resulting parts in separate columns, and sorts the column containing the names of the subdirectories in ascending order."
   ]
  },
  {
   "cell_type": "code",
   "execution_count": 12,
   "metadata": {
    "colab": {
     "base_uri": "https://localhost:8080/",
     "height": 206
    },
    "id": "Au5m0vbxqGdz",
    "outputId": "9733ed5b-a422-4e1a-b179-86452d46e819"
   },
   "outputs": [
    {
     "data": {
      "text/html": [
       "<div>\n",
       "<style scoped>\n",
       "    .dataframe tbody tr th:only-of-type {\n",
       "        vertical-align: middle;\n",
       "    }\n",
       "\n",
       "    .dataframe tbody tr th {\n",
       "        vertical-align: top;\n",
       "    }\n",
       "\n",
       "    .dataframe thead th {\n",
       "        text-align: right;\n",
       "    }\n",
       "</style>\n",
       "<table border=\"1\" class=\"dataframe\">\n",
       "  <thead>\n",
       "    <tr style=\"text-align: right;\">\n",
       "      <th></th>\n",
       "      <th>0</th>\n",
       "      <th>1</th>\n",
       "      <th>2</th>\n",
       "    </tr>\n",
       "  </thead>\n",
       "  <tbody>\n",
       "    <tr>\n",
       "      <th>0</th>\n",
       "      <td>dataset</td>\n",
       "      <td>images</td>\n",
       "      <td>103582_pituitary_1634.jpg</td>\n",
       "    </tr>\n",
       "    <tr>\n",
       "      <th>1</th>\n",
       "      <td>dataset</td>\n",
       "      <td>images</td>\n",
       "      <td>101724_pituitary_1933.jpg</td>\n",
       "    </tr>\n",
       "    <tr>\n",
       "      <th>2</th>\n",
       "      <td>dataset</td>\n",
       "      <td>images</td>\n",
       "      <td>104684_pituitary_1104.jpg</td>\n",
       "    </tr>\n",
       "    <tr>\n",
       "      <th>3</th>\n",
       "      <td>dataset</td>\n",
       "      <td>images</td>\n",
       "      <td>112847_pituitary_70.jpg</td>\n",
       "    </tr>\n",
       "    <tr>\n",
       "      <th>4</th>\n",
       "      <td>dataset</td>\n",
       "      <td>images</td>\n",
       "      <td>MR026175E_glioma_337.jpg</td>\n",
       "    </tr>\n",
       "  </tbody>\n",
       "</table>\n",
       "</div>"
      ],
      "text/plain": [
       "         0       1                          2\n",
       "0  dataset  images  103582_pituitary_1634.jpg\n",
       "1  dataset  images  101724_pituitary_1933.jpg\n",
       "2  dataset  images  104684_pituitary_1104.jpg\n",
       "3  dataset  images    112847_pituitary_70.jpg\n",
       "4  dataset  images   MR026175E_glioma_337.jpg"
      ]
     },
     "execution_count": 12,
     "metadata": {},
     "output_type": "execute_result"
    }
   ],
   "source": [
    "train_x_df=pd.DataFrame(train_x, columns=['path'])\n",
    "train_x_df = train_x_df.path.str.split(\"/\", expand=True)\n",
    "train_x_df[2]=train_x_df[2].sort_values()\n",
    "train_x_df.head()"
   ]
  },
  {
   "cell_type": "markdown",
   "metadata": {},
   "source": [
    "The following code creates a pandas DataFrame object containing the paths to the training masks and splits the paths by '/' using `str.split()`, storing the resulting parts in separate columns, and sorting the column containing the names of the subdirectories in ascending order."
   ]
  },
  {
   "cell_type": "code",
   "execution_count": 13,
   "metadata": {
    "colab": {
     "base_uri": "https://localhost:8080/",
     "height": 206
    },
    "id": "ZoxpHR_D5E0D",
    "outputId": "5e4cd021-b306-4289-b7fb-b679c41e8e53"
   },
   "outputs": [
    {
     "data": {
      "text/html": [
       "<div>\n",
       "<style scoped>\n",
       "    .dataframe tbody tr th:only-of-type {\n",
       "        vertical-align: middle;\n",
       "    }\n",
       "\n",
       "    .dataframe tbody tr th {\n",
       "        vertical-align: top;\n",
       "    }\n",
       "\n",
       "    .dataframe thead th {\n",
       "        text-align: right;\n",
       "    }\n",
       "</style>\n",
       "<table border=\"1\" class=\"dataframe\">\n",
       "  <thead>\n",
       "    <tr style=\"text-align: right;\">\n",
       "      <th></th>\n",
       "      <th>0</th>\n",
       "      <th>1</th>\n",
       "      <th>2</th>\n",
       "    </tr>\n",
       "  </thead>\n",
       "  <tbody>\n",
       "    <tr>\n",
       "      <th>0</th>\n",
       "      <td>dataset</td>\n",
       "      <td>masks</td>\n",
       "      <td>103582_pituitary_1634.jpg</td>\n",
       "    </tr>\n",
       "    <tr>\n",
       "      <th>1</th>\n",
       "      <td>dataset</td>\n",
       "      <td>masks</td>\n",
       "      <td>101724_pituitary_1933.jpg</td>\n",
       "    </tr>\n",
       "    <tr>\n",
       "      <th>2</th>\n",
       "      <td>dataset</td>\n",
       "      <td>masks</td>\n",
       "      <td>104684_pituitary_1104.jpg</td>\n",
       "    </tr>\n",
       "    <tr>\n",
       "      <th>3</th>\n",
       "      <td>dataset</td>\n",
       "      <td>masks</td>\n",
       "      <td>112847_pituitary_70.jpg</td>\n",
       "    </tr>\n",
       "    <tr>\n",
       "      <th>4</th>\n",
       "      <td>dataset</td>\n",
       "      <td>masks</td>\n",
       "      <td>MR026175E_glioma_337.jpg</td>\n",
       "    </tr>\n",
       "  </tbody>\n",
       "</table>\n",
       "</div>"
      ],
      "text/plain": [
       "         0      1                          2\n",
       "0  dataset  masks  103582_pituitary_1634.jpg\n",
       "1  dataset  masks  101724_pituitary_1933.jpg\n",
       "2  dataset  masks  104684_pituitary_1104.jpg\n",
       "3  dataset  masks    112847_pituitary_70.jpg\n",
       "4  dataset  masks   MR026175E_glioma_337.jpg"
      ]
     },
     "execution_count": 13,
     "metadata": {},
     "output_type": "execute_result"
    }
   ],
   "source": [
    "train_y_df=pd.DataFrame(train_y, columns=['path'])\n",
    "train_y_df = train_y_df.path.str.split(\"/\", expand=True)\n",
    "train_y_df[2]=train_y_df[2].sort_values()\n",
    "train_y_df.head()"
   ]
  },
  {
   "cell_type": "markdown",
   "metadata": {},
   "source": [
    "Here we create a pandas DataFrame object containing the paths to the validation images, splits the paths by '/' using `str.split()`, storing the resulting parts in separate columns, and sorts the column containing the names of the subdirectories in ascending order."
   ]
  },
  {
   "cell_type": "code",
   "execution_count": 14,
   "metadata": {
    "colab": {
     "base_uri": "https://localhost:8080/",
     "height": 206
    },
    "id": "IjakjsQeK1wS",
    "outputId": "904c902e-b743-43aa-b84b-73a514a2da40"
   },
   "outputs": [
    {
     "data": {
      "text/html": [
       "<div>\n",
       "<style scoped>\n",
       "    .dataframe tbody tr th:only-of-type {\n",
       "        vertical-align: middle;\n",
       "    }\n",
       "\n",
       "    .dataframe tbody tr th {\n",
       "        vertical-align: top;\n",
       "    }\n",
       "\n",
       "    .dataframe thead th {\n",
       "        text-align: right;\n",
       "    }\n",
       "</style>\n",
       "<table border=\"1\" class=\"dataframe\">\n",
       "  <thead>\n",
       "    <tr style=\"text-align: right;\">\n",
       "      <th></th>\n",
       "      <th>0</th>\n",
       "      <th>1</th>\n",
       "      <th>2</th>\n",
       "    </tr>\n",
       "  </thead>\n",
       "  <tbody>\n",
       "    <tr>\n",
       "      <th>0</th>\n",
       "      <td>dataset</td>\n",
       "      <td>images</td>\n",
       "      <td>112552_meningioma_88.jpg</td>\n",
       "    </tr>\n",
       "    <tr>\n",
       "      <th>1</th>\n",
       "      <td>dataset</td>\n",
       "      <td>images</td>\n",
       "      <td>102075_glioma_739.jpg</td>\n",
       "    </tr>\n",
       "    <tr>\n",
       "      <th>2</th>\n",
       "      <td>dataset</td>\n",
       "      <td>images</td>\n",
       "      <td>112649_pituitary_2472.jpg</td>\n",
       "    </tr>\n",
       "    <tr>\n",
       "      <th>3</th>\n",
       "      <td>dataset</td>\n",
       "      <td>images</td>\n",
       "      <td>97890_pituitary_67.jpg</td>\n",
       "    </tr>\n",
       "    <tr>\n",
       "      <th>4</th>\n",
       "      <td>dataset</td>\n",
       "      <td>images</td>\n",
       "      <td>97607_meningioma_477.jpg</td>\n",
       "    </tr>\n",
       "  </tbody>\n",
       "</table>\n",
       "</div>"
      ],
      "text/plain": [
       "         0       1                          2\n",
       "0  dataset  images   112552_meningioma_88.jpg\n",
       "1  dataset  images      102075_glioma_739.jpg\n",
       "2  dataset  images  112649_pituitary_2472.jpg\n",
       "3  dataset  images     97890_pituitary_67.jpg\n",
       "4  dataset  images   97607_meningioma_477.jpg"
      ]
     },
     "execution_count": 14,
     "metadata": {},
     "output_type": "execute_result"
    }
   ],
   "source": [
    "valid_x_df=pd.DataFrame(valid_x, columns=['path'])\n",
    "valid_x_df = valid_x_df.path.str.split(\"/\", expand=True)\n",
    "valid_x_df[2]=valid_x_df[2].sort_values()\n",
    "valid_x_df.head()"
   ]
  },
  {
   "cell_type": "markdown",
   "metadata": {},
   "source": [
    "Here we create a pandas DataFrame object containing the paths to the validation masks, splits the paths by '/' using `str.split()`, storing the resulting parts in separate columns, and sorts the column containing the names of the subdirectories in ascending order."
   ]
  },
  {
   "cell_type": "code",
   "execution_count": 15,
   "metadata": {
    "colab": {
     "base_uri": "https://localhost:8080/",
     "height": 206
    },
    "id": "dK9qhk4OLUVD",
    "outputId": "39d66127-69ac-4b3e-a189-37fbbbb5dea7"
   },
   "outputs": [
    {
     "data": {
      "text/html": [
       "<div>\n",
       "<style scoped>\n",
       "    .dataframe tbody tr th:only-of-type {\n",
       "        vertical-align: middle;\n",
       "    }\n",
       "\n",
       "    .dataframe tbody tr th {\n",
       "        vertical-align: top;\n",
       "    }\n",
       "\n",
       "    .dataframe thead th {\n",
       "        text-align: right;\n",
       "    }\n",
       "</style>\n",
       "<table border=\"1\" class=\"dataframe\">\n",
       "  <thead>\n",
       "    <tr style=\"text-align: right;\">\n",
       "      <th></th>\n",
       "      <th>0</th>\n",
       "      <th>1</th>\n",
       "      <th>2</th>\n",
       "    </tr>\n",
       "  </thead>\n",
       "  <tbody>\n",
       "    <tr>\n",
       "      <th>0</th>\n",
       "      <td>dataset</td>\n",
       "      <td>masks</td>\n",
       "      <td>112552_meningioma_88.jpg</td>\n",
       "    </tr>\n",
       "    <tr>\n",
       "      <th>1</th>\n",
       "      <td>dataset</td>\n",
       "      <td>masks</td>\n",
       "      <td>102075_glioma_739.jpg</td>\n",
       "    </tr>\n",
       "    <tr>\n",
       "      <th>2</th>\n",
       "      <td>dataset</td>\n",
       "      <td>masks</td>\n",
       "      <td>112649_pituitary_2472.jpg</td>\n",
       "    </tr>\n",
       "    <tr>\n",
       "      <th>3</th>\n",
       "      <td>dataset</td>\n",
       "      <td>masks</td>\n",
       "      <td>97890_pituitary_67.jpg</td>\n",
       "    </tr>\n",
       "    <tr>\n",
       "      <th>4</th>\n",
       "      <td>dataset</td>\n",
       "      <td>masks</td>\n",
       "      <td>97607_meningioma_477.jpg</td>\n",
       "    </tr>\n",
       "  </tbody>\n",
       "</table>\n",
       "</div>"
      ],
      "text/plain": [
       "         0      1                          2\n",
       "0  dataset  masks   112552_meningioma_88.jpg\n",
       "1  dataset  masks      102075_glioma_739.jpg\n",
       "2  dataset  masks  112649_pituitary_2472.jpg\n",
       "3  dataset  masks     97890_pituitary_67.jpg\n",
       "4  dataset  masks   97607_meningioma_477.jpg"
      ]
     },
     "execution_count": 15,
     "metadata": {},
     "output_type": "execute_result"
    }
   ],
   "source": [
    "valid_y_df=pd.DataFrame(valid_y, columns=['path'])\n",
    "valid_y_df = valid_y_df.path.str.split(\"/\", expand=True)\n",
    "valid_y_df[2]=valid_y_df[2].sort_values()\n",
    "valid_y_df.head()"
   ]
  },
  {
   "cell_type": "markdown",
   "metadata": {},
   "source": [
    "## Data Augmentation\n",
    "\n",
    "\n",
    "Here we need to initialize a random seed and imports the `ImageDataGenerator` class from the Keras library to define `img_data_gen_args` and `mask_data_gen_args` which specify the data augmentation parameters for images and masks, respectively. Two `ImageDataGenerator` objects are then created using these dictionaries. These generators are used to flow data from the dataframes of training and validation images and masks into the model. The `flow_from_dataframe()` function creates a generator that yields batches of augmented images and masks during training and validation. The `color_mode` parameter specifies the color channel format of the images and masks, and the `target_size` parameter defines the desired size of the images and masks after augmentation."
   ]
  },
  {
   "cell_type": "code",
   "execution_count": 31,
   "metadata": {
    "colab": {
     "base_uri": "https://localhost:8080/"
    },
    "id": "hD6xrtYZ5Ypc",
    "outputId": "71d96df4-92aa-4ca3-ccab-bcf3f013d603"
   },
   "outputs": [
    {
     "name": "stdout",
     "output_type": "stream",
     "text": [
      "Found 2605 validated image filenames.\n",
      "Found 2605 validated image filenames.\n",
      "Found 306 validated image filenames.\n",
      "Found 306 validated image filenames.\n"
     ]
    }
   ],
   "source": [
    "seed=42\n",
    "from keras.preprocessing.image import ImageDataGenerator\n",
    "\n",
    "img_data_gen_args = dict(rotation_range=30,\n",
    "                     width_shift_range=0.1,\n",
    "                     height_shift_range=0.1,\n",
    "                     shear_range=0.2,\n",
    "                     zoom_range=0.1,\n",
    "                     horizontal_flip=True,\n",
    "                     vertical_flip=True,\n",
    "                     fill_mode='reflect') \n",
    "\n",
    "mask_data_gen_args = dict(rotation_range=30,\n",
    "                     width_shift_range=0.1,\n",
    "                     height_shift_range=0.1,\n",
    "                     shear_range=0.2,\n",
    "                     zoom_range=0.1,\n",
    "                     horizontal_flip=True,\n",
    "                     vertical_flip=True,\n",
    "                     fill_mode='reflect') \n",
    "image_data_generator = ImageDataGenerator(**img_data_gen_args)\n",
    "# image_data_generator.fit(X_train, augment=True, seed=seed)\n",
    "mask_data_generator = ImageDataGenerator(**mask_data_gen_args)\n",
    "# mask_data_generator.fit(Y_train, augment=True, seed=seed)\n",
    "\n",
    "image_generator = image_data_generator.flow_from_dataframe(dataframe=train_x_df, x_col=2, directory=image_path, class_mode=None, seed=seed,color_mode=\"rgb\", batch_size=batch_size, target_size=(IMG_WIDTH,IMG_HEIGHT))\n",
    "mask_generator = mask_data_generator.flow_from_dataframe(dataframe=train_y_df, x_col=2, directory=mask_path, class_mode=None, seed=seed,color_mode=\"grayscale\", batch_size=batch_size, target_size=(IMG_WIDTH,IMG_HEIGHT))\n",
    "\n",
    "valid_img_generator = image_data_generator.flow_from_dataframe(dataframe=valid_x_df, x_col=2, directory=image_path, class_mode=None, seed=seed,color_mode=\"rgb\", batch_size=batch_size, target_size=(IMG_WIDTH,IMG_HEIGHT))\n",
    "valid_mask_generator = mask_data_generator.flow_from_dataframe(dataframe=valid_y_df, x_col=2, directory=mask_path, class_mode=None, seed=seed,color_mode=\"grayscale\", batch_size=batch_size, target_size=(IMG_WIDTH,IMG_HEIGHT))"
   ]
  },
  {
   "cell_type": "code",
   "execution_count": 1,
   "metadata": {
    "colab": {
     "base_uri": "https://localhost:8080/"
    },
    "id": "-atQqJTcD-Bf",
    "outputId": "8d38f8a5-2971-44f0-db20-4ec2ba066e08"
   },
   "outputs": [
    {
     "ename": "NameError",
     "evalue": "name 'image_generator' is not defined",
     "output_type": "error",
     "traceback": [
      "\u001b[1;31m---------------------------------------------------------------------------\u001b[0m",
      "\u001b[1;31mNameError\u001b[0m                                 Traceback (most recent call last)",
      "\u001b[1;32m<ipython-input-1-7425e3e4084a>\u001b[0m in \u001b[0;36m<module>\u001b[1;34m\u001b[0m\n\u001b[0;32m      1\u001b[0m \u001b[1;31m# Sanity check\u001b[0m\u001b[1;33m\u001b[0m\u001b[1;33m\u001b[0m\u001b[1;33m\u001b[0m\u001b[0m\n\u001b[1;32m----> 2\u001b[1;33m \u001b[0mprint\u001b[0m\u001b[1;33m(\u001b[0m\u001b[1;34mf\"Train: {len(image_generator)}\"\u001b[0m\u001b[1;33m)\u001b[0m\u001b[1;33m\u001b[0m\u001b[1;33m\u001b[0m\u001b[0m\n\u001b[0m\u001b[0;32m      3\u001b[0m \u001b[0mprint\u001b[0m\u001b[1;33m(\u001b[0m\u001b[1;34mf\"Valid: {len(valid_img_generator)}\"\u001b[0m\u001b[1;33m)\u001b[0m\u001b[1;33m\u001b[0m\u001b[1;33m\u001b[0m\u001b[0m\n",
      "\u001b[1;31mNameError\u001b[0m: name 'image_generator' is not defined"
     ]
    }
   ],
   "source": [
    "# Sanity check\n",
    "print(f\"Train: {len(image_generator)}\")\n",
    "print(f\"Valid: {len(valid_img_generator)}\")"
   ]
  },
  {
   "cell_type": "code",
   "execution_count": 33,
   "metadata": {
    "colab": {
     "base_uri": "https://localhost:8080/"
    },
    "id": "I1sOUKZjHPAR",
    "outputId": "355a61aa-8cb9-4928-824c-814d30b7927f"
   },
   "outputs": [
    {
     "data": {
      "text/plain": [
       "((128, 128, 3), (128, 128, 1))"
      ]
     },
     "execution_count": 33,
     "metadata": {},
     "output_type": "execute_result"
    }
   ],
   "source": [
    "# check image & mask dimensions\n",
    "image_generator[1][0].shape, mask_generator[1][0].shape"
   ]
  },
  {
   "cell_type": "code",
   "execution_count": 34,
   "metadata": {
    "colab": {
     "base_uri": "https://localhost:8080/"
    },
    "id": "TjvaLvRiMkk3",
    "outputId": "49d831d9-b313-4ccd-8b96-4910b254561b"
   },
   "outputs": [
    {
     "data": {
      "text/plain": [
       "((128, 128, 3), (128, 128, 1))"
      ]
     },
     "execution_count": 34,
     "metadata": {},
     "output_type": "execute_result"
    }
   ],
   "source": [
    "valid_img_generator[1][0].shape, valid_mask_generator[1][0].shape"
   ]
  },
  {
   "cell_type": "code",
   "execution_count": 30,
   "metadata": {
    "colab": {
     "base_uri": "https://localhost:8080/",
     "height": 285
    },
    "id": "e01tPqYuHKBF",
    "outputId": "fe08e605-42cb-49e4-b849-cb0e735baf33"
   },
   "outputs": [
    {
     "data": {
      "text/plain": [
       "<matplotlib.image.AxesImage at 0x7eff4ab839a0>"
      ]
     },
     "execution_count": 30,
     "metadata": {},
     "output_type": "execute_result"
    },
    {
     "data": {
      "image/png": "[encoded data removed]",
      "text/plain": [
       "<Figure size 432x288 with 1 Axes>"
      ]
     },
     "metadata": {},
     "output_type": "display_data"
    }
   ],
   "source": [
    "# sanity check\n",
    "i=np.random.randint(0, len(image_generator) - 1)\n",
    "j=np.random.randint(0, batch_size - 1)\n",
    "plt.imshow(image_generator[i][j]/255)\n",
    "plt.imshow(mask_generator[i][j], alpha=0.2)"
   ]
  },
  {
   "cell_type": "markdown",
   "metadata": {},
   "source": [
    "The code below defines two functions: `adjust_data` and `my_image_mask_generator`. `adjust_data` normalizes the pixel values of an image and its corresponding mask and returns a tuple containing the normalized image and binary mask. `my_image_mask_generator` takes two generators and generates pairs of normalized images and binary masks by iterating through the generators and calling `adjust_data` for each pair. The function yields each pair as a tuple. The code can be used to prepare input data for deep learning models."
   ]
  },
  {
   "cell_type": "code",
   "execution_count": 37,
   "metadata": {
    "id": "EMXOwZadD-05"
   },
   "outputs": [],
   "source": [
    "# Normalising image pixel values to range 0-1 and convert masks pixels to 1 or 0 only (binarize)\n",
    "def adjust_data(img,mask):\n",
    "    img = img / 255.\n",
    "    mask = mask / 255\n",
    "    mask[mask > 0] = 1\n",
    "    mask[mask <= 0] = 0\n",
    "    return (img, mask)\n",
    "def my_image_mask_generator(image_generator, mask_generator):\n",
    "    train_generator = zip(image_generator, mask_generator)\n",
    "    for (img, mask) in train_generator:\n",
    "         img, mask = adjust_data(img, mask)\n",
    "         yield (img, mask)"
   ]
  },
  {
   "cell_type": "markdown",
   "metadata": {},
   "source": [
    "The code below initializes the training and validation datasets using the custom generator function `my_image_mask_generator()`. The `train_dataset` is created by calling `my_image_mask_generator()` with the `image_generator` and `mask_generator`, while valid_dataset is created by calling `my_image_mask_generator()` with `valid_img_generator` and `valid_mask_generator`. These generators yield pairs of augmented images and masks during training and validation."
   ]
  },
  {
   "cell_type": "code",
   "execution_count": 38,
   "metadata": {
    "id": "nvFy0jNdEBpw"
   },
   "outputs": [],
   "source": [
    "train_dataset = my_image_mask_generator(image_generator, mask_generator)\n",
    "valid_dataset = my_image_mask_generator(valid_img_generator, valid_mask_generator)"
   ]
  },
  {
   "cell_type": "markdown",
   "metadata": {},
   "source": [
    "We need to calculate the number of batches in the training and validation datasets using `steps_per_epoch` and `val_steps` variables, respectively. `steps_per_epoch` is calculated by multiplying the length of `train_x` by 3 and dividing the result by batch_size. Similarly, `val_steps` is calculated by multiplying the length of `valid_x` by 3 and dividing the result by `batch_size`. These variables are used to specify the number of training and validation steps during model training."
   ]
  },
  {
   "cell_type": "code",
   "execution_count": 39,
   "metadata": {
    "id": "CQyQCiEYEE49"
   },
   "outputs": [],
   "source": [
    "steps_per_epoch = 3*(len(train_x))//batch_size\n",
    "val_steps = 3*(len(valid_x))//batch_size"
   ]
  },
  {
   "cell_type": "markdown",
   "metadata": {},
   "source": [
    "Her we need to define three functions: `dice_coef`, `dice_loss`, and `iou`, which are used to evaluate the performance of a segmentation model.\n",
    "\n",
    "- `dice_coef` calculates the dice coefficient between the ground truth mask and predicted mask using the intersection of the two masks.\n",
    "\n",
    "- `dice_loss` returns the complement of the dice coefficient, which is used as a loss function.\n",
    "\n",
    "- `iou` calculates the intersection-over-union metric between the ground truth mask and predicted mask using the intersection and sum of the masks.\n",
    "\n",
    "These functions can be used to evaluate the accuracy of segmentation models during training or testing."
   ]
  },
  {
   "cell_type": "code",
   "execution_count": 40,
   "metadata": {
    "id": "5wqgTaZ1EG8Z"
   },
   "outputs": [],
   "source": [
    "# Evaluation metrics: dice coefficient \n",
    "smooth = 1e-15\n",
    "def dice_coef(y_true, y_pred):\n",
    "    y_true = tf.keras.layers.Flatten()(y_true)\n",
    "    y_pred = tf.keras.layers.Flatten()(y_pred)\n",
    "    intersection = tf.reduce_sum(y_true * y_pred)\n",
    "    return (2. * intersection + smooth) / (tf.reduce_sum(y_true) + tf.reduce_sum(y_pred) + smooth)\n",
    "\n",
    "def dice_loss(y_true, y_pred):\n",
    "    return 1.0 - dice_coef(y_true, y_pred)\n",
    "\n",
    "# Evaluation metrics: iou\n",
    "def iou(y_true, y_pred, smooth = 1.):\n",
    "    intersection = K.sum(y_true * y_pred)\n",
    "    sum_ = K.sum(y_true) + K.sum(y_pred)\n",
    "    jac = (intersection + smooth) / (sum_ - intersection + smooth)\n",
    "    return jac"
   ]
  },
  {
   "cell_type": "markdown",
   "metadata": {},
   "source": [
    "## Modeling"
   ]
  },
  {
   "cell_type": "markdown",
   "metadata": {},
   "source": [
    "In this project, we will use a convolutional neural network that was developed for biomedical image segmentation at the Computer Science Department of the University of Freiburg called **VGG16**"
   ]
  },
  {
   "cell_type": "markdown",
   "metadata": {},
   "source": [
    "**The 16 in VGG16** refers to 16 **layers** that have **weights**. In **VGG16** there are thirteen convolutional layers , five Max Pooling layers, and three Dense layers which sum up to 21 layers but it has only sixteen weight layers i.e., learnable parameters layer.\n",
    "\n",
    "**VGG16** is a convolutional neural network model that's used for image recognition. It's unique in that it has only 16 layers that have weights, as opposed to relying on a large number of hyper-parameters. It's considered one of the best vision model architectures."
   ]
  },
  {
   "cell_type": "markdown",
   "metadata": {},
   "source": [
    "- It includes convolutional layers, max pooling, flattening, and fully connected layers\n",
    "- `Max pooling` is used to downsample the feature maps and reduce the input dimensionality\n",
    "- Flattening transforms the multidimensional tensor into a single long vector\n",
    "- Fully connected layers transform the flattened output into class scores\n",
    "- The last layer uses softmax to convert the scores into a probability distribution over possible classes\n",
    "- `VGG16` is a powerful tool for image recognition and classification tasks"
   ]
  },
  {
   "cell_type": "markdown",
   "metadata": {},
   "source": [
    "<img src=https://dl.acm.org/cms/attachment/75ba2dda-9f47-427a-87bf-bcd4ac6627b3/image7.jpg\n",
    "     align=\"middle\"\n",
    "     width=800/>"
   ]
  },
  {
   "cell_type": "markdown",
   "metadata": {},
   "source": [
    "Here we have a function that returns an instance of a U-Net model with VGG16 pre-trained weights for image segmentation. The VGG16 model is loaded with pre-trained weights from ImageNet and its layers are frozen to avoid retraining. The U-Net model consists of four up-sampling blocks, each with a transposed convolution layer followed by two convolution layers. The final layer is a 1x1 convolution layer with sigmoid activation to output the segmentation mask. Finally, an instance of the TL_unet_model is created and its summary is printed. Overall, this code creates a powerful image segmentation model using pre-trained weights."
   ]
  },
  {
   "cell_type": "code",
   "execution_count": 41,
   "metadata": {
    "colab": {
     "base_uri": "https://localhost:8080/"
    },
    "id": "S6ojwEgyV69g",
    "outputId": "f3237ec2-618e-42fe-aaad-598322db0d35"
   },
   "outputs": [
    {
     "name": "stdout",
     "output_type": "stream",
     "text": [
      "(None, 8, 8, 512)\n",
      "(None, 16, 16, 512)\n",
      "(None, 32, 32, 256)\n",
      "(None, 64, 64, 128)\n",
      "(None, 128, 128, 64)\n",
      "(None, 128, 128, 1)\n",
      "Model: \"TL_UNET\"\n",
      "__________________________________________________________________________________________________\n",
      " Layer (type)                   Output Shape         Param #     Connected to                     \n",
      "==================================================================================================\n",
      " input_1 (InputLayer)           [(None, 128, 128, 3  0           []                               \n",
      "                                )]                                                                \n",
      "                                                                                                  \n",
      " block1_conv1 (Conv2D)          (None, 128, 128, 64  1792        ['input_1[0][0]']                \n",
      "                                )                                                                 \n",
      "                                                                                                  \n",
      " block1_conv2 (Conv2D)          (None, 128, 128, 64  36928       ['block1_conv1[0][0]']           \n",
      "                                )                                                                 \n",
      "                                                                                                  \n",
      " block1_pool (MaxPooling2D)     (None, 64, 64, 64)   0           ['block1_conv2[0][0]']           \n",
      "                                                                                                  \n",
      " block2_conv1 (Conv2D)          (None, 64, 64, 128)  73856       ['block1_pool[0][0]']            \n",
      "                                                                                                  \n",
      " block2_conv2 (Conv2D)          (None, 64, 64, 128)  147584      ['block2_conv1[0][0]']           \n",
      "                                                                                                  \n",
      " block2_pool (MaxPooling2D)     (None, 32, 32, 128)  0           ['block2_conv2[0][0]']           \n",
      "                                                                                                  \n",
      " block3_conv1 (Conv2D)          (None, 32, 32, 256)  295168      ['block2_pool[0][0]']            \n",
      "                                                                                                  \n",
      " block3_conv2 (Conv2D)          (None, 32, 32, 256)  590080      ['block3_conv1[0][0]']           \n",
      "                                                                                                  \n",
      " block3_conv3 (Conv2D)          (None, 32, 32, 256)  590080      ['block3_conv2[0][0]']           \n",
      "                                                                                                  \n",
      " block3_pool (MaxPooling2D)     (None, 16, 16, 256)  0           ['block3_conv3[0][0]']           \n",
      "                                                                                                  \n",
      " block4_conv1 (Conv2D)          (None, 16, 16, 512)  1180160     ['block3_pool[0][0]']            \n",
      "                                                                                                  \n",
      " block4_conv2 (Conv2D)          (None, 16, 16, 512)  2359808     ['block4_conv1[0][0]']           \n",
      "                                                                                                  \n",
      " block4_conv3 (Conv2D)          (None, 16, 16, 512)  2359808     ['block4_conv2[0][0]']           \n",
      "                                                                                                  \n",
      " block4_pool (MaxPooling2D)     (None, 8, 8, 512)    0           ['block4_conv3[0][0]']           \n",
      "                                                                                                  \n",
      " block5_conv1 (Conv2D)          (None, 8, 8, 512)    2359808     ['block4_pool[0][0]']            \n",
      "                                                                                                  \n",
      " block5_conv2 (Conv2D)          (None, 8, 8, 512)    2359808     ['block5_conv1[0][0]']           \n",
      "                                                                                                  \n",
      " block5_conv3 (Conv2D)          (None, 8, 8, 512)    2359808     ['block5_conv2[0][0]']           \n",
      "                                                                                                  \n",
      " conv2d_transpose (Conv2DTransp  (None, 16, 16, 512)  1049088    ['block5_conv3[0][0]']           \n",
      " ose)                                                                                             \n",
      "                                                                                                  \n",
      " concatenate (Concatenate)      (None, 16, 16, 1024  0           ['conv2d_transpose[0][0]',       \n",
      "                                )                                 'block4_conv3[0][0]']           \n",
      "                                                                                                  \n",
      " conv2d (Conv2D)                (None, 16, 16, 512)  4719104     ['concatenate[0][0]']            \n",
      "                                                                                                  \n",
      " conv2d_1 (Conv2D)              (None, 16, 16, 512)  2359808     ['conv2d[0][0]']                 \n",
      "                                                                                                  \n",
      " conv2d_transpose_1 (Conv2DTran  (None, 32, 32, 256)  524544     ['conv2d_1[0][0]']               \n",
      " spose)                                                                                           \n",
      "                                                                                                  \n",
      " concatenate_1 (Concatenate)    (None, 32, 32, 512)  0           ['conv2d_transpose_1[0][0]',     \n",
      "                                                                  'block3_conv3[0][0]']           \n",
      "                                                                                                  \n",
      " conv2d_2 (Conv2D)              (None, 32, 32, 256)  1179904     ['concatenate_1[0][0]']          \n",
      "                                                                                                  \n",
      " conv2d_3 (Conv2D)              (None, 32, 32, 256)  590080      ['conv2d_2[0][0]']               \n",
      "                                                                                                  \n",
      " conv2d_transpose_2 (Conv2DTran  (None, 64, 64, 128)  131200     ['conv2d_3[0][0]']               \n",
      " spose)                                                                                           \n",
      "                                                                                                  \n",
      " concatenate_2 (Concatenate)    (None, 64, 64, 256)  0           ['conv2d_transpose_2[0][0]',     \n",
      "                                                                  'block2_conv2[0][0]']           \n",
      "                                                                                                  \n",
      " conv2d_4 (Conv2D)              (None, 64, 64, 128)  295040      ['concatenate_2[0][0]']          \n",
      "                                                                                                  \n",
      " conv2d_5 (Conv2D)              (None, 64, 64, 128)  147584      ['conv2d_4[0][0]']               \n",
      "                                                                                                  \n",
      " conv2d_transpose_3 (Conv2DTran  (None, 128, 128, 64  32832      ['conv2d_5[0][0]']               \n",
      " spose)                         )                                                                 \n",
      "                                                                                                  \n",
      " concatenate_3 (Concatenate)    (None, 128, 128, 12  0           ['conv2d_transpose_3[0][0]',     \n",
      "                                8)                                'block1_conv2[0][0]']           \n",
      "                                                                                                  \n",
      " conv2d_6 (Conv2D)              (None, 128, 128, 64  73792       ['concatenate_3[0][0]']          \n",
      "                                )                                                                 \n",
      "                                                                                                  \n",
      " conv2d_7 (Conv2D)              (None, 128, 128, 64  36928       ['conv2d_6[0][0]']               \n",
      "                                )                                                                 \n",
      "                                                                                                  \n",
      " conv2d_8 (Conv2D)              (None, 128, 128, 1)  65          ['conv2d_7[0][0]']               \n",
      "                                                                                                  \n",
      "==================================================================================================\n",
      "Total params: 25,854,657\n",
      "Trainable params: 11,139,969\n",
      "Non-trainable params: 14,714,688\n",
      "__________________________________________________________________________________________________\n"
     ]
    }
   ],
   "source": [
    "# Unet pre-trained model with VGG16 (weights: imagenet) \n",
    "def TL_unet_model(input_shape):\n",
    "    # input: input_shape (height, width, channels) \n",
    "    # return model\n",
    "    input_shape = input_shape\n",
    "    base_VGG = VGG16(include_top = False, \n",
    "                   weights = \"imagenet\", \n",
    "                   input_shape = input_shape)\n",
    "\n",
    "    # freezing all layers in VGG16 \n",
    "    for layer in base_VGG.layers: \n",
    "        layer.trainable = False\n",
    "\n",
    "    # the bridge (exclude the last maxpooling layer in VGG16) \n",
    "    bridge = base_VGG.get_layer(\"block5_conv3\").output\n",
    "    print(bridge.shape)\n",
    "\n",
    "    # Decoder \n",
    "    up1 = Conv2DTranspose(512, (2, 2), strides=(2, 2), padding='same')(bridge)\n",
    "    print(up1.shape)\n",
    "    concat_1 = concatenate([up1, base_VGG.get_layer(\"block4_conv3\").output], axis=3)\n",
    "    conv6 = Conv2D(512, (3, 3), activation='relu', padding='same')(concat_1)\n",
    "    conv6 = Conv2D(512, (3, 3), activation='relu', padding='same')(conv6)\n",
    "\n",
    "    up2 = Conv2DTranspose(256, (2, 2), strides=(2, 2), padding='same')(conv6)\n",
    "    print(up2.shape)\n",
    "    concat_2 = concatenate([up2, base_VGG.get_layer(\"block3_conv3\").output], axis=3)\n",
    "    conv7 = Conv2D(256, (3, 3), activation='relu', padding='same')(concat_2)\n",
    "    conv7 = Conv2D(256, (3, 3), activation='relu', padding='same')(conv7)\n",
    "\n",
    "    up3 = Conv2DTranspose(128, (2, 2), strides=(2, 2), padding='same')(conv7)\n",
    "    print(up3.shape)\n",
    "    concat_3 = concatenate([up3, base_VGG.get_layer(\"block2_conv2\").output], axis=3)\n",
    "    conv8 = Conv2D(128, (3, 3), activation='relu', padding='same')(concat_3)\n",
    "    conv8 = Conv2D(128, (3, 3), activation='relu', padding='same')(conv8)\n",
    "\n",
    "    up4 = Conv2DTranspose(64, (2, 2), strides=(2, 2), padding='same')(conv8)\n",
    "    print(up4.shape)\n",
    "    concat_4 = concatenate([up4, base_VGG.get_layer(\"block1_conv2\").output], axis=3)\n",
    "    conv9 = Conv2D(64, (3, 3), activation='relu', padding='same')(concat_4)\n",
    "    conv9 = Conv2D(64, (3, 3), activation='relu', padding='same')(conv9)\n",
    "\n",
    "    conv10 = Conv2D(1, (1, 1), activation='sigmoid')(conv9)\n",
    "    print(conv10.shape)\n",
    "\n",
    "    model_ = Model(inputs=[base_VGG.input], outputs=[conv10], name='TL_UNET')\n",
    "\n",
    "    return model_\n",
    "model = TL_unet_model((IMG_WIDTH, IMG_HEIGHT, IMG_CHANNELS))\n",
    "model.summary()\n"
   ]
  },
  {
   "cell_type": "markdown",
   "metadata": {},
   "source": [
    "The code snippet provided compiles a Keras model with a specified optimizer, loss function, and various evaluation metrics.\n",
    "\n",
    "- The `optimizer` is a pre-defined optimization algorithm used for training the model by updating its weights to minimize the loss.\n",
    "- The `loss` function is set to `binary_crossentropy`, which is commonly used for binary classification tasks. This function measures the difference between the true labels and the predicted probabilities.\n",
    "- The `metrics` parameter is a list of evaluation metrics used to assess the model's performance during training and validation. In this case, the metrics include:\n",
    "    - `dice_coef`: The Dice coefficient, which measures the similarity between two sets of binary data. It is often used to evaluate segmentation models.\n",
    "    -`accuracy`: The proportion of correctly classified instances out of the total instances.\n",
    "    - `tf.keras.metrics.BinaryIoU(threshold=0.5)`: The Intersection over Union (IoU) metric with a threshold of 0.5, which measures the overlap between the predicted and true binary masks."
   ]
  },
  {
   "cell_type": "code",
   "execution_count": 42,
   "metadata": {
    "id": "1gHteT69V_DQ"
   },
   "outputs": [],
   "source": [
    "model.compile(optimizer=optimizer, loss='binary_crossentropy', metrics=[dice_coef,'accuracy', tf.keras.metrics.BinaryIoU(threshold=0.5)])"
   ]
  },
  {
   "cell_type": "markdown",
   "metadata": {},
   "source": [
    "We need to define a list of Keras callbacks for model training:\n",
    "\n",
    "- `ModelCheckpoint`: Saves the best model weights based on validation loss.\n",
    "- `ReduceLROnPlateau`: Reduces the learning rate when validation loss stops improving.\n",
    "- `CSVLogger`: Logs epoch results to a CSV file.\n",
    "- `EarlyStopping`: Stops training when validation loss stops improving after a specified number of epochs."
   ]
  },
  {
   "cell_type": "code",
   "execution_count": 43,
   "metadata": {
    "id": "BsyWbq5IWBOj"
   },
   "outputs": [],
   "source": [
    "callbacks = [\n",
    "        tf.keras.callbacks.ModelCheckpoint(model_path, verbose=1, save_best_only=True),\n",
    "        tf.keras.callbacks.ReduceLROnPlateau(monitor='val_loss', factor=0.1, patience=5, min_lr=1e-9, verbose=1),\n",
    "        tf.keras.callbacks.CSVLogger(csv_path),\n",
    "        tf.keras.callbacks.EarlyStopping(monitor='val_loss', patience=10, restore_best_weights=False),\n",
    "    ]"
   ]
  },
  {
   "cell_type": "markdown",
   "metadata": {},
   "source": [
    "WE have here Keras model using the fit method with the following parameters:\n",
    "\n",
    "- `train_dataset`: The training dataset.\n",
    "- `steps_per_epoch`: Number of steps per epoch.\n",
    "- `num_epochs`: Total number of training epochs.\n",
    "- `validation_data`: The validation dataset.\n",
    "- `validation_steps`: Number of steps per validation epoch.\n",
    "- `callbacks`: A list of Keras callbacks to monitor and adjust training behavior."
   ]
  },
  {
   "cell_type": "code",
   "execution_count": 44,
   "metadata": {
    "colab": {
     "base_uri": "https://localhost:8080/"
    },
    "id": "6VKddPowWD9D",
    "outputId": "614a6167-4f62-41c8-c015-8d9d2e93f3f7"
   },
   "outputs": [
    {
     "name": "stdout",
     "output_type": "stream",
     "text": [
      "Epoch 1/100\n"
     ]
    },
    {
     "name": "stderr",
     "output_type": "stream",
     "text": [
      "2023-03-19 17:27:41.569408: I tensorflow/stream_executor/cuda/cuda_dnn.cc:368] Loaded cuDNN version 8500\n",
      "2023-03-19 17:27:42.102378: I tensorflow/core/platform/default/subprocess.cc:304] Start cannot spawn child process: No such file or directory\n"
     ]
    },
    {
     "name": "stdout",
     "output_type": "stream",
     "text": [
      "781/781 [==============================] - ETA: 0s - loss: 0.0697 - dice_coef: 0.3837 - accuracy: 0.9767 - binary_io_u: 0.6208\n",
      "Epoch 1: val_loss improved from inf to 0.04630, saving model to files/best_model.h5\n",
      "781/781 [==============================] - 122s 151ms/step - loss: 0.0697 - dice_coef: 0.3837 - accuracy: 0.9767 - binary_io_u: 0.6208 - val_loss: 0.0463 - val_dice_coef: 0.4897 - val_accuracy: 0.9841 - val_binary_io_u: 0.6649 - lr: 1.0000e-04\n",
      "Epoch 2/100\n",
      "781/781 [==============================] - ETA: 0s - loss: 0.0341 - dice_coef: 0.5773 - accuracy: 0.9876 - binary_io_u: 0.7532\n",
      "Epoch 2: val_loss improved from 0.04630 to 0.03226, saving model to files/best_model.h5\n",
      "781/781 [==============================] - 117s 150ms/step - loss: 0.0341 - dice_coef: 0.5773 - accuracy: 0.9876 - binary_io_u: 0.7532 - val_loss: 0.0323 - val_dice_coef: 0.6212 - val_accuracy: 0.9881 - val_binary_io_u: 0.7700 - lr: 1.0000e-04\n",
      "Epoch 3/100\n",
      "781/781 [==============================] - ETA: 0s - loss: 0.0298 - dice_coef: 0.6266 - accuracy: 0.9890 - binary_io_u: 0.7799\n",
      "Epoch 3: val_loss improved from 0.03226 to 0.03063, saving model to files/best_model.h5\n",
      "781/781 [==============================] - 117s 151ms/step - loss: 0.0298 - dice_coef: 0.6266 - accuracy: 0.9890 - binary_io_u: 0.7799 - val_loss: 0.0306 - val_dice_coef: 0.6200 - val_accuracy: 0.9887 - val_binary_io_u: 0.7776 - lr: 1.0000e-04\n",
      "Epoch 4/100\n",
      "781/781 [==============================] - ETA: 0s - loss: 0.0270 - dice_coef: 0.6587 - accuracy: 0.9899 - binary_io_u: 0.7968\n",
      "Epoch 4: val_loss did not improve from 0.03063\n",
      "781/781 [==============================] - 116s 149ms/step - loss: 0.0270 - dice_coef: 0.6587 - accuracy: 0.9899 - binary_io_u: 0.7968 - val_loss: 0.0315 - val_dice_coef: 0.6686 - val_accuracy: 0.9891 - val_binary_io_u: 0.7807 - lr: 1.0000e-04\n",
      "Epoch 5/100\n",
      "781/781 [==============================] - ETA: 0s - loss: 0.0249 - dice_coef: 0.6865 - accuracy: 0.9906 - binary_io_u: 0.8115\n",
      "Epoch 5: val_loss did not improve from 0.03063\n",
      "781/781 [==============================] - 117s 149ms/step - loss: 0.0249 - dice_coef: 0.6865 - accuracy: 0.9906 - binary_io_u: 0.8115 - val_loss: 0.0329 - val_dice_coef: 0.6640 - val_accuracy: 0.9889 - val_binary_io_u: 0.7744 - lr: 1.0000e-04\n",
      "Epoch 6/100\n",
      "781/781 [==============================] - ETA: 0s - loss: 0.0237 - dice_coef: 0.6990 - accuracy: 0.9910 - binary_io_u: 0.8194\n",
      "Epoch 6: val_loss improved from 0.03063 to 0.02748, saving model to files/best_model.h5\n",
      "781/781 [==============================] - 116s 149ms/step - loss: 0.0237 - dice_coef: 0.6990 - accuracy: 0.9910 - binary_io_u: 0.8194 - val_loss: 0.0275 - val_dice_coef: 0.6930 - val_accuracy: 0.9898 - val_binary_io_u: 0.8050 - lr: 1.0000e-04\n",
      "Epoch 7/100\n",
      "781/781 [==============================] - ETA: 0s - loss: 0.0219 - dice_coef: 0.7164 - accuracy: 0.9916 - binary_io_u: 0.8290\n",
      "Epoch 7: val_loss did not improve from 0.02748\n",
      "781/781 [==============================] - 117s 149ms/step - loss: 0.0219 - dice_coef: 0.7164 - accuracy: 0.9916 - binary_io_u: 0.8290 - val_loss: 0.0277 - val_dice_coef: 0.7063 - val_accuracy: 0.9901 - val_binary_io_u: 0.8045 - lr: 1.0000e-04\n",
      "Epoch 8/100\n",
      "781/781 [==============================] - ETA: 0s - loss: 0.0217 - dice_coef: 0.7229 - accuracy: 0.9917 - binary_io_u: 0.8324\n",
      "Epoch 8: val_loss improved from 0.02748 to 0.02628, saving model to files/best_model.h5\n",
      "781/781 [==============================] - 117s 149ms/step - loss: 0.0217 - dice_coef: 0.7229 - accuracy: 0.9917 - binary_io_u: 0.8324 - val_loss: 0.0263 - val_dice_coef: 0.6998 - val_accuracy: 0.9901 - val_binary_io_u: 0.8127 - lr: 1.0000e-04\n",
      "Epoch 9/100\n",
      "781/781 [==============================] - ETA: 0s - loss: 0.0200 - dice_coef: 0.7388 - accuracy: 0.9922 - binary_io_u: 0.8411\n",
      "Epoch 9: val_loss did not improve from 0.02628\n",
      "781/781 [==============================] - 117s 150ms/step - loss: 0.0200 - dice_coef: 0.7388 - accuracy: 0.9922 - binary_io_u: 0.8411 - val_loss: 0.0268 - val_dice_coef: 0.7248 - val_accuracy: 0.9904 - val_binary_io_u: 0.8177 - lr: 1.0000e-04\n",
      "Epoch 10/100\n",
      "781/781 [==============================] - ETA: 0s - loss: 0.0193 - dice_coef: 0.7496 - accuracy: 0.9925 - binary_io_u: 0.8469\n",
      "Epoch 10: val_loss did not improve from 0.02628\n",
      "781/781 [==============================] - 117s 150ms/step - loss: 0.0193 - dice_coef: 0.7496 - accuracy: 0.9925 - binary_io_u: 0.8469 - val_loss: 0.0270 - val_dice_coef: 0.7272 - val_accuracy: 0.9905 - val_binary_io_u: 0.8167 - lr: 1.0000e-04\n",
      "Epoch 11/100\n",
      "781/781 [==============================] - ETA: 0s - loss: 0.0187 - dice_coef: 0.7566 - accuracy: 0.9927 - binary_io_u: 0.8509\n",
      "Epoch 11: val_loss improved from 0.02628 to 0.02612, saving model to files/best_model.h5\n",
      "781/781 [==============================] - 117s 150ms/step - loss: 0.0187 - dice_coef: 0.7566 - accuracy: 0.9927 - binary_io_u: 0.8509 - val_loss: 0.0261 - val_dice_coef: 0.7203 - val_accuracy: 0.9902 - val_binary_io_u: 0.8194 - lr: 1.0000e-04\n",
      "Epoch 12/100\n",
      "781/781 [==============================] - ETA: 0s - loss: 0.0181 - dice_coef: 0.7624 - accuracy: 0.9929 - binary_io_u: 0.8545\n",
      "Epoch 12: val_loss did not improve from 0.02612\n",
      "781/781 [==============================] - 117s 150ms/step - loss: 0.0181 - dice_coef: 0.7624 - accuracy: 0.9929 - binary_io_u: 0.8545 - val_loss: 0.0288 - val_dice_coef: 0.7205 - val_accuracy: 0.9902 - val_binary_io_u: 0.8105 - lr: 1.0000e-04\n",
      "Epoch 13/100\n",
      "781/781 [==============================] - ETA: 0s - loss: 0.0174 - dice_coef: 0.7723 - accuracy: 0.9932 - binary_io_u: 0.8592\n",
      "Epoch 13: val_loss did not improve from 0.02612\n",
      "781/781 [==============================] - 117s 150ms/step - loss: 0.0174 - dice_coef: 0.7723 - accuracy: 0.9932 - binary_io_u: 0.8592 - val_loss: 0.0266 - val_dice_coef: 0.7285 - val_accuracy: 0.9905 - val_binary_io_u: 0.8153 - lr: 1.0000e-04\n",
      "Epoch 14/100\n",
      "781/781 [==============================] - ETA: 0s - loss: 0.0169 - dice_coef: 0.7779 - accuracy: 0.9933 - binary_io_u: 0.8626\n",
      "Epoch 14: val_loss did not improve from 0.02612\n",
      "781/781 [==============================] - 117s 149ms/step - loss: 0.0169 - dice_coef: 0.7779 - accuracy: 0.9933 - binary_io_u: 0.8626 - val_loss: 0.0295 - val_dice_coef: 0.7376 - val_accuracy: 0.9906 - val_binary_io_u: 0.8150 - lr: 1.0000e-04\n",
      "Epoch 15/100\n",
      "781/781 [==============================] - ETA: 0s - loss: 0.0165 - dice_coef: 0.7841 - accuracy: 0.9935 - binary_io_u: 0.8661\n",
      "Epoch 15: val_loss improved from 0.02612 to 0.02612, saving model to files/best_model.h5\n",
      "781/781 [==============================] - 117s 151ms/step - loss: 0.0165 - dice_coef: 0.7841 - accuracy: 0.9935 - binary_io_u: 0.8661 - val_loss: 0.0261 - val_dice_coef: 0.7495 - val_accuracy: 0.9908 - val_binary_io_u: 0.8258 - lr: 1.0000e-04\n",
      "Epoch 16/100\n",
      "781/781 [==============================] - ETA: 0s - loss: 0.0159 - dice_coef: 0.7900 - accuracy: 0.9937 - binary_io_u: 0.8691\n",
      "Epoch 16: val_loss improved from 0.02612 to 0.02556, saving model to files/best_model.h5\n",
      "781/781 [==============================] - 118s 151ms/step - loss: 0.0159 - dice_coef: 0.7900 - accuracy: 0.9937 - binary_io_u: 0.8691 - val_loss: 0.0256 - val_dice_coef: 0.7467 - val_accuracy: 0.9909 - val_binary_io_u: 0.8291 - lr: 1.0000e-04\n",
      "Epoch 17/100\n",
      "781/781 [==============================] - ETA: 0s - loss: 0.0156 - dice_coef: 0.7932 - accuracy: 0.9937 - binary_io_u: 0.8712\n",
      "Epoch 17: val_loss did not improve from 0.02556\n",
      "781/781 [==============================] - 116s 149ms/step - loss: 0.0156 - dice_coef: 0.7932 - accuracy: 0.9937 - binary_io_u: 0.8712 - val_loss: 0.0260 - val_dice_coef: 0.7527 - val_accuracy: 0.9909 - val_binary_io_u: 0.8289 - lr: 1.0000e-04\n",
      "Epoch 18/100\n",
      "781/781 [==============================] - ETA: 0s - loss: 0.0153 - dice_coef: 0.7981 - accuracy: 0.9939 - binary_io_u: 0.8736\n",
      "Epoch 18: val_loss improved from 0.02556 to 0.02530, saving model to files/best_model.h5\n",
      "781/781 [==============================] - 117s 150ms/step - loss: 0.0153 - dice_coef: 0.7981 - accuracy: 0.9939 - binary_io_u: 0.8736 - val_loss: 0.0253 - val_dice_coef: 0.7494 - val_accuracy: 0.9909 - val_binary_io_u: 0.8304 - lr: 1.0000e-04\n",
      "Epoch 19/100\n",
      "781/781 [==============================] - ETA: 0s - loss: 0.0150 - dice_coef: 0.8011 - accuracy: 0.9940 - binary_io_u: 0.8758\n",
      "Epoch 19: val_loss did not improve from 0.02530\n",
      "781/781 [==============================] - 117s 149ms/step - loss: 0.0150 - dice_coef: 0.8011 - accuracy: 0.9940 - binary_io_u: 0.8758 - val_loss: 0.0263 - val_dice_coef: 0.7477 - val_accuracy: 0.9910 - val_binary_io_u: 0.8243 - lr: 1.0000e-04\n",
      "Epoch 20/100\n",
      "781/781 [==============================] - ETA: 0s - loss: 0.0143 - dice_coef: 0.8078 - accuracy: 0.9942 - binary_io_u: 0.8790\n",
      "Epoch 20: val_loss did not improve from 0.02530\n",
      "781/781 [==============================] - 117s 150ms/step - loss: 0.0143 - dice_coef: 0.8078 - accuracy: 0.9942 - binary_io_u: 0.8790 - val_loss: 0.0270 - val_dice_coef: 0.7602 - val_accuracy: 0.9911 - val_binary_io_u: 0.8327 - lr: 1.0000e-04\n",
      "Epoch 21/100\n",
      "781/781 [==============================] - ETA: 0s - loss: 0.0143 - dice_coef: 0.8096 - accuracy: 0.9942 - binary_io_u: 0.8805\n",
      "Epoch 21: val_loss improved from 0.02530 to 0.02462, saving model to files/best_model.h5\n",
      "781/781 [==============================] - 118s 151ms/step - loss: 0.0143 - dice_coef: 0.8096 - accuracy: 0.9942 - binary_io_u: 0.8805 - val_loss: 0.0246 - val_dice_coef: 0.7378 - val_accuracy: 0.9909 - val_binary_io_u: 0.8314 - lr: 1.0000e-04\n",
      "Epoch 22/100\n",
      "781/781 [==============================] - ETA: 0s - loss: 0.0139 - dice_coef: 0.8128 - accuracy: 0.9943 - binary_io_u: 0.8822\n",
      "Epoch 22: val_loss did not improve from 0.02462\n",
      "781/781 [==============================] - 117s 150ms/step - loss: 0.0139 - dice_coef: 0.8128 - accuracy: 0.9943 - binary_io_u: 0.8822 - val_loss: 0.0283 - val_dice_coef: 0.7581 - val_accuracy: 0.9913 - val_binary_io_u: 0.8292 - lr: 1.0000e-04\n",
      "Epoch 23/100\n",
      "781/781 [==============================] - ETA: 0s - loss: 0.0135 - dice_coef: 0.8196 - accuracy: 0.9945 - binary_io_u: 0.8863\n",
      "Epoch 23: val_loss did not improve from 0.02462\n",
      "781/781 [==============================] - 117s 150ms/step - loss: 0.0135 - dice_coef: 0.8196 - accuracy: 0.9945 - binary_io_u: 0.8863 - val_loss: 0.0270 - val_dice_coef: 0.7488 - val_accuracy: 0.9910 - val_binary_io_u: 0.8267 - lr: 1.0000e-04\n",
      "Epoch 24/100\n",
      "781/781 [==============================] - ETA: 0s - loss: 0.0134 - dice_coef: 0.8208 - accuracy: 0.9946 - binary_io_u: 0.8871\n",
      "Epoch 24: val_loss did not improve from 0.02462\n",
      "781/781 [==============================] - 117s 150ms/step - loss: 0.0134 - dice_coef: 0.8208 - accuracy: 0.9946 - binary_io_u: 0.8871 - val_loss: 0.0253 - val_dice_coef: 0.7592 - val_accuracy: 0.9912 - val_binary_io_u: 0.8334 - lr: 1.0000e-04\n",
      "Epoch 25/100\n",
      "781/781 [==============================] - ETA: 0s - loss: 0.0130 - dice_coef: 0.8250 - accuracy: 0.9947 - binary_io_u: 0.8894\n",
      "Epoch 25: val_loss did not improve from 0.02462\n",
      "781/781 [==============================] - 117s 150ms/step - loss: 0.0130 - dice_coef: 0.8250 - accuracy: 0.9947 - binary_io_u: 0.8894 - val_loss: 0.0273 - val_dice_coef: 0.7509 - val_accuracy: 0.9909 - val_binary_io_u: 0.8246 - lr: 1.0000e-04\n",
      "Epoch 26/100\n",
      "781/781 [==============================] - ETA: 0s - loss: 0.0129 - dice_coef: 0.8248 - accuracy: 0.9947 - binary_io_u: 0.8888\n",
      "Epoch 26: val_loss did not improve from 0.02462\n",
      "\n",
      "Epoch 26: ReduceLROnPlateau reducing learning rate to 9.999999747378752e-06.\n",
      "781/781 [==============================] - 117s 149ms/step - loss: 0.0129 - dice_coef: 0.8248 - accuracy: 0.9947 - binary_io_u: 0.8888 - val_loss: 0.0269 - val_dice_coef: 0.7575 - val_accuracy: 0.9912 - val_binary_io_u: 0.8296 - lr: 1.0000e-04\n",
      "Epoch 27/100\n",
      "781/781 [==============================] - ETA: 0s - loss: 0.0116 - dice_coef: 0.8421 - accuracy: 0.9952 - binary_io_u: 0.9001\n",
      "Epoch 27: val_loss did not improve from 0.02462\n",
      "781/781 [==============================] - 117s 150ms/step - loss: 0.0116 - dice_coef: 0.8421 - accuracy: 0.9952 - binary_io_u: 0.9001 - val_loss: 0.0266 - val_dice_coef: 0.7742 - val_accuracy: 0.9915 - val_binary_io_u: 0.8375 - lr: 1.0000e-05\n",
      "Epoch 28/100\n",
      "781/781 [==============================] - ETA: 0s - loss: 0.0110 - dice_coef: 0.8500 - accuracy: 0.9954 - binary_io_u: 0.9032\n",
      "Epoch 28: val_loss did not improve from 0.02462\n",
      "781/781 [==============================] - 118s 151ms/step - loss: 0.0110 - dice_coef: 0.8500 - accuracy: 0.9954 - binary_io_u: 0.9032 - val_loss: 0.0263 - val_dice_coef: 0.7745 - val_accuracy: 0.9915 - val_binary_io_u: 0.8380 - lr: 1.0000e-05\n",
      "Epoch 29/100\n",
      "781/781 [==============================] - ETA: 0s - loss: 0.0106 - dice_coef: 0.8541 - accuracy: 0.9956 - binary_io_u: 0.9063\n",
      "Epoch 29: val_loss did not improve from 0.02462\n",
      "781/781 [==============================] - 117s 150ms/step - loss: 0.0106 - dice_coef: 0.8541 - accuracy: 0.9956 - binary_io_u: 0.9063 - val_loss: 0.0276 - val_dice_coef: 0.7771 - val_accuracy: 0.9916 - val_binary_io_u: 0.8369 - lr: 1.0000e-05\n",
      "Epoch 30/100\n",
      "781/781 [==============================] - ETA: 0s - loss: 0.0108 - dice_coef: 0.8531 - accuracy: 0.9955 - binary_io_u: 0.9055\n",
      "Epoch 30: val_loss did not improve from 0.02462\n",
      "781/781 [==============================] - 117s 150ms/step - loss: 0.0108 - dice_coef: 0.8531 - accuracy: 0.9955 - binary_io_u: 0.9055 - val_loss: 0.0274 - val_dice_coef: 0.7750 - val_accuracy: 0.9916 - val_binary_io_u: 0.8372 - lr: 1.0000e-05\n",
      "Epoch 31/100\n",
      "781/781 [==============================] - ETA: 0s - loss: 0.0106 - dice_coef: 0.8555 - accuracy: 0.9956 - binary_io_u: 0.9070\n",
      "Epoch 31: val_loss did not improve from 0.02462\n",
      "\n",
      "Epoch 31: ReduceLROnPlateau reducing learning rate to 9.999999747378752e-07.\n",
      "781/781 [==============================] - 117s 150ms/step - loss: 0.0106 - dice_coef: 0.8555 - accuracy: 0.9956 - binary_io_u: 0.9070 - val_loss: 0.0274 - val_dice_coef: 0.7781 - val_accuracy: 0.9916 - val_binary_io_u: 0.8377 - lr: 1.0000e-05\n"
     ]
    }
   ],
   "source": [
    "model = model.fit(\n",
    "        train_dataset,\n",
    "        steps_per_epoch=steps_per_epoch,\n",
    "        epochs=num_epochs,\n",
    "        validation_data=valid_dataset,\n",
    "        validation_steps=steps_per_epoch,\n",
    "        callbacks=callbacks\n",
    "    )"
   ]
  },
  {
   "cell_type": "markdown",
   "metadata": {},
   "source": [
    "This code plots the model performance metrics during training and validation such as `Accuracy`, `Loss`, `Dice-coef`, and `IOU` (**Intersection over Union**). It first determines the number of epochs using the length of the model's history. Then it sets the step size based on the number of epochs. The plots are created using subplots, and the training and validation metrics are plotted against the number of epochs on the `x-axis`. The `y-axis` represents the corresponding metric value. Legends are added to differentiate between the training and validation metrics. Finally, all four subplots are shown."
   ]
  },
  {
   "cell_type": "code",
   "execution_count": 45,
   "metadata": {},
   "outputs": [
    {
     "data": {
      "image/png": "[encoded data removed]",
      "text/plain": [
       "<Figure size 1728x288 with 4 Axes>"
      ]
     },
     "metadata": {},
     "output_type": "display_data"
    }
   ],
   "source": [
    "# plot train, validation Accuracy, Loss, Dice-coef and IOU\n",
    "num_epochs = len(model.history['accuracy'])\n",
    "step = 2\n",
    "if num_epochs > 35:\n",
    "    step = 5\n",
    "\n",
    "f, (ax1, ax2, ax3, ax4) = plt.subplots(1, 4, figsize=(24, 4))\n",
    "t = f.suptitle('VGG16 Model Performance', fontsize=12)\n",
    "f.subplots_adjust(top=0.85, wspace=0.3)\n",
    "\n",
    "epoch_list = list(range(0,num_epochs))\n",
    "ax1.plot(epoch_list, model.history['accuracy'], label='Train Accuracy')\n",
    "ax1.plot(epoch_list, model.history['val_accuracy'], label='Validation Accuracy')\n",
    "ax1.set_xticks(np.arange(0, num_epochs, step))\n",
    "ax1.set_ylabel('Accuracy Value')\n",
    "ax1.set_xlabel('Epoch')\n",
    "ax1.set_title('Accuracy')\n",
    "l1 = ax1.legend(loc=\"best\")\n",
    "\n",
    "ax2.plot(epoch_list, model.history['loss'], label='Train Loss')\n",
    "ax2.plot(epoch_list, model.history['val_loss'], label='Validation Loss')\n",
    "ax2.set_xticks(np.arange(0, num_epochs, step))\n",
    "ax2.set_ylabel('Loss Value')\n",
    "ax2.set_xlabel('Epoch')\n",
    "ax2.set_title('Loss')\n",
    "l2 = ax2.legend(loc=\"best\")\n",
    "\n",
    "epoch_list = list(range(0,num_epochs))\n",
    "ax3.plot(epoch_list, model.history['dice_coef'], label='Training Dice Score')\n",
    "ax3.plot(epoch_list, model.history['val_dice_coef'], label='Validation Dice Score')\n",
    "ax3.set_xticks(np.arange(0, num_epochs, step))\n",
    "ax3.set_ylabel('Dice Score')\n",
    "ax3.set_xlabel('Epoch')\n",
    "ax3.set_title('Training and validation Dice Score')\n",
    "l3 = ax3.legend(loc=\"best\")\n",
    "\n",
    "ax4.plot(epoch_list, model.history['binary_io_u'], label='Training IoU')\n",
    "ax4.plot(epoch_list, model.history['val_binary_io_u'], label='Validation IoU')\n",
    "ax4.set_xticks(np.arange(0, num_epochs, step))\n",
    "ax4.set_ylabel('Mean IoU')\n",
    "ax4.set_xlabel('Epoch')\n",
    "ax4.set_title('Training and validation IoU')\n",
    "l4 = ax4.legend(loc=\"best\")"
   ]
  },
  {
   "cell_type": "markdown",
   "metadata": {},
   "source": [
    "We now need to load a pre-trained Keras model from the`best_model.h` file located in the `files` directory. The`CustomObjectScope` context is used to pass the custom functions `dice_coef` and \"dice_loss\" which are used to compile the model. The \"compile\" flag is set to `False`, indicating that the model will not be **re-compiled** after loading. The loaded model is stored in the variable `model`."
   ]
  },
  {
   "cell_type": "code",
   "execution_count": 46,
   "metadata": {},
   "outputs": [],
   "source": [
    "#Load the model\n",
    "# with CustomObjectScope({\"dice_coef\": dice_coef, \"dice_loss\": dice_loss}):\n",
    "model = tf.keras.models.load_model(os.path.join(\"files\", \"best_model.h5\"), compile=False)"
   ]
  },
  {
   "cell_type": "markdown",
   "metadata": {},
   "source": [
    "Here we select a random image and its corresponding mask from the test set, resizes the image to the appropriate dimensions, and uses the trained model to predict the segmentation mask for the image. It then displays the original image, the true mask, and the predicted mask side-by-side in a plot with a colorbar indicating the pixel values."
   ]
  },
  {
   "cell_type": "code",
   "execution_count": 62,
   "metadata": {},
   "outputs": [
    {
     "data": {
      "image/png": "[encoded data removed]",
      "text/plain": [
       "<Figure size 864x576 with 4 Axes>"
      ]
     },
     "metadata": {},
     "output_type": "display_data"
    }
   ],
   "source": [
    "# predicts random images from test images\n",
    "\n",
    "test_img_number = random.randint(0, len(test_x) - 1)\n",
    "test_img = test_x[test_img_number]\n",
    "test_mask = test_y[test_img_number]\n",
    "test_mask = plt.imread(test_mask, 0)\n",
    "test_img = cv2.imread(test_img, 0)\n",
    "test_img = test_img.astype(np.uint8)\n",
    "test_img = cv2.resize(test_img, (IMG_WIDTH, IMG_HEIGHT))\n",
    "test_img = cv2.merge([test_img, test_img, test_img])\n",
    "test_img_input = np.expand_dims(test_img, 0)\n",
    "test_pred1 = model.predict(test_img_input)\n",
    "test_pred1 = np.squeeze(test_pred1, axis=-1)\n",
    "test_pred1= test_pred1 >= 0.5\n",
    "test_pred1 = test_pred1.astype(np.int32)\n",
    "\n",
    "fig, (ax1, ax2, ax3) = plt.subplots(figsize = (12, 8), ncols = 3)\n",
    "ax1.set_title('Testing Image')\n",
    "ax1.axis('off')\n",
    "ax1.imshow(test_img[:, :, 0], cmap = 'gray')\n",
    "ax2.set_title('Testing Mask')\n",
    "ax2.axis('off')\n",
    "ax2.imshow(test_mask, cmap = 'gray')\n",
    "ax3.set_title('Prediction on test image')\n",
    "ax3.axis('off')\n",
    "pred = ax3.imshow(test_pred1.squeeze(0), cmap = 'gray')\n",
    "fig.colorbar(pred, cax = fig.add_axes([0.92, 0.3, 0.015, 0.39]), extend='both')\n",
    "plt.show()"
   ]
  },
  {
   "cell_type": "markdown",
   "metadata": {},
   "source": [
    "And here we define a function named \"save_results\" that is used to save the predicted segmentation mask, original image, and ground truth mask as an output image. The function takes in four parameters:\n",
    "\n",
    "\"image\": The original image for which the segmentation mask is predicted.\n",
    "\"mask\": The ground truth segmentation mask for the image.\n",
    "\"y_pred\": The predicted segmentation mask for the image.\n",
    "\"save_image_path\": The path where the output image will be saved.\n",
    "The function first expands the dimensions of the ground truth mask and the predicted mask using the \"expand_dims()\" function, so that they can be concatenated with the original image. Then, it concatenates the original image, the ground truth mask, and the predicted mask along the horizontal axis using the \"concatenate()\" function.\n",
    "\n",
    "The code inserts a white line between the original image, ground truth mask, and predicted mask using a 10-pixel white line. It then saves the concatenated image as a single image file at the specified \"save_image_path\". The final output image shows the original image, the ground truth mask, and the predicted mask side by side."
   ]
  },
  {
   "cell_type": "code",
   "execution_count": 53,
   "metadata": {},
   "outputs": [],
   "source": [
    "def save_results(image, mask, y_pred, save_image_path):\n",
    "    \"\"\"\n",
    "    Saves the predicted segmentation mask, original image, and ground truth mask as an output image.\n",
    "    \n",
    "    Args:\n",
    "        image (numpy.ndarray): The original image for which the segmentation mask is predicted.\n",
    "        mask (numpy.ndarray): The ground truth segmentation mask for the image.\n",
    "        y_pred (numpy.ndarray): The predicted segmentation mask for the image.\n",
    "        save_image_path (str): The path where the output image will be saved.\n",
    "    \"\"\"\n",
    "    mask = np.expand_dims(mask, axis=-1)\n",
    "    mask = np.concatenate([mask, mask, mask], axis=-1)\n",
    "\n",
    "    y_pred = np.expand_dims(y_pred, axis=-1)\n",
    "    y_pred = np.concatenate([y_pred, y_pred, y_pred], axis=-1)\n",
    "    y_pred = y_pred * 255\n",
    "\n",
    "    line = np.ones((IMG_HEIGHT, 10, 3)) * 255\n",
    "\n",
    "    cat_images = np.concatenate([image, line, mask, line, y_pred], axis=1)\n",
    "    cv2.imwrite(save_image_path, cat_images)\n"
   ]
  },
  {
   "cell_type": "markdown",
   "metadata": {},
   "source": [
    "This code performs prediction and evaluation of a trained model on the test dataset for MRI segmentation. The code iterates over each image and its corresponding ground truth segmentation mask in the test dataset using the \"zip()\" function to combine the two lists. The tqdm module is used to display a progress bar while iterating over the test dataset.\n",
    "\n",
    "For each image, the code loads and resizes the image and ground truth mask to the specified dimensions. It normalizes the pixel values of the image to the range of [0,1] and uses the trained model to predict the segmentation mask for the image. The predicted mask is then thresholded using a value of 0.5 and converted to an integer array.\n",
    "\n",
    "The \"save_results()\" function is used to save the predicted mask and the original image and mask in the \"output_results\" directory. The code then calculates several evaluation metrics, including F1 score, Jaccard index, recall, and precision, for the predicted mask by comparing it with the ground truth mask. It flattens both the predicted mask and ground truth mask into 1D arrays and uses these arrays to calculate the metrics.\n",
    "\n",
    "The calculated metrics for each image and its corresponding name are saved to the \"SCORE\" list, which is a list of lists. The first element in each inner list is the name of the image, and the remaining elements are the evaluation metrics in the following order: F1, Jaccard, recall, precision. The \"SCORE\" list can be used to calculate the average metrics across all images in the test dataset, as shown in the previous code block."
   ]
  },
  {
   "cell_type": "code",
   "execution_count": 56,
   "metadata": {},
   "outputs": [
    {
     "name": "stderr",
     "output_type": "stream",
     "text": [
      "100%|██████████| 153/153 [00:07<00:00, 20.79it/s]\n"
     ]
    }
   ],
   "source": [
    "# Prediction and Evaluation the model on th test dataset\n",
    "SCORE = []\n",
    "for x, y in tqdm(zip(test_x, test_y), total=len(test_y)):\n",
    "    #Extracting the name from the image path\n",
    "    name = x.split(\"/\")[-1]\n",
    "\n",
    "    # Reading the image\n",
    "    image = cv2.imread(x, cv2.IMREAD_COLOR)\n",
    "    image = cv2.resize(image, (IMG_WIDTH, IMG_HEIGHT)) \n",
    "    x = image/255\n",
    "    x = np.expand_dims(x, axis=0)\n",
    "\n",
    "    # Reading the mask\n",
    "    mask = cv2.imread(y, cv2.IMREAD_GRAYSCALE)\n",
    "    mask = cv2.resize(mask, (IMG_WIDTH, IMG_HEIGHT))\n",
    "\n",
    "    # Prediction\n",
    "    y_pred = model.predict(x, verbose=0)[0]\n",
    "    y_pred = np.squeeze(y_pred, axis=-1)\n",
    "    y_pred = y_pred >= 0.5\n",
    "    y_pred = y_pred.astype(np.int32)\n",
    "\n",
    "    # Saving the prediction as image\n",
    "    path='output_results/'\n",
    "    save_image_path = os.path.join(path, name)\n",
    "    save_results(image, mask, y_pred, save_image_path)\n",
    "\n",
    "    # Flatten the array\n",
    "    mask = mask\n",
    "    mask = (mask > 0.5).astype(np.int32).flatten()\n",
    "    y_pred = y_pred.flatten()\n",
    "\n",
    "    # Calculating the metrics values\n",
    "    f1_value = f1_score(mask, y_pred, labels=[0, 1], average=\"binary\")\n",
    "    jac_value = jaccard_score(mask, y_pred, labels=[0, 1], average=\"binary\")\n",
    "    recall_value = recall_score(mask, y_pred, labels=[0, 1], average=\"binary\", zero_division=0)\n",
    "    precision_value = precision_score(mask, y_pred, labels=[0, 1], average=\"binary\", zero_division=0)\n",
    "    SCORE.append([name, f1_value, jac_value, recall_value, precision_value])"
   ]
  },
  {
   "cell_type": "markdown",
   "metadata": {},
   "source": [
    "This code calculates the average of several evaluation metrics, including F1 score, Jaccard index, recall, and precision, for the segmentation masks predicted by the trained model on the test dataset. The \"SCORE\" variable is assumed to be a list of lists, where each inner list contains the evaluation metrics for a single image in the test dataset. The first element in each inner list is assumed to be the image name, which is not used in the calculations. The remaining elements in each inner list are assumed to be the evaluation metrics in the following order: F1, Jaccard, recall, precision.\n",
    "\n",
    "The code uses numpy to calculate the mean of each metric across all images in the test dataset, which represents the average performance of the model on the dataset. It then prints the metrics to the console with a precision of 5 decimal places.\n",
    "\n",
    "The code also creates a pandas DataFrame using the \"SCORE\" list and saves it as a CSV file in the \"output_results\" directory. The DataFrame contains the evaluation metrics for each image in the test dataset, including the image name, F1 score, Jaccard index, recall, and precision.\n",
    "\n",
    "\n",
    "\n",
    "\n",
    "\n"
   ]
  },
  {
   "cell_type": "code",
   "execution_count": 57,
   "metadata": {},
   "outputs": [
    {
     "name": "stdout",
     "output_type": "stream",
     "text": [
      "F1: 0.79682\n",
      "Jaccard: 0.70135\n",
      "Recall: 0.80879\n",
      "Precision: 0.81737\n"
     ]
    }
   ],
   "source": [
    "# print and save the metrics values\n",
    "score = [s[1:]for s in SCORE]\n",
    "score = np.mean(score, axis=0)\n",
    "print(f\"F1: {score[0]:0.5f}\")\n",
    "print(f\"Jaccard: {score[1]:0.5f}\")\n",
    "print(f\"Recall: {score[2]:0.5f}\")\n",
    "print(f\"Precision: {score[3]:0.5f}\")\n",
    "\n",
    "# save the results as csv file\n",
    "df = pd.DataFrame(SCORE, columns=[\"Image\", \"F1\", \"Jaccard\", \"Recall\", \"Precision\"])\n",
    "df.to_csv(\"output_results/score.csv\")"
   ]
  },
  {
   "cell_type": "markdown",
   "metadata": {},
   "source": [
    "### Conclusions"
   ]
  },
  {
   "cell_type": "markdown",
   "metadata": {},
   "source": [
    "- Our study evaluated the effectiveness of three deep learning models, including the VGG16 model, for MRI segmentation.\n",
    "We split our MRI dataset into 85% for training, 10% for testing, and 5% for validation to evaluate the performance of the VGG16 model.\n",
    "- The VGG16 model produced moderate results in comparison to the Unet and FPN models, with moderate accuracy and Dice coefficient scores.\n",
    "- The VGG16 model did not produce missing tumor spots in MRI segmentation, but it also did not accurately identify all tumors.\n",
    "- The VGG16 model also produced extra spots in MRI segmentation, which can lead to false positives and unnecessary treatments.\n",
    "- The moderate performance of our VGG16 model can be attributed to its architecture, which may not be well-suited for the task of MRI segmentation.\n",
    "- Our findings suggest that the VGG16 model may not be the best choice for accurate MRI segmentation, but it could be improved with further experimentation.\n",
    "- Future studies can explore the use of other deep learning models or combine multiple models to improve the accuracy of MRI segmentation.\n",
    "- The Unet model provided the best results, accurately identifying all tumors without missing any.\n",
    "- The FPN model produced inferior results, with lower accuracy and Dice coefficient scores, and produced missing and extra tumor spots.\n",
    "- The Unet model's encoder-decoder structure with skip connections is well-suited for MRI segmentation, enabling it to accurately identify regions of interest within MRI scans.\n",
    "- Accurate MRI segmentation using the Unet model can assist healthcare professionals in making more informed decisions and providing better treatment options to patients.\n",
    "- Our findings suggest that the Unet model is an effective tool for accurate and reliable MRI segmentation, which can aid in the diagnosis and treatment of various medical conditions.\n",
    "- While the VGG16 model did not produce optimal results for MRI segmentation, it could be further optimized with modifications to its architecture or training methodology.\n",
    "- The VGG16 model's architecture is well-suited for image classification tasks, but may not be optimal for image segmentation tasks like MRI segmentation.\n",
    "- Further experimentation with the VGG16 model, or with other deep learning models, could lead to improved MRI segmentation results.\n",
    "- Our findings highlight the importance of selecting the right deep learning model for MRI segmentation, as different models have different strengths and limitations.\n",
    "- Accurate and reliable MRI segmentation is crucial for accurate diagnosis and treatment planning for various medical conditions.\n",
    "- Our study contributes to the growing body of research on the effectiveness of deep learning models for MRI segmentation, and provides insights into the strengths and limitations of different models."
   ]
  }
 ],
 "metadata": {
  "colab": {
   "provenance": []
  },
  "kernelspec": {
   "display_name": "Python 3",
   "language": "python",
   "name": "python3"
  },
  "language_info": {
   "codemirror_mode": {
    "name": "ipython",
    "version": 3
   },
   "file_extension": ".py",
   "mimetype": "text/x-python",
   "name": "python",
   "nbconvert_exporter": "python",
   "pygments_lexer": "ipython3",
   "version": "3.8.8"
  }
 },
 "nbformat": 4,
 "nbformat_minor": 4
}
