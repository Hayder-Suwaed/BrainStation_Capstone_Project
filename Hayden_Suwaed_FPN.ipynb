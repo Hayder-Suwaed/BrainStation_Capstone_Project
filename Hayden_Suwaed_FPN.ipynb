{
 "cells": [
  {
   "cell_type": "markdown",
   "metadata": {},
   "source": [
    "# Image Segmentation with Deep Learning\n",
    "\n",
    "\n",
    "\n",
    "\n",
    "Author: Hayden Suwaed\n",
    "\n",
    "Email: haidersuwaed@gmail.com\n",
    "\n",
    "\n",
    "\n",
    "Date: Apr-1-2023\n",
    "\n",
    "\n",
    "\n",
    "## Table of Contents\n",
    "\n",
    "[1. Introduction](#Intorduction) <br>\n",
    "[2. Modeling](#Modeling) <br>\n",
    "[3. Conclusions](#Conclusions)\n",
    "\n",
    "\n",
    "\n",
    "## Introduction\n",
    "\n",
    "\"Convolutional neural networks are brain-inspired networks that are widely used for image classification tasks.\" - *Alex Krizhevsky* \n",
    "\n",
    "Brain tumor segmentation is a critical task in medical image analysis, which entails the precise delineation of tumor regions from healthy brain tissues in magnetic resonance imaging (MRI) scans. Accurate segmentation is vital for diagnosis, treatment planning, and monitoring the progress of patients with brain tumors. Deep learning has emerged as a powerful tool for tackling this challenging problem, with Convolutional Neural Networks (CNNs) and other sophisticated architectures exhibiting remarkable performance in identifying, localizing, and classifying different tumor sub-regions.**The primary goal of utilizing deep learning algorithms for brain tumor segmentation is to achieve unparalleled accuracy in detecting and delineating tumor regions, thereby facilitating timely diagnosis and personalized treatment plans for improved patient outcomes.**\n",
    "\n",
    "## 1. Data Collection and Description\n",
    "\n",
    "In this study, we will utilize a dataset consisting of images and their corresponding masks in the Joint Photographic Experts Group (JPEG) format. The dataset was procured and preprocessed by Southern Medical University, located in Guangzhou, Guangdong, China. The dataset was originally released on April 2, 2017.\n",
    "\n",
    "\n",
    "The brain tumor dataset comprises 3,064 T1-weighted contrast-enhanced images derived from 233 patients diagnosed with three distinct brain tumor types: meningioma (708 slices), glioma (1,426 slices), and pituitary tumor (930 slices). Owing to repository file size constraints, the dataset has been partitioned into four subsets and compressed into four separate .zip files, each containing 766 slices. Additionally, the dataset includes indices for 5-fold cross-validation to facilitate model evaluation and comparison.\n",
    "\n",
    "\n",
    "\n",
    "Check out the dataset that have bee used for this project [Here](https://drive.google.com/drive/folders/1nAu70XoU7Wln8nY1OC7zhfr7n5f0rYlf?usp=share_link)"
   ]
  },
  {
   "cell_type": "code",
   "execution_count": 1,
   "metadata": {
    "id": "_QKn7Ga0CgVR",
    "scrolled": true
   },
   "outputs": [
    {
     "name": "stdout",
     "output_type": "stream",
     "text": [
      "Segmentation Models: using `keras` framework.\n"
     ]
    }
   ],
   "source": [
    "#Import different and necessary librarie\n",
    "import tensorflow as tf\n",
    "from tensorflow.keras import backend as K\n",
    "from tensorflow.keras.utils import CustomObjectScope\n",
    "from sklearn.metrics import f1_score, jaccard_score, precision_score, recall_score\n",
    "from tensorflow.keras.applications.vgg16 import VGG16, preprocess_input\n",
    "\n",
    "from tensorflow.keras.layers import Conv2D, BatchNormalization, Activation,\\\n",
    "MaxPool2D, Conv2DTranspose, Concatenate, Input, Dropout, GaussianNoise, concatenate\n",
    "from tensorflow.keras.models import Model\n",
    "\n",
    "# from focal_loss import BinaryFocalLoss\n",
    "\n",
    "from segmentation_models import FPN\n",
    "from segmentation_models import get_preprocessing\n",
    "from segmentation_models.losses import bce_jaccard_loss\n",
    "from segmentation_models.metrics import iou_score\n",
    "import segmentation_models as sm\n",
    "\n",
    "sm.set_framework('tf.keras')\n",
    "\n",
    "sm.framework()\n",
    "\n",
    "\n",
    "import os\n",
    "import random\n",
    "import numpy as np\n",
    "import pandas as pd\n",
    "from glob import glob\n",
    "import pandas as pd\n",
    "\n",
    " \n",
    "from tqdm import tqdm \n",
    "import cv2\n",
    "from skimage.io import imread, imshow\n",
    "from skimage.transform import resize\n",
    "from sklearn.model_selection import train_test_split\n",
    "from sklearn.utils import shuffle\n",
    "import matplotlib.pyplot as plt"
   ]
  },
  {
   "cell_type": "markdown",
   "metadata": {},
   "source": [
    "The following code utilizes the TensorFlow library to detect and list the physical and logical graphics processing units (GPUs) available in the system. It then sets the memory growth parameter to True for each available GPU, which allows for dynamic allocation of only necessary GPU memory during computation. The code is enclosed in a try-except block to handle any runtime errors. Finally, the code prints the number of physical and logical GPUs detected in the system."
   ]
  },
  {
   "cell_type": "code",
   "execution_count": 4,
   "metadata": {},
   "outputs": [
    {
     "name": "stdout",
     "output_type": "stream",
     "text": [
      "1 Physical GPUs, 1 Logical GPUs\n"
     ]
    },
    {
     "name": "stderr",
     "output_type": "stream",
     "text": [
      "2023-03-20 00:04:09.275561: I tensorflow/stream_executor/cuda/cuda_gpu_executor.cc:936] successful NUMA node read from SysFS had negative value (-1), but there must be at least one NUMA node, so returning NUMA node zero\n",
      "2023-03-20 00:04:09.275775: I tensorflow/stream_executor/cuda/cuda_gpu_executor.cc:936] successful NUMA node read from SysFS had negative value (-1), but there must be at least one NUMA node, so returning NUMA node zero\n",
      "2023-03-20 00:04:09.303105: I tensorflow/stream_executor/cuda/cuda_gpu_executor.cc:936] successful NUMA node read from SysFS had negative value (-1), but there must be at least one NUMA node, so returning NUMA node zero\n",
      "2023-03-20 00:04:09.303435: I tensorflow/stream_executor/cuda/cuda_gpu_executor.cc:936] successful NUMA node read from SysFS had negative value (-1), but there must be at least one NUMA node, so returning NUMA node zero\n",
      "2023-03-20 00:04:09.303608: I tensorflow/stream_executor/cuda/cuda_gpu_executor.cc:936] successful NUMA node read from SysFS had negative value (-1), but there must be at least one NUMA node, so returning NUMA node zero\n",
      "2023-03-20 00:04:09.303775: I tensorflow/stream_executor/cuda/cuda_gpu_executor.cc:936] successful NUMA node read from SysFS had negative value (-1), but there must be at least one NUMA node, so returning NUMA node zero\n",
      "2023-03-20 00:04:09.303912: I tensorflow/core/common_runtime/gpu/gpu_device.cc:1932] Ignoring visible gpu device (device: 1, name: Quadro P1000, pci bus id: 0000:01:00.0, compute capability: 6.1) with core count: 4. The minimum required count is 8. You can adjust this requirement with the env var TF_MIN_GPU_MULTIPROCESSOR_COUNT.\n",
      "2023-03-20 00:04:09.304485: I tensorflow/core/platform/cpu_feature_guard.cc:151] This TensorFlow binary is optimized with oneAPI Deep Neural Network Library (oneDNN) to use the following CPU instructions in performance-critical operations:  AVX2 FMA\n",
      "To enable them in other operations, rebuild TensorFlow with the appropriate compiler flags.\n",
      "2023-03-20 00:04:09.305228: I tensorflow/stream_executor/cuda/cuda_gpu_executor.cc:936] successful NUMA node read from SysFS had negative value (-1), but there must be at least one NUMA node, so returning NUMA node zero\n",
      "2023-03-20 00:04:09.305403: I tensorflow/stream_executor/cuda/cuda_gpu_executor.cc:936] successful NUMA node read from SysFS had negative value (-1), but there must be at least one NUMA node, so returning NUMA node zero\n",
      "2023-03-20 00:04:09.305565: I tensorflow/stream_executor/cuda/cuda_gpu_executor.cc:936] successful NUMA node read from SysFS had negative value (-1), but there must be at least one NUMA node, so returning NUMA node zero\n",
      "2023-03-20 00:04:09.865123: I tensorflow/stream_executor/cuda/cuda_gpu_executor.cc:936] successful NUMA node read from SysFS had negative value (-1), but there must be at least one NUMA node, so returning NUMA node zero\n",
      "2023-03-20 00:04:09.865381: I tensorflow/stream_executor/cuda/cuda_gpu_executor.cc:936] successful NUMA node read from SysFS had negative value (-1), but there must be at least one NUMA node, so returning NUMA node zero\n",
      "2023-03-20 00:04:09.865551: I tensorflow/stream_executor/cuda/cuda_gpu_executor.cc:936] successful NUMA node read from SysFS had negative value (-1), but there must be at least one NUMA node, so returning NUMA node zero\n",
      "2023-03-20 00:04:09.865691: I tensorflow/core/common_runtime/gpu/gpu_device.cc:1525] Created device /job:localhost/replica:0/task:0/device:GPU:0 with 22311 MB memory:  -> device: 0, name: NVIDIA GeForce RTX 3090, pci bus id: 0000:3e:00.0, compute capability: 8.6\n"
     ]
    }
   ],
   "source": [
    "gpus = tf.config.list_physical_devices('GPU')\n",
    "if gpus:\n",
    "  try:\n",
    "    # Currently, memory growth needs to be the same across GPUs\n",
    "    for gpu in gpus:\n",
    "      tf.config.experimental.set_memory_growth(gpu, True)\n",
    "    logical_gpus = tf.config.list_logical_devices('GPU')\n",
    "    print(len(gpus), \"Physical GPUs,\", len(logical_gpus), \"Logical GPUs\")\n",
    "  except RuntimeError as e:\n",
    "    # Memory growth must be set before GPUs have been initialized\n",
    "    print(e)"
   ]
  },
  {
   "cell_type": "markdown",
   "metadata": {},
   "source": [
    "Here we set the values of `IMG_WIDTH`, `IMG_HEIGHT`, and `IMG_CHANNELS` to 128, 128, and 3, respectively. These variables are commonly used in image processing and computer vision applications to define the dimensions and number of channels of an image."
   ]
  },
  {
   "cell_type": "code",
   "execution_count": 5,
   "metadata": {
    "id": "krRavFvBClTX"
   },
   "outputs": [],
   "source": [
    "IMG_WIDTH = 128\n",
    "IMG_HEIGHT = 128\n",
    "IMG_CHANNELS = 3"
   ]
  },
  {
   "cell_type": "markdown",
   "metadata": {},
   "source": [
    "The `seed` variable is set to 42, which is a commonly used value in random number generation. The `batch_size` is set to 10, which specifies the number of samples to use for each training update. The `lr` variable defines the learning rate of the optimizer and is set to 1e-4, and the `optimizer` is defined using the Adam optimizer from the Keras library with the specified learning rate. `num_epochs` is set to 60, which specifies the number of times the training process should iterate over the entire dataset. Finally,`model_path` and `csv_path` specify the file paths for saving the best model and logging the training metrics, respectively."
   ]
  },
  {
   "cell_type": "code",
   "execution_count": 6,
   "metadata": {
    "id": "23l5IPRID5jx"
   },
   "outputs": [],
   "source": [
    "seed=42\n",
    "batch_size = 10\n",
    "lr = 1e-4\n",
    "optimizer =tf.keras.optimizers.Adam(lr)\n",
    "num_epochs = 100\n",
    "model_path = os.path.join(\"files\", \"best_model.h5\")\n",
    "csv_path = os.path.join(\"files\", \"log.csv\")"
   ]
  },
  {
   "cell_type": "markdown",
   "metadata": {},
   "source": [
    "## 2. Loading and Preprocessing Data\n",
    "\n",
    "\n",
    "Here wedefine a function named `load_dataset` that takes a `path` argument, which specifies the location of the dataset images and masks. The function also allows for specifying the `val_split` and `test_split` proportions for splitting the dataset into validation and test sets. The function first retrieves the images and masks from the specified paths using `glob` and sorts them. It then calculates the validation and test set sizes and splits the data accordingly using `train_test_split` from the Scikit-learn library. Finally, the function returns the training, validation, and test data as tuples of `(images, masks)` for each set."
   ]
  },
  {
   "cell_type": "code",
   "execution_count": 7,
   "metadata": {
    "id": "Jel7N-06Cps7"
   },
   "outputs": [],
   "source": [
    "def load_dataset(path, val_split=0.1, test_split=0.05, image_format=\"jpg\"):\n",
    "    image_format = image_format\n",
    "    images = sorted(glob(os.path.join(path, \"images\", f\"*.{image_format}\")))\n",
    "    masks = sorted(glob(os.path.join(path, \"masks\", f\"*.{image_format}\")))\n",
    "\n",
    "    val_split_size = int(len(images) * val_split)\n",
    "    test_split_size = int(len(images) * test_split)\n",
    "\n",
    "    train_x, valid_x = train_test_split(images, test_size=val_split_size, random_state=42)\n",
    "    train_y, valid_y = train_test_split(masks, test_size=val_split_size, random_state=42)\n",
    "\n",
    "    train_x, test_x = train_test_split(train_x, test_size=test_split_size, random_state=42)\n",
    "    train_y, test_y = train_test_split(train_y, test_size=test_split_size, random_state=42)\n",
    "\n",
    "    return (train_x, train_y), (valid_x, valid_y), (test_x, test_y)"
   ]
  },
  {
   "cell_type": "markdown",
   "metadata": {},
   "source": [
    "As you can see, `np.random.seed(42)` sets the NumPy random seed to 42, which ensures that the same sequence of random numbers will be generated on each run. `tf.random.set_seed(42)` sets the TensorFlow random seed to 42, which ensures that the model will be initialized with the same set of random weights on each run, allowing for reproducibility of results."
   ]
  },
  {
   "cell_type": "code",
   "execution_count": 8,
   "metadata": {
    "id": "oxr9bRJZCsyY"
   },
   "outputs": [],
   "source": [
    "np.random.seed(42)\n",
    "tf.random.set_seed(42)"
   ]
  },
  {
   "cell_type": "markdown",
   "metadata": {},
   "source": [
    "We are checking if a directory named 'files/' exists, and creates one if it does not exist, using the `os` module. The following commented line is used to print the current working directory path using the `pwd` command."
   ]
  },
  {
   "cell_type": "code",
   "execution_count": 9,
   "metadata": {
    "colab": {
     "base_uri": "https://localhost:8080/"
    },
    "id": "WUMfMZmBCwge",
    "outputId": "720ea2bf-efcd-4d7e-b8c0-1a6f5e13d17f"
   },
   "outputs": [
    {
     "name": "stdout",
     "output_type": "stream",
     "text": [
      "/home/ahmed/Downloads/unet_aug_tl_FNP-2\n"
     ]
    }
   ],
   "source": [
    "if os.path.exists('files/') == False:\n",
    "  os.mkdir('files/')\n",
    "if os.path.exists('output_results/') == False:\n",
    "  os.mkdir('output_results/')\n",
    "\n",
    "# os.chdir('/content/drive/MyDrive/BT_Seg_Unet')\n",
    "!pwd"
   ]
  },
  {
   "cell_type": "markdown",
   "metadata": {},
   "source": [
    "`dataset_path`, `image_path`, and `mask_path` variables store the paths to the dataset and the corresponding image and mask directories. The `load_dataset()` function is used to load and split the data into training, validation, and test sets and returns them as tuples of `(images, masks)` for each set. The returned values are then unpacked and stored in `(train_x, train_y)`, `(valid_x, valid_y)`, `(test_x, test_y)` variables."
   ]
  },
  {
   "cell_type": "code",
   "execution_count": 10,
   "metadata": {
    "id": "VXXzGTCOC6a1"
   },
   "outputs": [],
   "source": [
    "dataset_path = \"/content/drive/MyDrive/Brain_MRI_Segmentation/dataset\"\n",
    "image_path = '/content/drive/MyDrive/Brain_MRI_Segmentation/dataset/images/'\n",
    "mask_path = '/content/drive/MyDrive/Brain_MRI_Segmentation/dataset/masks/'\n",
    "(train_x, train_y), (valid_x, valid_y), (test_x, test_y) = load_dataset(dataset_path, image_format='jpg')"
   ]
  },
  {
   "cell_type": "code",
   "execution_count": 11,
   "metadata": {
    "colab": {
     "base_uri": "https://localhost:8080/"
    },
    "id": "aLCh4XsLC8om",
    "outputId": "67446c62-a08f-49e6-86b7-b1f871502af3"
   },
   "outputs": [
    {
     "name": "stdout",
     "output_type": "stream",
     "text": [
      "Train: 2605 - 2605\n",
      "Valid: 306 - 306\n",
      "Test : 153 - 153\n"
     ]
    }
   ],
   "source": [
    "# Snaity check\n",
    "print(f\"Train: {len(train_x)} - {len(train_y)}\")\n",
    "print(f\"Valid: {len(valid_x)} - {len(valid_y)}\")\n",
    "print(f\"Test : {len(test_x)} - {len(test_y)}\")"
   ]
  },
  {
   "cell_type": "markdown",
   "metadata": {},
   "source": [
    "The below code creates a pandas DataFrame object `train_x_df` containing the paths to the training images, splits the paths by '/' using `str.split()` function, stores the resulting parts in separate columns, and sorts the column containing the names of the subdirectories in ascending order."
   ]
  },
  {
   "cell_type": "code",
   "execution_count": 12,
   "metadata": {
    "colab": {
     "base_uri": "https://localhost:8080/",
     "height": 206
    },
    "id": "Au5m0vbxqGdz",
    "outputId": "9733ed5b-a422-4e1a-b179-86452d46e819",
    "scrolled": true
   },
   "outputs": [
    {
     "data": {
      "text/html": [
       "<div>\n",
       "<style scoped>\n",
       "    .dataframe tbody tr th:only-of-type {\n",
       "        vertical-align: middle;\n",
       "    }\n",
       "\n",
       "    .dataframe tbody tr th {\n",
       "        vertical-align: top;\n",
       "    }\n",
       "\n",
       "    .dataframe thead th {\n",
       "        text-align: right;\n",
       "    }\n",
       "</style>\n",
       "<table border=\"1\" class=\"dataframe\">\n",
       "  <thead>\n",
       "    <tr style=\"text-align: right;\">\n",
       "      <th></th>\n",
       "      <th>0</th>\n",
       "      <th>1</th>\n",
       "      <th>2</th>\n",
       "    </tr>\n",
       "  </thead>\n",
       "  <tbody>\n",
       "    <tr>\n",
       "      <th>0</th>\n",
       "      <td>dataset</td>\n",
       "      <td>images</td>\n",
       "      <td>103582_pituitary_1634.jpg</td>\n",
       "    </tr>\n",
       "    <tr>\n",
       "      <th>1</th>\n",
       "      <td>dataset</td>\n",
       "      <td>images</td>\n",
       "      <td>101724_pituitary_1933.jpg</td>\n",
       "    </tr>\n",
       "    <tr>\n",
       "      <th>2</th>\n",
       "      <td>dataset</td>\n",
       "      <td>images</td>\n",
       "      <td>104684_pituitary_1104.jpg</td>\n",
       "    </tr>\n",
       "    <tr>\n",
       "      <th>3</th>\n",
       "      <td>dataset</td>\n",
       "      <td>images</td>\n",
       "      <td>112847_pituitary_70.jpg</td>\n",
       "    </tr>\n",
       "    <tr>\n",
       "      <th>4</th>\n",
       "      <td>dataset</td>\n",
       "      <td>images</td>\n",
       "      <td>MR026175E_glioma_337.jpg</td>\n",
       "    </tr>\n",
       "  </tbody>\n",
       "</table>\n",
       "</div>"
      ],
      "text/plain": [
       "         0       1                          2\n",
       "0  dataset  images  103582_pituitary_1634.jpg\n",
       "1  dataset  images  101724_pituitary_1933.jpg\n",
       "2  dataset  images  104684_pituitary_1104.jpg\n",
       "3  dataset  images    112847_pituitary_70.jpg\n",
       "4  dataset  images   MR026175E_glioma_337.jpg"
      ]
     },
     "execution_count": 12,
     "metadata": {},
     "output_type": "execute_result"
    }
   ],
   "source": [
    "train_x_df=pd.DataFrame(train_x, columns=['path'])\n",
    "train_x_df = train_x_df.path.str.split(\"/\", expand=True)\n",
    "train_x_df[2]=train_x_df[2].sort_values()\n",
    "train_x_df.head()"
   ]
  },
  {
   "cell_type": "markdown",
   "metadata": {},
   "source": [
    "The following code creates a pandas DataFrame object containing the paths to the training masks and splits the paths by '/' using `str.split()`, storing the resulting parts in separate columns, and sorting the column containing the names of the subdirectories in ascending order."
   ]
  },
  {
   "cell_type": "code",
   "execution_count": 13,
   "metadata": {
    "colab": {
     "base_uri": "https://localhost:8080/",
     "height": 206
    },
    "id": "ZoxpHR_D5E0D",
    "outputId": "5e4cd021-b306-4289-b7fb-b679c41e8e53"
   },
   "outputs": [
    {
     "data": {
      "text/html": [
       "<div>\n",
       "<style scoped>\n",
       "    .dataframe tbody tr th:only-of-type {\n",
       "        vertical-align: middle;\n",
       "    }\n",
       "\n",
       "    .dataframe tbody tr th {\n",
       "        vertical-align: top;\n",
       "    }\n",
       "\n",
       "    .dataframe thead th {\n",
       "        text-align: right;\n",
       "    }\n",
       "</style>\n",
       "<table border=\"1\" class=\"dataframe\">\n",
       "  <thead>\n",
       "    <tr style=\"text-align: right;\">\n",
       "      <th></th>\n",
       "      <th>0</th>\n",
       "      <th>1</th>\n",
       "      <th>2</th>\n",
       "    </tr>\n",
       "  </thead>\n",
       "  <tbody>\n",
       "    <tr>\n",
       "      <th>0</th>\n",
       "      <td>dataset</td>\n",
       "      <td>masks</td>\n",
       "      <td>103582_pituitary_1634.jpg</td>\n",
       "    </tr>\n",
       "    <tr>\n",
       "      <th>1</th>\n",
       "      <td>dataset</td>\n",
       "      <td>masks</td>\n",
       "      <td>101724_pituitary_1933.jpg</td>\n",
       "    </tr>\n",
       "    <tr>\n",
       "      <th>2</th>\n",
       "      <td>dataset</td>\n",
       "      <td>masks</td>\n",
       "      <td>104684_pituitary_1104.jpg</td>\n",
       "    </tr>\n",
       "    <tr>\n",
       "      <th>3</th>\n",
       "      <td>dataset</td>\n",
       "      <td>masks</td>\n",
       "      <td>112847_pituitary_70.jpg</td>\n",
       "    </tr>\n",
       "    <tr>\n",
       "      <th>4</th>\n",
       "      <td>dataset</td>\n",
       "      <td>masks</td>\n",
       "      <td>MR026175E_glioma_337.jpg</td>\n",
       "    </tr>\n",
       "  </tbody>\n",
       "</table>\n",
       "</div>"
      ],
      "text/plain": [
       "         0      1                          2\n",
       "0  dataset  masks  103582_pituitary_1634.jpg\n",
       "1  dataset  masks  101724_pituitary_1933.jpg\n",
       "2  dataset  masks  104684_pituitary_1104.jpg\n",
       "3  dataset  masks    112847_pituitary_70.jpg\n",
       "4  dataset  masks   MR026175E_glioma_337.jpg"
      ]
     },
     "execution_count": 13,
     "metadata": {},
     "output_type": "execute_result"
    }
   ],
   "source": [
    "train_y_df=pd.DataFrame(train_y, columns=['path'])\n",
    "train_y_df = train_y_df.path.str.split(\"/\", expand=True)\n",
    "train_y_df[2]=train_y_df[2].sort_values()\n",
    "train_y_df.head()"
   ]
  },
  {
   "cell_type": "markdown",
   "metadata": {},
   "source": [
    "Here we create a pandas DataFrame object containing the paths to the validation images, splits the paths by '/' using `str.split()`, storing the resulting parts in separate columns, and sorts the column containing the names of the subdirectories in ascending order."
   ]
  },
  {
   "cell_type": "code",
   "execution_count": 14,
   "metadata": {
    "colab": {
     "base_uri": "https://localhost:8080/",
     "height": 206
    },
    "id": "IjakjsQeK1wS",
    "outputId": "904c902e-b743-43aa-b84b-73a514a2da40"
   },
   "outputs": [
    {
     "data": {
      "text/html": [
       "<div>\n",
       "<style scoped>\n",
       "    .dataframe tbody tr th:only-of-type {\n",
       "        vertical-align: middle;\n",
       "    }\n",
       "\n",
       "    .dataframe tbody tr th {\n",
       "        vertical-align: top;\n",
       "    }\n",
       "\n",
       "    .dataframe thead th {\n",
       "        text-align: right;\n",
       "    }\n",
       "</style>\n",
       "<table border=\"1\" class=\"dataframe\">\n",
       "  <thead>\n",
       "    <tr style=\"text-align: right;\">\n",
       "      <th></th>\n",
       "      <th>0</th>\n",
       "      <th>1</th>\n",
       "      <th>2</th>\n",
       "    </tr>\n",
       "  </thead>\n",
       "  <tbody>\n",
       "    <tr>\n",
       "      <th>0</th>\n",
       "      <td>dataset</td>\n",
       "      <td>images</td>\n",
       "      <td>112552_meningioma_88.jpg</td>\n",
       "    </tr>\n",
       "    <tr>\n",
       "      <th>1</th>\n",
       "      <td>dataset</td>\n",
       "      <td>images</td>\n",
       "      <td>102075_glioma_739.jpg</td>\n",
       "    </tr>\n",
       "    <tr>\n",
       "      <th>2</th>\n",
       "      <td>dataset</td>\n",
       "      <td>images</td>\n",
       "      <td>112649_pituitary_2472.jpg</td>\n",
       "    </tr>\n",
       "    <tr>\n",
       "      <th>3</th>\n",
       "      <td>dataset</td>\n",
       "      <td>images</td>\n",
       "      <td>97890_pituitary_67.jpg</td>\n",
       "    </tr>\n",
       "    <tr>\n",
       "      <th>4</th>\n",
       "      <td>dataset</td>\n",
       "      <td>images</td>\n",
       "      <td>97607_meningioma_477.jpg</td>\n",
       "    </tr>\n",
       "  </tbody>\n",
       "</table>\n",
       "</div>"
      ],
      "text/plain": [
       "         0       1                          2\n",
       "0  dataset  images   112552_meningioma_88.jpg\n",
       "1  dataset  images      102075_glioma_739.jpg\n",
       "2  dataset  images  112649_pituitary_2472.jpg\n",
       "3  dataset  images     97890_pituitary_67.jpg\n",
       "4  dataset  images   97607_meningioma_477.jpg"
      ]
     },
     "execution_count": 14,
     "metadata": {},
     "output_type": "execute_result"
    }
   ],
   "source": [
    "valid_x_df=pd.DataFrame(valid_x, columns=['path'])\n",
    "valid_x_df = valid_x_df.path.str.split(\"/\", expand=True)\n",
    "valid_x_df[2]=valid_x_df[2].sort_values()\n",
    "valid_x_df.head()"
   ]
  },
  {
   "cell_type": "markdown",
   "metadata": {},
   "source": [
    "Here we create a pandas DataFrame object containing the paths to the validation masks, splits the paths by '/' using `str.split()`, storing the resulting parts in separate columns, and sorts the column containing the names of the subdirectories in ascending order."
   ]
  },
  {
   "cell_type": "code",
   "execution_count": 15,
   "metadata": {
    "colab": {
     "base_uri": "https://localhost:8080/",
     "height": 206
    },
    "id": "dK9qhk4OLUVD",
    "outputId": "39d66127-69ac-4b3e-a189-37fbbbb5dea7"
   },
   "outputs": [
    {
     "data": {
      "text/html": [
       "<div>\n",
       "<style scoped>\n",
       "    .dataframe tbody tr th:only-of-type {\n",
       "        vertical-align: middle;\n",
       "    }\n",
       "\n",
       "    .dataframe tbody tr th {\n",
       "        vertical-align: top;\n",
       "    }\n",
       "\n",
       "    .dataframe thead th {\n",
       "        text-align: right;\n",
       "    }\n",
       "</style>\n",
       "<table border=\"1\" class=\"dataframe\">\n",
       "  <thead>\n",
       "    <tr style=\"text-align: right;\">\n",
       "      <th></th>\n",
       "      <th>0</th>\n",
       "      <th>1</th>\n",
       "      <th>2</th>\n",
       "    </tr>\n",
       "  </thead>\n",
       "  <tbody>\n",
       "    <tr>\n",
       "      <th>0</th>\n",
       "      <td>dataset</td>\n",
       "      <td>masks</td>\n",
       "      <td>112552_meningioma_88.jpg</td>\n",
       "    </tr>\n",
       "    <tr>\n",
       "      <th>1</th>\n",
       "      <td>dataset</td>\n",
       "      <td>masks</td>\n",
       "      <td>102075_glioma_739.jpg</td>\n",
       "    </tr>\n",
       "    <tr>\n",
       "      <th>2</th>\n",
       "      <td>dataset</td>\n",
       "      <td>masks</td>\n",
       "      <td>112649_pituitary_2472.jpg</td>\n",
       "    </tr>\n",
       "    <tr>\n",
       "      <th>3</th>\n",
       "      <td>dataset</td>\n",
       "      <td>masks</td>\n",
       "      <td>97890_pituitary_67.jpg</td>\n",
       "    </tr>\n",
       "    <tr>\n",
       "      <th>4</th>\n",
       "      <td>dataset</td>\n",
       "      <td>masks</td>\n",
       "      <td>97607_meningioma_477.jpg</td>\n",
       "    </tr>\n",
       "  </tbody>\n",
       "</table>\n",
       "</div>"
      ],
      "text/plain": [
       "         0      1                          2\n",
       "0  dataset  masks   112552_meningioma_88.jpg\n",
       "1  dataset  masks      102075_glioma_739.jpg\n",
       "2  dataset  masks  112649_pituitary_2472.jpg\n",
       "3  dataset  masks     97890_pituitary_67.jpg\n",
       "4  dataset  masks   97607_meningioma_477.jpg"
      ]
     },
     "execution_count": 15,
     "metadata": {},
     "output_type": "execute_result"
    }
   ],
   "source": [
    "valid_y_df=pd.DataFrame(valid_y, columns=['path'])\n",
    "valid_y_df = valid_y_df.path.str.split(\"/\", expand=True)\n",
    "valid_y_df[2]=valid_y_df[2].sort_values()\n",
    "valid_y_df.head()"
   ]
  },
  {
   "cell_type": "markdown",
   "metadata": {},
   "source": [
    "## Data Augmentation\n",
    "\n",
    "\n",
    "Here we need to initialize a random seed and imports the `ImageDataGenerator` class from the Keras library to define `img_data_gen_args` and `mask_data_gen_args` which specify the data augmentation parameters for images and masks, respectively. Two `ImageDataGenerator` objects are then created using these dictionaries. These generators are used to flow data from the dataframes of training and validation images and masks into the model. The `flow_from_dataframe()` function creates a generator that yields batches of augmented images and masks during training and validation. The `color_mode` parameter specifies the color channel format of the images and masks, and the `target_size` parameter defines the desired size of the images and masks after augmentation."
   ]
  },
  {
   "cell_type": "code",
   "execution_count": 16,
   "metadata": {
    "colab": {
     "base_uri": "https://localhost:8080/"
    },
    "id": "hD6xrtYZ5Ypc",
    "outputId": "71d96df4-92aa-4ca3-ccab-bcf3f013d603"
   },
   "outputs": [
    {
     "name": "stdout",
     "output_type": "stream",
     "text": [
      "Found 2605 validated image filenames.\n",
      "Found 2605 validated image filenames.\n",
      "Found 306 validated image filenames.\n",
      "Found 306 validated image filenames.\n"
     ]
    }
   ],
   "source": [
    "seed=42\n",
    "from keras.preprocessing.image import ImageDataGenerator\n",
    "\n",
    "img_data_gen_args = dict(rotation_range=30,\n",
    "                     width_shift_range=0.1,\n",
    "                     height_shift_range=0.1,\n",
    "                     shear_range=0.2,\n",
    "                     zoom_range=0.1,\n",
    "                     horizontal_flip=True,\n",
    "                     vertical_flip=True,\n",
    "                     fill_mode='reflect') \n",
    "\n",
    "mask_data_gen_args = dict(rotation_range=30,\n",
    "                     width_shift_range=0.1,\n",
    "                     height_shift_range=0.1,\n",
    "                     shear_range=0.2,\n",
    "                     zoom_range=0.1,\n",
    "                     horizontal_flip=True,\n",
    "                     vertical_flip=True,\n",
    "                     fill_mode='reflect') \n",
    "image_data_generator = ImageDataGenerator(**img_data_gen_args)\n",
    "# image_data_generator.fit(X_train, augment=True, seed=seed)\n",
    "mask_data_generator = ImageDataGenerator(**mask_data_gen_args)\n",
    "# mask_data_generator.fit(Y_train, augment=True, seed=seed)\n",
    "\n",
    "image_generator = image_data_generator.flow_from_dataframe(dataframe=train_x_df, x_col=2, directory=image_path, class_mode=None, seed=seed,color_mode=\"rgb\", batch_size=batch_size, target_size=(IMG_WIDTH,IMG_HEIGHT))\n",
    "mask_generator = mask_data_generator.flow_from_dataframe(dataframe=train_y_df, x_col=2, directory=mask_path, class_mode=None, seed=seed,color_mode=\"grayscale\", batch_size=batch_size, target_size=(IMG_WIDTH,IMG_HEIGHT))\n",
    "\n",
    "valid_img_generator = image_data_generator.flow_from_dataframe(dataframe=valid_x_df, x_col=2, directory=image_path, class_mode=None, seed=seed,color_mode=\"rgb\", batch_size=batch_size, target_size=(IMG_WIDTH,IMG_HEIGHT))\n",
    "valid_mask_generator = mask_data_generator.flow_from_dataframe(dataframe=valid_y_df, x_col=2, directory=mask_path, class_mode=None, seed=seed,color_mode=\"grayscale\", batch_size=batch_size, target_size=(IMG_WIDTH,IMG_HEIGHT))"
   ]
  },
  {
   "cell_type": "code",
   "execution_count": 17,
   "metadata": {
    "colab": {
     "base_uri": "https://localhost:8080/"
    },
    "id": "-atQqJTcD-Bf",
    "outputId": "8d38f8a5-2971-44f0-db20-4ec2ba066e08"
   },
   "outputs": [
    {
     "name": "stdout",
     "output_type": "stream",
     "text": [
      "Train: 261\n",
      "Valid: 31\n"
     ]
    }
   ],
   "source": [
    "# Sanity check\n",
    "print(f\"Train: {len(image_generator)}\")\n",
    "print(f\"Valid: {len(valid_img_generator)}\")"
   ]
  },
  {
   "cell_type": "code",
   "execution_count": 18,
   "metadata": {
    "colab": {
     "base_uri": "https://localhost:8080/"
    },
    "id": "I1sOUKZjHPAR",
    "outputId": "355a61aa-8cb9-4928-824c-814d30b7927f"
   },
   "outputs": [
    {
     "data": {
      "text/plain": [
       "((128, 128, 3), (128, 128, 1))"
      ]
     },
     "execution_count": 18,
     "metadata": {},
     "output_type": "execute_result"
    }
   ],
   "source": [
    "# Check image & mask dimensions\n",
    "image_generator[1][0].shape, mask_generator[1][0].shape"
   ]
  },
  {
   "cell_type": "code",
   "execution_count": 19,
   "metadata": {
    "colab": {
     "base_uri": "https://localhost:8080/"
    },
    "id": "TjvaLvRiMkk3",
    "outputId": "49d831d9-b313-4ccd-8b96-4910b254561b"
   },
   "outputs": [
    {
     "data": {
      "text/plain": [
       "((128, 128, 3), (128, 128, 1))"
      ]
     },
     "execution_count": 19,
     "metadata": {},
     "output_type": "execute_result"
    }
   ],
   "source": [
    "valid_img_generator[1][0].shape, valid_mask_generator[1][0].shape"
   ]
  },
  {
   "cell_type": "code",
   "execution_count": 20,
   "metadata": {
    "colab": {
     "base_uri": "https://localhost:8080/",
     "height": 285
    },
    "id": "e01tPqYuHKBF",
    "outputId": "fe08e605-42cb-49e4-b849-cb0e735baf33"
   },
   "outputs": [
    {
     "data": {
      "text/plain": [
       "<matplotlib.image.AxesImage at 0x7fee3f72b280>"
      ]
     },
     "execution_count": 20,
     "metadata": {},
     "output_type": "execute_result"
    },
    {
     "data": {
      "image/png": "[encoded data removed]",
      "text/plain": [
       "<Figure size 432x288 with 1 Axes>"
      ]
     },
     "metadata": {},
     "output_type": "display_data"
    }
   ],
   "source": [
    "# sanity check\n",
    "i=np.random.randint(0, len(image_generator) - 1)\n",
    "j=np.random.randint(0, batch_size - 1)\n",
    "plt.imshow(image_generator[i][j]/255)\n",
    "plt.imshow(mask_generator[i][j], alpha=0.2)"
   ]
  },
  {
   "cell_type": "markdown",
   "metadata": {},
   "source": [
    "The code below defines two functions: `adjust_data` and `my_image_mask_generator`. `adjust_data` normalizes the pixel values of an image and its corresponding mask and returns a tuple containing the normalized image and binary mask. `my_image_mask_generator` takes two generators and generates pairs of normalized images and binary masks by iterating through the generators and calling `adjust_data` for each pair. The function yields each pair as a tuple. The code can be used to prepare input data for deep learning models."
   ]
  },
  {
   "cell_type": "code",
   "execution_count": 20,
   "metadata": {
    "id": "EMXOwZadD-05"
   },
   "outputs": [],
   "source": [
    "# Normalising image pixel values to range 0-1 and convert masks pixels to 1 or 0 only (binarize)\n",
    "def adjust_data(img,mask):\n",
    "    img = img / 255.\n",
    "    mask = mask / 255\n",
    "    mask[mask > 0] = 1\n",
    "    mask[mask <= 0] = 0\n",
    "    return (img, mask)\n",
    "def my_image_mask_generator(image_generator, mask_generator):\n",
    "    train_generator = zip(image_generator, mask_generator)\n",
    "    for (img, mask) in train_generator:\n",
    "         img, mask = adjust_data(img, mask)\n",
    "         yield (img, mask)"
   ]
  },
  {
   "cell_type": "markdown",
   "metadata": {},
   "source": [
    "The code below initializes the training and validation datasets using the custom generator function `my_image_mask_generator()`. The `train_dataset` is created by calling `my_image_mask_generator()` with the `image_generator` and `mask_generator`, while valid_dataset is created by calling `my_image_mask_generator()` with `valid_img_generator` and `valid_mask_generator`. These generators yield pairs of augmented images and masks during training and validation."
   ]
  },
  {
   "cell_type": "code",
   "execution_count": 21,
   "metadata": {
    "id": "nvFy0jNdEBpw"
   },
   "outputs": [],
   "source": [
    "train_dataset = my_image_mask_generator(image_generator, mask_generator)\n",
    "valid_dataset = my_image_mask_generator(valid_img_generator, valid_mask_generator)"
   ]
  },
  {
   "cell_type": "markdown",
   "metadata": {},
   "source": [
    "We need to calculate the number of batches in the training and validation datasets using `steps_per_epoch` and `val_steps` variables, respectively. `steps_per_epoch` is calculated by multiplying the length of `train_x` by 3 and dividing the result by batch_size. Similarly, `val_steps` is calculated by multiplying the length of `valid_x` by 3 and dividing the result by `batch_size`. These variables are used to specify the number of training and validation steps during model training."
   ]
  },
  {
   "cell_type": "code",
   "execution_count": 22,
   "metadata": {
    "id": "CQyQCiEYEE49"
   },
   "outputs": [],
   "source": [
    "steps_per_epoch = 3*(len(train_x))//batch_size\n",
    "val_steps = 3*(len(valid_x))//batch_size"
   ]
  },
  {
   "cell_type": "markdown",
   "metadata": {},
   "source": [
    "## Evaluation Metrics\n",
    "   **- Dice Coefficient (F1 Score)**\\\n",
    "   **- Intersection-Over-Union (Jaccard Index)**"
   ]
  },
  {
   "cell_type": "markdown",
   "metadata": {},
   "source": [
    "Her we need to define three functions: `dice_coef`, `dice_loss`, and `iou`, which are used to evaluate the performance of a segmentation model.\n",
    "\n",
    "- `dice_coef` calculates the dice coefficient between the ground truth mask and predicted mask using the intersection of the two masks.\n",
    "\n",
    "- `dice_loss` returns the complement of the dice coefficient, which is used as a loss function.\n",
    "\n",
    "- `iou` calculates the intersection-over-union metric between the ground truth mask and predicted mask using the intersection and sum of the masks.\n",
    "\n",
    "These functions can be used to evaluate the accuracy of segmentation models during training or testing."
   ]
  },
  {
   "cell_type": "code",
   "execution_count": 23,
   "metadata": {
    "id": "5wqgTaZ1EG8Z"
   },
   "outputs": [],
   "source": [
    "# Evaluation metrics: dice coefficient \n",
    "smooth = 1e-15\n",
    "def dice_coef(y_true, y_pred):\n",
    "    y_true = tf.keras.layers.Flatten()(y_true)\n",
    "    y_pred = tf.keras.layers.Flatten()(y_pred)\n",
    "    intersection = tf.reduce_sum(y_true * y_pred)\n",
    "    return (2. * intersection + smooth) / (tf.reduce_sum(y_true) + tf.reduce_sum(y_pred) + smooth)\n",
    "\n",
    "def dice_loss(y_true, y_pred):\n",
    "    return 1.0 - dice_coef(y_true, y_pred)\n",
    "\n",
    "# Evaluation metrics: iou\n",
    "def iou(y_true, y_pred, smooth = 1.):\n",
    "    intersection = K.sum(y_true * y_pred)\n",
    "    sum_ = K.sum(y_true) + K.sum(y_pred)\n",
    "    jac = (intersection + smooth) / (sum_ - intersection + smooth)\n",
    "    return jac"
   ]
  },
  {
   "cell_type": "markdown",
   "metadata": {},
   "source": [
    "## Modeling"
   ]
  },
  {
   "cell_type": "markdown",
   "metadata": {},
   "source": [
    "**A Feature Pyramid Network**, or **FPN**, is a feature extractor that takes a single-scale image of an arbitrary size as input, and outputs proportionally sized feature maps at multiple levels, in a fully convolutional fashion."
   ]
  },
  {
   "cell_type": "markdown",
   "metadata": {},
   "source": [
    "In this project, we will use a convolutional neural network that was developed for biomedical image segmentation at the Computer Science Department of the University of Freiburg called **FPN**, and this because of:\n",
    "\n",
    "- **FPN** provides a top-down pathway to construct higher resolution layers from a semantic rich layer\n",
    "While the reconstructed layers are semantic strong but the locations of objects are not precise after all the downsampling and upsampling."
   ]
  },
  {
   "cell_type": "markdown",
   "metadata": {},
   "source": [
    "<img src = https://hasty.ai/media/pages/docs/mp-wiki/model-architectures/fpn/0482a9f930-1638357318/fpndiagram.webp\n",
    "     align=\"middle\"\n",
    "     width=800 />"
   ]
  },
  {
   "cell_type": "markdown",
   "metadata": {},
   "source": [
    "## Convolutional Neural etwork (CNNs):\n",
    "A convolutional neural network (**CNN** or **ConvNet**) is a network architecture for deep learning that learns directly from data. CNNs are particularly useful for finding patterns in images to recognize objects, classes, and categories. "
   ]
  },
  {
   "cell_type": "markdown",
   "metadata": {},
   "source": [
    "Here are the steps of CNNs process:\n",
    "\n",
    "- **Pooling**:\n",
    "A technique used in deep learning for image processing\n",
    "Reduces the size of a feature map by taking the maximum or average value from each subregion\n",
    "Helps extract the most important features of an image\n",
    "\n",
    "- **Max pooling**:\n",
    "A type of pooling in which the maximum value from each subregion is taken\n",
    "Commonly used in convolutional neural networks for image classification tasks\n",
    "\n",
    "- **Flatten**:\n",
    "An operation that transforms a multidimensional tensor into a single long vector\n",
    "Often used as the final step in the convolutional layers of a neural network before the fully connected layers\n",
    "Enables the flattened tensor to be fed as input to the fully connected layers\n",
    "\n",
    "- **Classification**:\n",
    "A task in machine learning where the goal is to assign a label to an input data point\n",
    "In image classification, the input data is an image, and the goal is to assign a label to it based on its contents\n",
    "\n",
    "- **Fully connected layers (FC layer)**:\n",
    "The last layers of a neural network that take the flattened output from the convolutional layers\n",
    "Transform the flattened output into a vector of class scores\n",
    "Each neuron in the layer is connected to every neuron in the previous layer\n",
    "The output is computed using a linear transformation followed by a nonlinear activation function, such as the softmax function."
   ]
  },
  {
   "cell_type": "markdown",
   "metadata": {},
   "source": [
    "<img src =https://www.researchgate.net/profile/Zahid-Ullah-14/publication/350395713/figure/fig3/AS:1007693917585410@1617264360166/Architecture-of-Convolutional-Neural-Networks.ppm\n",
    "     align=\"middle\"\n",
    "     width=800 />"
   ]
  },
  {
   "cell_type": "markdown",
   "metadata": {},
   "source": [
    "The `backbone` used for the FPN is `resNet34`, which is a convolutional neural network architecture widely used for image classification and object detection tasks.\n",
    "\n",
    "- The `input_shape` variable is defined as a tuple containing the image width, height, and number of channels.\n",
    "\n",
    "- The `preprocess_input` function is called with the `BACKBONE` parameter to preprocess the input data.\n",
    "\n",
    "- The `model` is defined using the `FPN` function with parameters `BACKBONE`, `encoder_weights`, `input_shape`, `classes`, `activation`, and `pyramid_dropout`.\n",
    "\n",
    "- The `encoder_weights` argument specifies to use the pre-trained weights from ImageNet.\n",
    "\n",
    "- The `classes` argument specifies the number of classes to classify.\n",
    "\n",
    "- The `activation` argument specifies the activation function for the final layer of the model.\n",
    "\n",
    "- The `pyramid_dropout` argument is used to apply dropout regularization to the FPN pyramid.\n",
    "\n",
    "- The `summary` method is called on the model object to display a summary of the model architecture.\n",
    "\n",
    "Overall, this code defines a powerful image classification or object detection model using the FPN architecture with ResNet34 as the backbone and pre-trained weights from ImageNet."
   ]
  },
  {
   "cell_type": "code",
   "execution_count": 24,
   "metadata": {
    "colab": {
     "base_uri": "https://localhost:8080/"
    },
    "id": "S6ojwEgyV69g",
    "outputId": "f3237ec2-618e-42fe-aaad-598322db0d35"
   },
   "outputs": [
    {
     "name": "stdout",
     "output_type": "stream",
     "text": [
      "Model: \"model_1\"\n",
      "__________________________________________________________________________________________________\n",
      " Layer (type)                   Output Shape         Param #     Connected to                     \n",
      "==================================================================================================\n",
      " data (InputLayer)              [(None, 128, 128, 3  0           []                               \n",
      "                                )]                                                                \n",
      "                                                                                                  \n",
      " bn_data (BatchNormalization)   (None, 128, 128, 3)  9           ['data[0][0]']                   \n",
      "                                                                                                  \n",
      " zero_padding2d (ZeroPadding2D)  (None, 134, 134, 3)  0          ['bn_data[0][0]']                \n",
      "                                                                                                  \n",
      " conv0 (Conv2D)                 (None, 64, 64, 64)   9408        ['zero_padding2d[0][0]']         \n",
      "                                                                                                  \n",
      " bn0 (BatchNormalization)       (None, 64, 64, 64)   256         ['conv0[0][0]']                  \n",
      "                                                                                                  \n",
      " relu0 (Activation)             (None, 64, 64, 64)   0           ['bn0[0][0]']                    \n",
      "                                                                                                  \n",
      " zero_padding2d_1 (ZeroPadding2  (None, 66, 66, 64)  0           ['relu0[0][0]']                  \n",
      " D)                                                                                               \n",
      "                                                                                                  \n",
      " pooling0 (MaxPooling2D)        (None, 32, 32, 64)   0           ['zero_padding2d_1[0][0]']       \n",
      "                                                                                                  \n",
      " stage1_unit1_bn1 (BatchNormali  (None, 32, 32, 64)  256         ['pooling0[0][0]']               \n",
      " zation)                                                                                          \n",
      "                                                                                                  \n",
      " stage1_unit1_relu1 (Activation  (None, 32, 32, 64)  0           ['stage1_unit1_bn1[0][0]']       \n",
      " )                                                                                                \n",
      "                                                                                                  \n",
      " zero_padding2d_2 (ZeroPadding2  (None, 34, 34, 64)  0           ['stage1_unit1_relu1[0][0]']     \n",
      " D)                                                                                               \n",
      "                                                                                                  \n",
      " stage1_unit1_conv1 (Conv2D)    (None, 32, 32, 64)   36864       ['zero_padding2d_2[0][0]']       \n",
      "                                                                                                  \n",
      " stage1_unit1_bn2 (BatchNormali  (None, 32, 32, 64)  256         ['stage1_unit1_conv1[0][0]']     \n",
      " zation)                                                                                          \n",
      "                                                                                                  \n",
      " stage1_unit1_relu2 (Activation  (None, 32, 32, 64)  0           ['stage1_unit1_bn2[0][0]']       \n",
      " )                                                                                                \n",
      "                                                                                                  \n",
      " zero_padding2d_3 (ZeroPadding2  (None, 34, 34, 64)  0           ['stage1_unit1_relu2[0][0]']     \n",
      " D)                                                                                               \n",
      "                                                                                                  \n",
      " stage1_unit1_conv2 (Conv2D)    (None, 32, 32, 64)   36864       ['zero_padding2d_3[0][0]']       \n",
      "                                                                                                  \n",
      " stage1_unit1_sc (Conv2D)       (None, 32, 32, 64)   4096        ['stage1_unit1_relu1[0][0]']     \n",
      "                                                                                                  \n",
      " add (Add)                      (None, 32, 32, 64)   0           ['stage1_unit1_conv2[0][0]',     \n",
      "                                                                  'stage1_unit1_sc[0][0]']        \n",
      "                                                                                                  \n",
      " stage1_unit2_bn1 (BatchNormali  (None, 32, 32, 64)  256         ['add[0][0]']                    \n",
      " zation)                                                                                          \n",
      "                                                                                                  \n",
      " stage1_unit2_relu1 (Activation  (None, 32, 32, 64)  0           ['stage1_unit2_bn1[0][0]']       \n",
      " )                                                                                                \n",
      "                                                                                                  \n",
      " zero_padding2d_4 (ZeroPadding2  (None, 34, 34, 64)  0           ['stage1_unit2_relu1[0][0]']     \n",
      " D)                                                                                               \n",
      "                                                                                                  \n",
      " stage1_unit2_conv1 (Conv2D)    (None, 32, 32, 64)   36864       ['zero_padding2d_4[0][0]']       \n",
      "                                                                                                  \n",
      " stage1_unit2_bn2 (BatchNormali  (None, 32, 32, 64)  256         ['stage1_unit2_conv1[0][0]']     \n",
      " zation)                                                                                          \n",
      "                                                                                                  \n",
      " stage1_unit2_relu2 (Activation  (None, 32, 32, 64)  0           ['stage1_unit2_bn2[0][0]']       \n",
      " )                                                                                                \n",
      "                                                                                                  \n",
      " zero_padding2d_5 (ZeroPadding2  (None, 34, 34, 64)  0           ['stage1_unit2_relu2[0][0]']     \n",
      " D)                                                                                               \n",
      "                                                                                                  \n",
      " stage1_unit2_conv2 (Conv2D)    (None, 32, 32, 64)   36864       ['zero_padding2d_5[0][0]']       \n",
      "                                                                                                  \n",
      " add_1 (Add)                    (None, 32, 32, 64)   0           ['stage1_unit2_conv2[0][0]',     \n",
      "                                                                  'add[0][0]']                    \n",
      "                                                                                                  \n",
      " stage1_unit3_bn1 (BatchNormali  (None, 32, 32, 64)  256         ['add_1[0][0]']                  \n",
      " zation)                                                                                          \n",
      "                                                                                                  \n",
      " stage1_unit3_relu1 (Activation  (None, 32, 32, 64)  0           ['stage1_unit3_bn1[0][0]']       \n",
      " )                                                                                                \n",
      "                                                                                                  \n",
      " zero_padding2d_6 (ZeroPadding2  (None, 34, 34, 64)  0           ['stage1_unit3_relu1[0][0]']     \n",
      " D)                                                                                               \n",
      "                                                                                                  \n",
      " stage1_unit3_conv1 (Conv2D)    (None, 32, 32, 64)   36864       ['zero_padding2d_6[0][0]']       \n",
      "                                                                                                  \n",
      " stage1_unit3_bn2 (BatchNormali  (None, 32, 32, 64)  256         ['stage1_unit3_conv1[0][0]']     \n",
      " zation)                                                                                          \n",
      "                                                                                                  \n",
      " stage1_unit3_relu2 (Activation  (None, 32, 32, 64)  0           ['stage1_unit3_bn2[0][0]']       \n",
      " )                                                                                                \n",
      "                                                                                                  \n",
      " zero_padding2d_7 (ZeroPadding2  (None, 34, 34, 64)  0           ['stage1_unit3_relu2[0][0]']     \n",
      " D)                                                                                               \n",
      "                                                                                                  \n",
      " stage1_unit3_conv2 (Conv2D)    (None, 32, 32, 64)   36864       ['zero_padding2d_7[0][0]']       \n",
      "                                                                                                  \n",
      " add_2 (Add)                    (None, 32, 32, 64)   0           ['stage1_unit3_conv2[0][0]',     \n",
      "                                                                  'add_1[0][0]']                  \n",
      "                                                                                                  \n",
      " stage2_unit1_bn1 (BatchNormali  (None, 32, 32, 64)  256         ['add_2[0][0]']                  \n",
      " zation)                                                                                          \n",
      "                                                                                                  \n",
      " stage2_unit1_relu1 (Activation  (None, 32, 32, 64)  0           ['stage2_unit1_bn1[0][0]']       \n",
      " )                                                                                                \n",
      "                                                                                                  \n",
      " zero_padding2d_8 (ZeroPadding2  (None, 34, 34, 64)  0           ['stage2_unit1_relu1[0][0]']     \n",
      " D)                                                                                               \n",
      "                                                                                                  \n",
      " stage2_unit1_conv1 (Conv2D)    (None, 16, 16, 128)  73728       ['zero_padding2d_8[0][0]']       \n",
      "                                                                                                  \n",
      " stage2_unit1_bn2 (BatchNormali  (None, 16, 16, 128)  512        ['stage2_unit1_conv1[0][0]']     \n",
      " zation)                                                                                          \n",
      "                                                                                                  \n",
      " stage2_unit1_relu2 (Activation  (None, 16, 16, 128)  0          ['stage2_unit1_bn2[0][0]']       \n",
      " )                                                                                                \n",
      "                                                                                                  \n",
      " zero_padding2d_9 (ZeroPadding2  (None, 18, 18, 128)  0          ['stage2_unit1_relu2[0][0]']     \n",
      " D)                                                                                               \n",
      "                                                                                                  \n",
      " stage2_unit1_conv2 (Conv2D)    (None, 16, 16, 128)  147456      ['zero_padding2d_9[0][0]']       \n",
      "                                                                                                  \n",
      " stage2_unit1_sc (Conv2D)       (None, 16, 16, 128)  8192        ['stage2_unit1_relu1[0][0]']     \n",
      "                                                                                                  \n",
      " add_3 (Add)                    (None, 16, 16, 128)  0           ['stage2_unit1_conv2[0][0]',     \n",
      "                                                                  'stage2_unit1_sc[0][0]']        \n",
      "                                                                                                  \n",
      " stage2_unit2_bn1 (BatchNormali  (None, 16, 16, 128)  512        ['add_3[0][0]']                  \n",
      " zation)                                                                                          \n",
      "                                                                                                  \n",
      " stage2_unit2_relu1 (Activation  (None, 16, 16, 128)  0          ['stage2_unit2_bn1[0][0]']       \n",
      " )                                                                                                \n",
      "                                                                                                  \n",
      " zero_padding2d_10 (ZeroPadding  (None, 18, 18, 128)  0          ['stage2_unit2_relu1[0][0]']     \n",
      " 2D)                                                                                              \n",
      "                                                                                                  \n",
      " stage2_unit2_conv1 (Conv2D)    (None, 16, 16, 128)  147456      ['zero_padding2d_10[0][0]']      \n",
      "                                                                                                  \n",
      " stage2_unit2_bn2 (BatchNormali  (None, 16, 16, 128)  512        ['stage2_unit2_conv1[0][0]']     \n",
      " zation)                                                                                          \n",
      "                                                                                                  \n",
      " stage2_unit2_relu2 (Activation  (None, 16, 16, 128)  0          ['stage2_unit2_bn2[0][0]']       \n",
      " )                                                                                                \n",
      "                                                                                                  \n",
      " zero_padding2d_11 (ZeroPadding  (None, 18, 18, 128)  0          ['stage2_unit2_relu2[0][0]']     \n",
      " 2D)                                                                                              \n",
      "                                                                                                  \n",
      " stage2_unit2_conv2 (Conv2D)    (None, 16, 16, 128)  147456      ['zero_padding2d_11[0][0]']      \n",
      "                                                                                                  \n",
      " add_4 (Add)                    (None, 16, 16, 128)  0           ['stage2_unit2_conv2[0][0]',     \n",
      "                                                                  'add_3[0][0]']                  \n",
      "                                                                                                  \n",
      " stage2_unit3_bn1 (BatchNormali  (None, 16, 16, 128)  512        ['add_4[0][0]']                  \n",
      " zation)                                                                                          \n",
      "                                                                                                  \n",
      " stage2_unit3_relu1 (Activation  (None, 16, 16, 128)  0          ['stage2_unit3_bn1[0][0]']       \n",
      " )                                                                                                \n",
      "                                                                                                  \n",
      " zero_padding2d_12 (ZeroPadding  (None, 18, 18, 128)  0          ['stage2_unit3_relu1[0][0]']     \n",
      " 2D)                                                                                              \n",
      "                                                                                                  \n",
      " stage2_unit3_conv1 (Conv2D)    (None, 16, 16, 128)  147456      ['zero_padding2d_12[0][0]']      \n",
      "                                                                                                  \n",
      " stage2_unit3_bn2 (BatchNormali  (None, 16, 16, 128)  512        ['stage2_unit3_conv1[0][0]']     \n",
      " zation)                                                                                          \n",
      "                                                                                                  \n",
      " stage2_unit3_relu2 (Activation  (None, 16, 16, 128)  0          ['stage2_unit3_bn2[0][0]']       \n",
      " )                                                                                                \n",
      "                                                                                                  \n",
      " zero_padding2d_13 (ZeroPadding  (None, 18, 18, 128)  0          ['stage2_unit3_relu2[0][0]']     \n",
      " 2D)                                                                                              \n",
      "                                                                                                  \n",
      " stage2_unit3_conv2 (Conv2D)    (None, 16, 16, 128)  147456      ['zero_padding2d_13[0][0]']      \n",
      "                                                                                                  \n",
      " add_5 (Add)                    (None, 16, 16, 128)  0           ['stage2_unit3_conv2[0][0]',     \n",
      "                                                                  'add_4[0][0]']                  \n",
      "                                                                                                  \n",
      " stage2_unit4_bn1 (BatchNormali  (None, 16, 16, 128)  512        ['add_5[0][0]']                  \n",
      " zation)                                                                                          \n",
      "                                                                                                  \n",
      " stage2_unit4_relu1 (Activation  (None, 16, 16, 128)  0          ['stage2_unit4_bn1[0][0]']       \n",
      " )                                                                                                \n",
      "                                                                                                  \n",
      " zero_padding2d_14 (ZeroPadding  (None, 18, 18, 128)  0          ['stage2_unit4_relu1[0][0]']     \n",
      " 2D)                                                                                              \n",
      "                                                                                                  \n",
      " stage2_unit4_conv1 (Conv2D)    (None, 16, 16, 128)  147456      ['zero_padding2d_14[0][0]']      \n",
      "                                                                                                  \n",
      " stage2_unit4_bn2 (BatchNormali  (None, 16, 16, 128)  512        ['stage2_unit4_conv1[0][0]']     \n",
      " zation)                                                                                          \n",
      "                                                                                                  \n",
      " stage2_unit4_relu2 (Activation  (None, 16, 16, 128)  0          ['stage2_unit4_bn2[0][0]']       \n",
      " )                                                                                                \n",
      "                                                                                                  \n",
      " zero_padding2d_15 (ZeroPadding  (None, 18, 18, 128)  0          ['stage2_unit4_relu2[0][0]']     \n",
      " 2D)                                                                                              \n",
      "                                                                                                  \n",
      " stage2_unit4_conv2 (Conv2D)    (None, 16, 16, 128)  147456      ['zero_padding2d_15[0][0]']      \n",
      "                                                                                                  \n",
      " add_6 (Add)                    (None, 16, 16, 128)  0           ['stage2_unit4_conv2[0][0]',     \n",
      "                                                                  'add_5[0][0]']                  \n",
      "                                                                                                  \n",
      " stage3_unit1_bn1 (BatchNormali  (None, 16, 16, 128)  512        ['add_6[0][0]']                  \n",
      " zation)                                                                                          \n",
      "                                                                                                  \n",
      " stage3_unit1_relu1 (Activation  (None, 16, 16, 128)  0          ['stage3_unit1_bn1[0][0]']       \n",
      " )                                                                                                \n",
      "                                                                                                  \n",
      " zero_padding2d_16 (ZeroPadding  (None, 18, 18, 128)  0          ['stage3_unit1_relu1[0][0]']     \n",
      " 2D)                                                                                              \n",
      "                                                                                                  \n",
      " stage3_unit1_conv1 (Conv2D)    (None, 8, 8, 256)    294912      ['zero_padding2d_16[0][0]']      \n",
      "                                                                                                  \n",
      " stage3_unit1_bn2 (BatchNormali  (None, 8, 8, 256)   1024        ['stage3_unit1_conv1[0][0]']     \n",
      " zation)                                                                                          \n",
      "                                                                                                  \n",
      " stage3_unit1_relu2 (Activation  (None, 8, 8, 256)   0           ['stage3_unit1_bn2[0][0]']       \n",
      " )                                                                                                \n",
      "                                                                                                  \n",
      " zero_padding2d_17 (ZeroPadding  (None, 10, 10, 256)  0          ['stage3_unit1_relu2[0][0]']     \n",
      " 2D)                                                                                              \n",
      "                                                                                                  \n",
      " stage3_unit1_conv2 (Conv2D)    (None, 8, 8, 256)    589824      ['zero_padding2d_17[0][0]']      \n",
      "                                                                                                  \n",
      " stage3_unit1_sc (Conv2D)       (None, 8, 8, 256)    32768       ['stage3_unit1_relu1[0][0]']     \n",
      "                                                                                                  \n",
      " add_7 (Add)                    (None, 8, 8, 256)    0           ['stage3_unit1_conv2[0][0]',     \n",
      "                                                                  'stage3_unit1_sc[0][0]']        \n",
      "                                                                                                  \n",
      " stage3_unit2_bn1 (BatchNormali  (None, 8, 8, 256)   1024        ['add_7[0][0]']                  \n",
      " zation)                                                                                          \n",
      "                                                                                                  \n",
      " stage3_unit2_relu1 (Activation  (None, 8, 8, 256)   0           ['stage3_unit2_bn1[0][0]']       \n",
      " )                                                                                                \n",
      "                                                                                                  \n",
      " zero_padding2d_18 (ZeroPadding  (None, 10, 10, 256)  0          ['stage3_unit2_relu1[0][0]']     \n",
      " 2D)                                                                                              \n",
      "                                                                                                  \n",
      " stage3_unit2_conv1 (Conv2D)    (None, 8, 8, 256)    589824      ['zero_padding2d_18[0][0]']      \n",
      "                                                                                                  \n",
      " stage3_unit2_bn2 (BatchNormali  (None, 8, 8, 256)   1024        ['stage3_unit2_conv1[0][0]']     \n",
      " zation)                                                                                          \n",
      "                                                                                                  \n",
      " stage3_unit2_relu2 (Activation  (None, 8, 8, 256)   0           ['stage3_unit2_bn2[0][0]']       \n",
      " )                                                                                                \n",
      "                                                                                                  \n",
      " zero_padding2d_19 (ZeroPadding  (None, 10, 10, 256)  0          ['stage3_unit2_relu2[0][0]']     \n",
      " 2D)                                                                                              \n",
      "                                                                                                  \n",
      " stage3_unit2_conv2 (Conv2D)    (None, 8, 8, 256)    589824      ['zero_padding2d_19[0][0]']      \n",
      "                                                                                                  \n",
      " add_8 (Add)                    (None, 8, 8, 256)    0           ['stage3_unit2_conv2[0][0]',     \n",
      "                                                                  'add_7[0][0]']                  \n",
      "                                                                                                  \n",
      " stage3_unit3_bn1 (BatchNormali  (None, 8, 8, 256)   1024        ['add_8[0][0]']                  \n",
      " zation)                                                                                          \n",
      "                                                                                                  \n",
      " stage3_unit3_relu1 (Activation  (None, 8, 8, 256)   0           ['stage3_unit3_bn1[0][0]']       \n",
      " )                                                                                                \n",
      "                                                                                                  \n",
      " zero_padding2d_20 (ZeroPadding  (None, 10, 10, 256)  0          ['stage3_unit3_relu1[0][0]']     \n",
      " 2D)                                                                                              \n",
      "                                                                                                  \n",
      " stage3_unit3_conv1 (Conv2D)    (None, 8, 8, 256)    589824      ['zero_padding2d_20[0][0]']      \n",
      "                                                                                                  \n",
      " stage3_unit3_bn2 (BatchNormali  (None, 8, 8, 256)   1024        ['stage3_unit3_conv1[0][0]']     \n",
      " zation)                                                                                          \n",
      "                                                                                                  \n",
      " stage3_unit3_relu2 (Activation  (None, 8, 8, 256)   0           ['stage3_unit3_bn2[0][0]']       \n",
      " )                                                                                                \n",
      "                                                                                                  \n",
      " zero_padding2d_21 (ZeroPadding  (None, 10, 10, 256)  0          ['stage3_unit3_relu2[0][0]']     \n",
      " 2D)                                                                                              \n",
      "                                                                                                  \n",
      " stage3_unit3_conv2 (Conv2D)    (None, 8, 8, 256)    589824      ['zero_padding2d_21[0][0]']      \n",
      "                                                                                                  \n",
      " add_9 (Add)                    (None, 8, 8, 256)    0           ['stage3_unit3_conv2[0][0]',     \n",
      "                                                                  'add_8[0][0]']                  \n",
      "                                                                                                  \n",
      " stage3_unit4_bn1 (BatchNormali  (None, 8, 8, 256)   1024        ['add_9[0][0]']                  \n",
      " zation)                                                                                          \n",
      "                                                                                                  \n",
      " stage3_unit4_relu1 (Activation  (None, 8, 8, 256)   0           ['stage3_unit4_bn1[0][0]']       \n",
      " )                                                                                                \n",
      "                                                                                                  \n",
      " zero_padding2d_22 (ZeroPadding  (None, 10, 10, 256)  0          ['stage3_unit4_relu1[0][0]']     \n",
      " 2D)                                                                                              \n",
      "                                                                                                  \n",
      " stage3_unit4_conv1 (Conv2D)    (None, 8, 8, 256)    589824      ['zero_padding2d_22[0][0]']      \n",
      "                                                                                                  \n",
      " stage3_unit4_bn2 (BatchNormali  (None, 8, 8, 256)   1024        ['stage3_unit4_conv1[0][0]']     \n",
      " zation)                                                                                          \n",
      "                                                                                                  \n",
      " stage3_unit4_relu2 (Activation  (None, 8, 8, 256)   0           ['stage3_unit4_bn2[0][0]']       \n",
      " )                                                                                                \n",
      "                                                                                                  \n",
      " zero_padding2d_23 (ZeroPadding  (None, 10, 10, 256)  0          ['stage3_unit4_relu2[0][0]']     \n",
      " 2D)                                                                                              \n",
      "                                                                                                  \n",
      " stage3_unit4_conv2 (Conv2D)    (None, 8, 8, 256)    589824      ['zero_padding2d_23[0][0]']      \n",
      "                                                                                                  \n",
      " add_10 (Add)                   (None, 8, 8, 256)    0           ['stage3_unit4_conv2[0][0]',     \n",
      "                                                                  'add_9[0][0]']                  \n",
      "                                                                                                  \n",
      " stage3_unit5_bn1 (BatchNormali  (None, 8, 8, 256)   1024        ['add_10[0][0]']                 \n",
      " zation)                                                                                          \n",
      "                                                                                                  \n",
      " stage3_unit5_relu1 (Activation  (None, 8, 8, 256)   0           ['stage3_unit5_bn1[0][0]']       \n",
      " )                                                                                                \n",
      "                                                                                                  \n",
      " zero_padding2d_24 (ZeroPadding  (None, 10, 10, 256)  0          ['stage3_unit5_relu1[0][0]']     \n",
      " 2D)                                                                                              \n",
      "                                                                                                  \n",
      " stage3_unit5_conv1 (Conv2D)    (None, 8, 8, 256)    589824      ['zero_padding2d_24[0][0]']      \n",
      "                                                                                                  \n",
      " stage3_unit5_bn2 (BatchNormali  (None, 8, 8, 256)   1024        ['stage3_unit5_conv1[0][0]']     \n",
      " zation)                                                                                          \n",
      "                                                                                                  \n",
      " stage3_unit5_relu2 (Activation  (None, 8, 8, 256)   0           ['stage3_unit5_bn2[0][0]']       \n",
      " )                                                                                                \n",
      "                                                                                                  \n",
      " zero_padding2d_25 (ZeroPadding  (None, 10, 10, 256)  0          ['stage3_unit5_relu2[0][0]']     \n",
      " 2D)                                                                                              \n",
      "                                                                                                  \n",
      " stage3_unit5_conv2 (Conv2D)    (None, 8, 8, 256)    589824      ['zero_padding2d_25[0][0]']      \n",
      "                                                                                                  \n",
      " add_11 (Add)                   (None, 8, 8, 256)    0           ['stage3_unit5_conv2[0][0]',     \n",
      "                                                                  'add_10[0][0]']                 \n",
      "                                                                                                  \n",
      " stage3_unit6_bn1 (BatchNormali  (None, 8, 8, 256)   1024        ['add_11[0][0]']                 \n",
      " zation)                                                                                          \n",
      "                                                                                                  \n",
      " stage3_unit6_relu1 (Activation  (None, 8, 8, 256)   0           ['stage3_unit6_bn1[0][0]']       \n",
      " )                                                                                                \n",
      "                                                                                                  \n",
      " zero_padding2d_26 (ZeroPadding  (None, 10, 10, 256)  0          ['stage3_unit6_relu1[0][0]']     \n",
      " 2D)                                                                                              \n",
      "                                                                                                  \n",
      " stage3_unit6_conv1 (Conv2D)    (None, 8, 8, 256)    589824      ['zero_padding2d_26[0][0]']      \n",
      "                                                                                                  \n",
      " stage3_unit6_bn2 (BatchNormali  (None, 8, 8, 256)   1024        ['stage3_unit6_conv1[0][0]']     \n",
      " zation)                                                                                          \n",
      "                                                                                                  \n",
      " stage3_unit6_relu2 (Activation  (None, 8, 8, 256)   0           ['stage3_unit6_bn2[0][0]']       \n",
      " )                                                                                                \n",
      "                                                                                                  \n",
      " zero_padding2d_27 (ZeroPadding  (None, 10, 10, 256)  0          ['stage3_unit6_relu2[0][0]']     \n",
      " 2D)                                                                                              \n",
      "                                                                                                  \n",
      " stage3_unit6_conv2 (Conv2D)    (None, 8, 8, 256)    589824      ['zero_padding2d_27[0][0]']      \n",
      "                                                                                                  \n",
      " add_12 (Add)                   (None, 8, 8, 256)    0           ['stage3_unit6_conv2[0][0]',     \n",
      "                                                                  'add_11[0][0]']                 \n",
      "                                                                                                  \n",
      " stage4_unit1_bn1 (BatchNormali  (None, 8, 8, 256)   1024        ['add_12[0][0]']                 \n",
      " zation)                                                                                          \n",
      "                                                                                                  \n",
      " stage4_unit1_relu1 (Activation  (None, 8, 8, 256)   0           ['stage4_unit1_bn1[0][0]']       \n",
      " )                                                                                                \n",
      "                                                                                                  \n",
      " zero_padding2d_28 (ZeroPadding  (None, 10, 10, 256)  0          ['stage4_unit1_relu1[0][0]']     \n",
      " 2D)                                                                                              \n",
      "                                                                                                  \n",
      " stage4_unit1_conv1 (Conv2D)    (None, 4, 4, 512)    1179648     ['zero_padding2d_28[0][0]']      \n",
      "                                                                                                  \n",
      " stage4_unit1_bn2 (BatchNormali  (None, 4, 4, 512)   2048        ['stage4_unit1_conv1[0][0]']     \n",
      " zation)                                                                                          \n",
      "                                                                                                  \n",
      " stage4_unit1_relu2 (Activation  (None, 4, 4, 512)   0           ['stage4_unit1_bn2[0][0]']       \n",
      " )                                                                                                \n",
      "                                                                                                  \n",
      " zero_padding2d_29 (ZeroPadding  (None, 6, 6, 512)   0           ['stage4_unit1_relu2[0][0]']     \n",
      " 2D)                                                                                              \n",
      "                                                                                                  \n",
      " stage4_unit1_conv2 (Conv2D)    (None, 4, 4, 512)    2359296     ['zero_padding2d_29[0][0]']      \n",
      "                                                                                                  \n",
      " stage4_unit1_sc (Conv2D)       (None, 4, 4, 512)    131072      ['stage4_unit1_relu1[0][0]']     \n",
      "                                                                                                  \n",
      " add_13 (Add)                   (None, 4, 4, 512)    0           ['stage4_unit1_conv2[0][0]',     \n",
      "                                                                  'stage4_unit1_sc[0][0]']        \n",
      "                                                                                                  \n",
      " stage4_unit2_bn1 (BatchNormali  (None, 4, 4, 512)   2048        ['add_13[0][0]']                 \n",
      " zation)                                                                                          \n",
      "                                                                                                  \n",
      " stage4_unit2_relu1 (Activation  (None, 4, 4, 512)   0           ['stage4_unit2_bn1[0][0]']       \n",
      " )                                                                                                \n",
      "                                                                                                  \n",
      " zero_padding2d_30 (ZeroPadding  (None, 6, 6, 512)   0           ['stage4_unit2_relu1[0][0]']     \n",
      " 2D)                                                                                              \n",
      "                                                                                                  \n",
      " stage4_unit2_conv1 (Conv2D)    (None, 4, 4, 512)    2359296     ['zero_padding2d_30[0][0]']      \n",
      "                                                                                                  \n",
      " stage4_unit2_bn2 (BatchNormali  (None, 4, 4, 512)   2048        ['stage4_unit2_conv1[0][0]']     \n",
      " zation)                                                                                          \n",
      "                                                                                                  \n",
      " stage4_unit2_relu2 (Activation  (None, 4, 4, 512)   0           ['stage4_unit2_bn2[0][0]']       \n",
      " )                                                                                                \n",
      "                                                                                                  \n",
      " zero_padding2d_31 (ZeroPadding  (None, 6, 6, 512)   0           ['stage4_unit2_relu2[0][0]']     \n",
      " 2D)                                                                                              \n",
      "                                                                                                  \n",
      " stage4_unit2_conv2 (Conv2D)    (None, 4, 4, 512)    2359296     ['zero_padding2d_31[0][0]']      \n",
      "                                                                                                  \n",
      " add_14 (Add)                   (None, 4, 4, 512)    0           ['stage4_unit2_conv2[0][0]',     \n",
      "                                                                  'add_13[0][0]']                 \n",
      "                                                                                                  \n",
      " stage4_unit3_bn1 (BatchNormali  (None, 4, 4, 512)   2048        ['add_14[0][0]']                 \n",
      " zation)                                                                                          \n",
      "                                                                                                  \n",
      " stage4_unit3_relu1 (Activation  (None, 4, 4, 512)   0           ['stage4_unit3_bn1[0][0]']       \n",
      " )                                                                                                \n",
      "                                                                                                  \n",
      " zero_padding2d_32 (ZeroPadding  (None, 6, 6, 512)   0           ['stage4_unit3_relu1[0][0]']     \n",
      " 2D)                                                                                              \n",
      "                                                                                                  \n",
      " stage4_unit3_conv1 (Conv2D)    (None, 4, 4, 512)    2359296     ['zero_padding2d_32[0][0]']      \n",
      "                                                                                                  \n",
      " stage4_unit3_bn2 (BatchNormali  (None, 4, 4, 512)   2048        ['stage4_unit3_conv1[0][0]']     \n",
      " zation)                                                                                          \n",
      "                                                                                                  \n",
      " stage4_unit3_relu2 (Activation  (None, 4, 4, 512)   0           ['stage4_unit3_bn2[0][0]']       \n",
      " )                                                                                                \n",
      "                                                                                                  \n",
      " zero_padding2d_33 (ZeroPadding  (None, 6, 6, 512)   0           ['stage4_unit3_relu2[0][0]']     \n",
      " 2D)                                                                                              \n",
      "                                                                                                  \n",
      " stage4_unit3_conv2 (Conv2D)    (None, 4, 4, 512)    2359296     ['zero_padding2d_33[0][0]']      \n",
      "                                                                                                  \n",
      " add_15 (Add)                   (None, 4, 4, 512)    0           ['stage4_unit3_conv2[0][0]',     \n",
      "                                                                  'add_14[0][0]']                 \n",
      "                                                                                                  \n",
      " bn1 (BatchNormalization)       (None, 4, 4, 512)    2048        ['add_15[0][0]']                 \n",
      "                                                                                                  \n",
      " relu1 (Activation)             (None, 4, 4, 512)    0           ['bn1[0][0]']                    \n",
      "                                                                                                  \n",
      " fpn_stage_p5_pre_conv (Conv2D)  (None, 4, 4, 256)   131328      ['relu1[0][0]']                  \n",
      "                                                                                                  \n",
      " fpn_stage_p5_upsampling (UpSam  (None, 8, 8, 256)   0           ['fpn_stage_p5_pre_conv[0][0]']  \n",
      " pling2D)                                                                                         \n",
      "                                                                                                  \n",
      " fpn_stage_p5_conv (Conv2D)     (None, 8, 8, 256)    65792       ['stage4_unit1_relu1[0][0]']     \n",
      "                                                                                                  \n",
      " fpn_stage_p5_add (Add)         (None, 8, 8, 256)    0           ['fpn_stage_p5_upsampling[0][0]',\n",
      "                                                                  'fpn_stage_p5_conv[0][0]']      \n",
      "                                                                                                  \n",
      " fpn_stage_p4_upsampling (UpSam  (None, 16, 16, 256)  0          ['fpn_stage_p5_add[0][0]']       \n",
      " pling2D)                                                                                         \n",
      "                                                                                                  \n",
      " fpn_stage_p4_conv (Conv2D)     (None, 16, 16, 256)  33024       ['stage3_unit1_relu1[0][0]']     \n",
      "                                                                                                  \n",
      " fpn_stage_p4_add (Add)         (None, 16, 16, 256)  0           ['fpn_stage_p4_upsampling[0][0]',\n",
      "                                                                  'fpn_stage_p4_conv[0][0]']      \n",
      "                                                                                                  \n",
      " fpn_stage_p3_upsampling (UpSam  (None, 32, 32, 256)  0          ['fpn_stage_p4_add[0][0]']       \n",
      " pling2D)                                                                                         \n",
      "                                                                                                  \n",
      " fpn_stage_p3_conv (Conv2D)     (None, 32, 32, 256)  16640       ['stage2_unit1_relu1[0][0]']     \n",
      "                                                                                                  \n",
      " fpn_stage_p3_add (Add)         (None, 32, 32, 256)  0           ['fpn_stage_p3_upsampling[0][0]',\n",
      "                                                                  'fpn_stage_p3_conv[0][0]']      \n",
      "                                                                                                  \n",
      " fpn_stage_p2_upsampling (UpSam  (None, 64, 64, 256)  0          ['fpn_stage_p3_add[0][0]']       \n",
      " pling2D)                                                                                         \n",
      "                                                                                                  \n",
      " fpn_stage_p2_conv (Conv2D)     (None, 64, 64, 256)  16640       ['relu0[0][0]']                  \n",
      "                                                                                                  \n",
      " fpn_stage_p2_add (Add)         (None, 64, 64, 256)  0           ['fpn_stage_p2_upsampling[0][0]',\n",
      "                                                                  'fpn_stage_p2_conv[0][0]']      \n",
      "                                                                                                  \n",
      " segm_stage3a_conv (Conv2D)     (None, 32, 32, 128)  294912      ['fpn_stage_p3_add[0][0]']       \n",
      "                                                                                                  \n",
      " segm_stage4a_conv (Conv2D)     (None, 16, 16, 128)  294912      ['fpn_stage_p4_add[0][0]']       \n",
      "                                                                                                  \n",
      " segm_stage5a_conv (Conv2D)     (None, 8, 8, 128)    294912      ['fpn_stage_p5_add[0][0]']       \n",
      "                                                                                                  \n",
      " segm_stage2a_conv (Conv2D)     (None, 64, 64, 128)  294912      ['fpn_stage_p2_add[0][0]']       \n",
      "                                                                                                  \n",
      " segm_stage3a_bn (BatchNormaliz  (None, 32, 32, 128)  512        ['segm_stage3a_conv[0][0]']      \n",
      " ation)                                                                                           \n",
      "                                                                                                  \n",
      " segm_stage4a_bn (BatchNormaliz  (None, 16, 16, 128)  512        ['segm_stage4a_conv[0][0]']      \n",
      " ation)                                                                                           \n",
      "                                                                                                  \n",
      " segm_stage5a_bn (BatchNormaliz  (None, 8, 8, 128)   512         ['segm_stage5a_conv[0][0]']      \n",
      " ation)                                                                                           \n",
      "                                                                                                  \n",
      " segm_stage2a_bn (BatchNormaliz  (None, 64, 64, 128)  512        ['segm_stage2a_conv[0][0]']      \n",
      " ation)                                                                                           \n",
      "                                                                                                  \n",
      " segm_stage3a_relu (Activation)  (None, 32, 32, 128)  0          ['segm_stage3a_bn[0][0]']        \n",
      "                                                                                                  \n",
      " segm_stage4a_relu (Activation)  (None, 16, 16, 128)  0          ['segm_stage4a_bn[0][0]']        \n",
      "                                                                                                  \n",
      " segm_stage5a_relu (Activation)  (None, 8, 8, 128)   0           ['segm_stage5a_bn[0][0]']        \n",
      "                                                                                                  \n",
      " segm_stage2a_relu (Activation)  (None, 64, 64, 128)  0          ['segm_stage2a_bn[0][0]']        \n",
      "                                                                                                  \n",
      " segm_stage3b_conv (Conv2D)     (None, 32, 32, 128)  147456      ['segm_stage3a_relu[0][0]']      \n",
      "                                                                                                  \n",
      " segm_stage4b_conv (Conv2D)     (None, 16, 16, 128)  147456      ['segm_stage4a_relu[0][0]']      \n",
      "                                                                                                  \n",
      " segm_stage5b_conv (Conv2D)     (None, 8, 8, 128)    147456      ['segm_stage5a_relu[0][0]']      \n",
      "                                                                                                  \n",
      " segm_stage2b_conv (Conv2D)     (None, 64, 64, 128)  147456      ['segm_stage2a_relu[0][0]']      \n",
      "                                                                                                  \n",
      " segm_stage3b_bn (BatchNormaliz  (None, 32, 32, 128)  512        ['segm_stage3b_conv[0][0]']      \n",
      " ation)                                                                                           \n",
      "                                                                                                  \n",
      " segm_stage4b_bn (BatchNormaliz  (None, 16, 16, 128)  512        ['segm_stage4b_conv[0][0]']      \n",
      " ation)                                                                                           \n",
      "                                                                                                  \n",
      " segm_stage5b_bn (BatchNormaliz  (None, 8, 8, 128)   512         ['segm_stage5b_conv[0][0]']      \n",
      " ation)                                                                                           \n",
      "                                                                                                  \n",
      " segm_stage2b_bn (BatchNormaliz  (None, 64, 64, 128)  512        ['segm_stage2b_conv[0][0]']      \n",
      " ation)                                                                                           \n",
      "                                                                                                  \n",
      " segm_stage3b_relu (Activation)  (None, 32, 32, 128)  0          ['segm_stage3b_bn[0][0]']        \n",
      "                                                                                                  \n",
      " segm_stage4b_relu (Activation)  (None, 16, 16, 128)  0          ['segm_stage4b_bn[0][0]']        \n",
      "                                                                                                  \n",
      " segm_stage5b_relu (Activation)  (None, 8, 8, 128)   0           ['segm_stage5b_bn[0][0]']        \n",
      "                                                                                                  \n",
      " segm_stage2b_relu (Activation)  (None, 64, 64, 128)  0          ['segm_stage2b_bn[0][0]']        \n",
      "                                                                                                  \n",
      " upsampling_stage3 (UpSampling2  (None, 64, 64, 128)  0          ['segm_stage3b_relu[0][0]']      \n",
      " D)                                                                                               \n",
      "                                                                                                  \n",
      " upsampling_stage4 (UpSampling2  (None, 64, 64, 128)  0          ['segm_stage4b_relu[0][0]']      \n",
      " D)                                                                                               \n",
      "                                                                                                  \n",
      " upsampling_stage5 (UpSampling2  (None, 64, 64, 128)  0          ['segm_stage5b_relu[0][0]']      \n",
      " D)                                                                                               \n",
      "                                                                                                  \n",
      " aggregation_concat (Concatenat  (None, 64, 64, 512)  0          ['segm_stage2b_relu[0][0]',      \n",
      " e)                                                               'upsampling_stage3[0][0]',      \n",
      "                                                                  'upsampling_stage4[0][0]',      \n",
      "                                                                  'upsampling_stage5[0][0]']      \n",
      "                                                                                                  \n",
      " pyramid_dropout (SpatialDropou  (None, 64, 64, 512)  0          ['aggregation_concat[0][0]']     \n",
      " t2D)                                                                                             \n",
      "                                                                                                  \n",
      " final_stage_conv (Conv2D)      (None, 64, 64, 128)  589824      ['pyramid_dropout[0][0]']        \n",
      "                                                                                                  \n",
      " final_stage_bn (BatchNormaliza  (None, 64, 64, 128)  512        ['final_stage_conv[0][0]']       \n",
      " tion)                                                                                            \n",
      "                                                                                                  \n",
      " final_stage_relu (Activation)  (None, 64, 64, 128)  0           ['final_stage_bn[0][0]']         \n",
      "                                                                                                  \n",
      " final_upsampling (UpSampling2D  (None, 128, 128, 12  0          ['final_stage_relu[0][0]']       \n",
      " )                              8)                                                                \n",
      "                                                                                                  \n",
      " head_conv (Conv2D)             (None, 128, 128, 1)  1153        ['final_upsampling[0][0]']       \n",
      "                                                                                                  \n",
      " sigmoid (Activation)           (None, 128, 128, 1)  0           ['head_conv[0][0]']              \n",
      "                                                                                                  \n",
      "==================================================================================================\n",
      "Total params: 23,930,954\n",
      "Trainable params: 23,913,284\n",
      "Non-trainable params: 17,670\n",
      "__________________________________________________________________________________________________\n"
     ]
    }
   ],
   "source": [
    "BACKBONE = 'resnet34'\n",
    "input_shape = (IMG_WIDTH, IMG_HEIGHT, IMG_CHANNELS)\n",
    "preprocess_input = get_preprocessing(BACKBONE)\n",
    "# define model\n",
    "model = FPN(BACKBONE, encoder_weights='imagenet', input_shape=input_shape, classes=1, activation='sigmoid', pyramid_dropout=0.2)\n",
    "\n",
    "model.summary()\n"
   ]
  },
  {
   "cell_type": "markdown",
   "metadata": {},
   "source": [
    "The code compiles a deep learning model for image segmentation using the `compile` function. The compiled model uses the `optimizer` argument to specify the optimization algorithm used during training. The `loss` argument specifies the loss function used to measure the difference between the predicted and ground truth masks. The metrics argument is a list of evaluation metrics used to monitor the performance of the model during training. These metrics include `dice_coef`, `accuracy`, and `iou_score`, which measure the overlap between the predicted and ground truth masks, the overall classification accuracy of the model, and the intersection-over-union score between the predicted and ground truth masks, respectively."
   ]
  },
  {
   "cell_type": "code",
   "execution_count": 26,
   "metadata": {},
   "outputs": [],
   "source": [
    "model.compile(optimizer=optimizer, loss=bce_jaccard_loss, metrics=[dice_coef,'accuracy',iou_score])"
   ]
  },
  {
   "cell_type": "markdown",
   "metadata": {},
   "source": [
    "And now we need to define a list of **callback** functions used during the training of a deep learning model. Callbacks can be used to customize or monitor the training process.\n",
    "\n",
    "The four callbacks included are:\n",
    "\n",
    "- `ModelCheckpoint`: saves the best model based on validation loss.\n",
    "- `ReduceLROnPlateau`: reduces learning rate when validation loss stops improving.\n",
    "- `CSVLogger`: logs training and validation metrics to a CSV file.\n",
    "- `EarlyStopping`: stops training if validation loss does not improve after a set number of epochs.\\\n",
    "Overall, these callbacks can help improve the efficiency of training and prevent overfitting."
   ]
  },
  {
   "cell_type": "code",
   "execution_count": 27,
   "metadata": {
    "id": "BsyWbq5IWBOj"
   },
   "outputs": [],
   "source": [
    "callbacks = [\n",
    "        tf.keras.callbacks.ModelCheckpoint(model_path, verbose=1, save_best_only=True),\n",
    "        tf.keras.callbacks.ReduceLROnPlateau(monitor='val_loss', factor=0.1, patience=5, min_lr=1e-9, verbose=1),\n",
    "        tf.keras.callbacks.CSVLogger(csv_path),\n",
    "        tf.keras.callbacks.EarlyStopping(monitor='val_loss', patience=10, restore_best_weights=False),\n",
    "    ]"
   ]
  },
  {
   "cell_type": "markdown",
   "metadata": {},
   "source": [
    "Now it is the time to train a deep learning model using the `fit` method. It uses the `train_dataset` argument for the training data, `valid_dataset` for the validation data, `steps_per_epoch` for the number of batches to process for each epoch, and `num_epochs` for the total number of epochs to train the model. It applies a set of callbacks using the `callbacks` argument to customize and monitor the training process. The `fit` method returns a `History` object containing the training and validation metrics for each epoch."
   ]
  },
  {
   "cell_type": "code",
   "execution_count": 28,
   "metadata": {
    "colab": {
     "base_uri": "https://localhost:8080/"
    },
    "id": "6VKddPowWD9D",
    "outputId": "614a6167-4f62-41c8-c015-8d9d2e93f3f7"
   },
   "outputs": [
    {
     "name": "stdout",
     "output_type": "stream",
     "text": [
      "Epoch 1/100\n"
     ]
    },
    {
     "name": "stderr",
     "output_type": "stream",
     "text": [
      "2023-03-20 00:04:30.491872: I tensorflow/stream_executor/cuda/cuda_dnn.cc:368] Loaded cuDNN version 8500\n",
      "2023-03-20 00:04:31.097481: I tensorflow/core/platform/default/subprocess.cc:304] Start cannot spawn child process: No such file or directory\n"
     ]
    },
    {
     "name": "stdout",
     "output_type": "stream",
     "text": [
      "781/781 [==============================] - ETA: 0s - loss: 0.7311 - dice_coef: 0.5131 - accuracy: 0.9596 - iou_score: 0.3754\n",
      "Epoch 1: val_loss improved from inf to 0.89346, saving model to files/best_model.h5\n",
      "781/781 [==============================] - 123s 150ms/step - loss: 0.7311 - dice_coef: 0.5131 - accuracy: 0.9596 - iou_score: 0.3754 - val_loss: 0.8935 - val_dice_coef: 0.3570 - val_accuracy: 0.9761 - val_iou_score: 0.2243 - lr: 1.0000e-04\n",
      "Epoch 2/100\n",
      "781/781 [==============================] - ETA: 0s - loss: 0.4524 - dice_coef: 0.7400 - accuracy: 0.9893 - iou_score: 0.5915\n",
      "Epoch 2: val_loss improved from 0.89346 to 0.44313, saving model to files/best_model.h5\n",
      "781/781 [==============================] - 115s 148ms/step - loss: 0.4524 - dice_coef: 0.7400 - accuracy: 0.9893 - iou_score: 0.5915 - val_loss: 0.4431 - val_dice_coef: 0.7475 - val_accuracy: 0.9896 - val_iou_score: 0.6023 - lr: 1.0000e-04\n",
      "Epoch 3/100\n",
      "781/781 [==============================] - ETA: 0s - loss: 0.4112 - dice_coef: 0.7687 - accuracy: 0.9904 - iou_score: 0.6287\n",
      "Epoch 3: val_loss improved from 0.44313 to 0.41795, saving model to files/best_model.h5\n",
      "781/781 [==============================] - 115s 147ms/step - loss: 0.4112 - dice_coef: 0.7687 - accuracy: 0.9904 - iou_score: 0.6287 - val_loss: 0.4179 - val_dice_coef: 0.7659 - val_accuracy: 0.9898 - val_iou_score: 0.6267 - lr: 1.0000e-04\n",
      "Epoch 4/100\n",
      "781/781 [==============================] - ETA: 0s - loss: 0.3784 - dice_coef: 0.7913 - accuracy: 0.9913 - iou_score: 0.6585\n",
      "Epoch 4: val_loss improved from 0.41795 to 0.39305, saving model to files/best_model.h5\n",
      "781/781 [==============================] - 115s 147ms/step - loss: 0.3784 - dice_coef: 0.7913 - accuracy: 0.9913 - iou_score: 0.6585 - val_loss: 0.3930 - val_dice_coef: 0.7832 - val_accuracy: 0.9906 - val_iou_score: 0.6487 - lr: 1.0000e-04\n",
      "Epoch 5/100\n",
      "781/781 [==============================] - ETA: 0s - loss: 0.3631 - dice_coef: 0.8013 - accuracy: 0.9916 - iou_score: 0.6722\n",
      "Epoch 5: val_loss did not improve from 0.39305\n",
      "781/781 [==============================] - 115s 147ms/step - loss: 0.3631 - dice_coef: 0.8013 - accuracy: 0.9916 - iou_score: 0.6722 - val_loss: 0.3940 - val_dice_coef: 0.7828 - val_accuracy: 0.9903 - val_iou_score: 0.6482 - lr: 1.0000e-04\n",
      "Epoch 6/100\n",
      "781/781 [==============================] - ETA: 0s - loss: 0.3491 - dice_coef: 0.8105 - accuracy: 0.9921 - iou_score: 0.6846\n",
      "Epoch 6: val_loss improved from 0.39305 to 0.38575, saving model to files/best_model.h5\n",
      "781/781 [==============================] - 115s 148ms/step - loss: 0.3491 - dice_coef: 0.8105 - accuracy: 0.9921 - iou_score: 0.6846 - val_loss: 0.3857 - val_dice_coef: 0.7899 - val_accuracy: 0.9908 - val_iou_score: 0.6575 - lr: 1.0000e-04\n",
      "Epoch 7/100\n",
      "781/781 [==============================] - ETA: 0s - loss: 0.3408 - dice_coef: 0.8153 - accuracy: 0.9923 - iou_score: 0.6918\n",
      "Epoch 7: val_loss improved from 0.38575 to 0.38441, saving model to files/best_model.h5\n",
      "781/781 [==============================] - 114s 147ms/step - loss: 0.3408 - dice_coef: 0.8153 - accuracy: 0.9923 - iou_score: 0.6918 - val_loss: 0.3844 - val_dice_coef: 0.7898 - val_accuracy: 0.9911 - val_iou_score: 0.6586 - lr: 1.0000e-04\n",
      "Epoch 8/100\n",
      "781/781 [==============================] - ETA: 0s - loss: 0.3300 - dice_coef: 0.8223 - accuracy: 0.9925 - iou_score: 0.7016\n",
      "Epoch 8: val_loss improved from 0.38441 to 0.37969, saving model to files/best_model.h5\n",
      "781/781 [==============================] - 115s 147ms/step - loss: 0.3300 - dice_coef: 0.8223 - accuracy: 0.9925 - iou_score: 0.7016 - val_loss: 0.3797 - val_dice_coef: 0.7940 - val_accuracy: 0.9910 - val_iou_score: 0.6640 - lr: 1.0000e-04\n",
      "Epoch 9/100\n",
      "781/781 [==============================] - ETA: 0s - loss: 0.3227 - dice_coef: 0.8268 - accuracy: 0.9928 - iou_score: 0.7080\n",
      "Epoch 9: val_loss improved from 0.37969 to 0.37962, saving model to files/best_model.h5\n",
      "781/781 [==============================] - 116s 148ms/step - loss: 0.3227 - dice_coef: 0.8268 - accuracy: 0.9928 - iou_score: 0.7080 - val_loss: 0.3796 - val_dice_coef: 0.7943 - val_accuracy: 0.9911 - val_iou_score: 0.6639 - lr: 1.0000e-04\n",
      "Epoch 10/100\n",
      "781/781 [==============================] - ETA: 0s - loss: 0.3105 - dice_coef: 0.8345 - accuracy: 0.9931 - iou_score: 0.7190\n",
      "Epoch 10: val_loss improved from 0.37962 to 0.36467, saving model to files/best_model.h5\n",
      "781/781 [==============================] - 116s 149ms/step - loss: 0.3105 - dice_coef: 0.8345 - accuracy: 0.9931 - iou_score: 0.7190 - val_loss: 0.3647 - val_dice_coef: 0.8027 - val_accuracy: 0.9915 - val_iou_score: 0.6757 - lr: 1.0000e-04\n",
      "Epoch 11/100\n",
      "781/781 [==============================] - ETA: 0s - loss: 0.3082 - dice_coef: 0.8358 - accuracy: 0.9931 - iou_score: 0.7208\n",
      "Epoch 11: val_loss improved from 0.36467 to 0.35838, saving model to files/best_model.h5\n",
      "781/781 [==============================] - 115s 147ms/step - loss: 0.3082 - dice_coef: 0.8358 - accuracy: 0.9931 - iou_score: 0.7208 - val_loss: 0.3584 - val_dice_coef: 0.8066 - val_accuracy: 0.9915 - val_iou_score: 0.6809 - lr: 1.0000e-04\n",
      "Epoch 12/100\n",
      "781/781 [==============================] - ETA: 0s - loss: 0.3070 - dice_coef: 0.8368 - accuracy: 0.9932 - iou_score: 0.7221\n",
      "Epoch 12: val_loss did not improve from 0.35838\n",
      "781/781 [==============================] - 115s 147ms/step - loss: 0.3070 - dice_coef: 0.8368 - accuracy: 0.9932 - iou_score: 0.7221 - val_loss: 0.3685 - val_dice_coef: 0.8023 - val_accuracy: 0.9912 - val_iou_score: 0.6750 - lr: 1.0000e-04\n",
      "Epoch 13/100\n",
      "781/781 [==============================] - ETA: 0s - loss: 0.2948 - dice_coef: 0.8441 - accuracy: 0.9935 - iou_score: 0.7328\n",
      "Epoch 13: val_loss did not improve from 0.35838\n",
      "781/781 [==============================] - 115s 147ms/step - loss: 0.2948 - dice_coef: 0.8441 - accuracy: 0.9935 - iou_score: 0.7328 - val_loss: 0.3895 - val_dice_coef: 0.7870 - val_accuracy: 0.9912 - val_iou_score: 0.6554 - lr: 1.0000e-04\n",
      "Epoch 14/100\n",
      "781/781 [==============================] - ETA: 0s - loss: 0.2951 - dice_coef: 0.8439 - accuracy: 0.9935 - iou_score: 0.7326\n",
      "Epoch 14: val_loss improved from 0.35838 to 0.34812, saving model to files/best_model.h5\n",
      "781/781 [==============================] - 115s 147ms/step - loss: 0.2951 - dice_coef: 0.8439 - accuracy: 0.9935 - iou_score: 0.7326 - val_loss: 0.3481 - val_dice_coef: 0.8133 - val_accuracy: 0.9917 - val_iou_score: 0.6904 - lr: 1.0000e-04\n",
      "Epoch 15/100\n",
      "781/781 [==============================] - ETA: 0s - loss: 0.2860 - dice_coef: 0.8495 - accuracy: 0.9937 - iou_score: 0.7409\n",
      "Epoch 15: val_loss did not improve from 0.34812\n",
      "781/781 [==============================] - 115s 147ms/step - loss: 0.2860 - dice_coef: 0.8495 - accuracy: 0.9937 - iou_score: 0.7409 - val_loss: 0.3542 - val_dice_coef: 0.8106 - val_accuracy: 0.9917 - val_iou_score: 0.6866 - lr: 1.0000e-04\n",
      "Epoch 16/100\n",
      "781/781 [==============================] - ETA: 0s - loss: 0.2822 - dice_coef: 0.8519 - accuracy: 0.9938 - iou_score: 0.7443\n",
      "Epoch 16: val_loss did not improve from 0.34812\n",
      "781/781 [==============================] - 114s 146ms/step - loss: 0.2822 - dice_coef: 0.8519 - accuracy: 0.9938 - iou_score: 0.7443 - val_loss: 0.3576 - val_dice_coef: 0.8091 - val_accuracy: 0.9916 - val_iou_score: 0.6842 - lr: 1.0000e-04\n",
      "Epoch 17/100\n",
      "781/781 [==============================] - ETA: 0s - loss: 0.2762 - dice_coef: 0.8552 - accuracy: 0.9939 - iou_score: 0.7493\n",
      "Epoch 17: val_loss did not improve from 0.34812\n",
      "781/781 [==============================] - 115s 148ms/step - loss: 0.2762 - dice_coef: 0.8552 - accuracy: 0.9939 - iou_score: 0.7493 - val_loss: 0.3728 - val_dice_coef: 0.7983 - val_accuracy: 0.9914 - val_iou_score: 0.6708 - lr: 1.0000e-04\n",
      "Epoch 18/100\n",
      "781/781 [==============================] - ETA: 0s - loss: 0.2732 - dice_coef: 0.8573 - accuracy: 0.9940 - iou_score: 0.7521\n",
      "Epoch 18: val_loss improved from 0.34812 to 0.34678, saving model to files/best_model.h5\n",
      "781/781 [==============================] - 115s 148ms/step - loss: 0.2732 - dice_coef: 0.8573 - accuracy: 0.9940 - iou_score: 0.7521 - val_loss: 0.3468 - val_dice_coef: 0.8155 - val_accuracy: 0.9919 - val_iou_score: 0.6934 - lr: 1.0000e-04\n",
      "Epoch 19/100\n",
      "781/781 [==============================] - ETA: 0s - loss: 0.2764 - dice_coef: 0.8550 - accuracy: 0.9939 - iou_score: 0.7491\n",
      "Epoch 19: val_loss did not improve from 0.34678\n",
      "781/781 [==============================] - 115s 148ms/step - loss: 0.2764 - dice_coef: 0.8550 - accuracy: 0.9939 - iou_score: 0.7491 - val_loss: 0.3519 - val_dice_coef: 0.8130 - val_accuracy: 0.9918 - val_iou_score: 0.6896 - lr: 1.0000e-04\n",
      "Epoch 20/100\n",
      "781/781 [==============================] - ETA: 0s - loss: 0.2676 - dice_coef: 0.8604 - accuracy: 0.9941 - iou_score: 0.7569\n",
      "Epoch 20: val_loss did not improve from 0.34678\n",
      "781/781 [==============================] - 114s 146ms/step - loss: 0.2676 - dice_coef: 0.8604 - accuracy: 0.9941 - iou_score: 0.7569 - val_loss: 0.3505 - val_dice_coef: 0.8130 - val_accuracy: 0.9917 - val_iou_score: 0.6895 - lr: 1.0000e-04\n",
      "Epoch 21/100\n",
      "781/781 [==============================] - ETA: 0s - loss: 0.2643 - dice_coef: 0.8624 - accuracy: 0.9942 - iou_score: 0.7601\n",
      "Epoch 21: val_loss did not improve from 0.34678\n",
      "781/781 [==============================] - 115s 147ms/step - loss: 0.2643 - dice_coef: 0.8624 - accuracy: 0.9942 - iou_score: 0.7601 - val_loss: 0.3569 - val_dice_coef: 0.8092 - val_accuracy: 0.9916 - val_iou_score: 0.6848 - lr: 1.0000e-04\n",
      "Epoch 22/100\n",
      "781/781 [==============================] - ETA: 0s - loss: 0.2662 - dice_coef: 0.8611 - accuracy: 0.9942 - iou_score: 0.7582\n",
      "Epoch 22: val_loss did not improve from 0.34678\n",
      "781/781 [==============================] - 115s 148ms/step - loss: 0.2662 - dice_coef: 0.8611 - accuracy: 0.9942 - iou_score: 0.7582 - val_loss: 0.3493 - val_dice_coef: 0.8141 - val_accuracy: 0.9918 - val_iou_score: 0.6916 - lr: 1.0000e-04\n",
      "Epoch 23/100\n",
      "781/781 [==============================] - ETA: 0s - loss: 0.2578 - dice_coef: 0.8661 - accuracy: 0.9944 - iou_score: 0.7656\n",
      "Epoch 23: val_loss did not improve from 0.34678\n",
      "\n",
      "Epoch 23: ReduceLROnPlateau reducing learning rate to 9.999999747378752e-06.\n",
      "781/781 [==============================] - 114s 146ms/step - loss: 0.2578 - dice_coef: 0.8661 - accuracy: 0.9944 - iou_score: 0.7656 - val_loss: 0.3557 - val_dice_coef: 0.8106 - val_accuracy: 0.9918 - val_iou_score: 0.6868 - lr: 1.0000e-04\n",
      "Epoch 24/100\n",
      "781/781 [==============================] - ETA: 0s - loss: 0.2505 - dice_coef: 0.8702 - accuracy: 0.9946 - iou_score: 0.7724\n",
      "Epoch 24: val_loss improved from 0.34678 to 0.32833, saving model to files/best_model.h5\n",
      "781/781 [==============================] - 115s 147ms/step - loss: 0.2505 - dice_coef: 0.8702 - accuracy: 0.9946 - iou_score: 0.7724 - val_loss: 0.3283 - val_dice_coef: 0.8276 - val_accuracy: 0.9923 - val_iou_score: 0.7103 - lr: 1.0000e-05\n",
      "Epoch 25/100\n",
      "781/781 [==============================] - ETA: 0s - loss: 0.2389 - dice_coef: 0.8771 - accuracy: 0.9949 - iou_score: 0.7827\n",
      "Epoch 25: val_loss improved from 0.32833 to 0.32604, saving model to files/best_model.h5\n",
      "781/781 [==============================] - 116s 149ms/step - loss: 0.2389 - dice_coef: 0.8771 - accuracy: 0.9949 - iou_score: 0.7827 - val_loss: 0.3260 - val_dice_coef: 0.8293 - val_accuracy: 0.9923 - val_iou_score: 0.7127 - lr: 1.0000e-05\n",
      "Epoch 26/100\n",
      "781/781 [==============================] - ETA: 0s - loss: 0.2347 - dice_coef: 0.8795 - accuracy: 0.9950 - iou_score: 0.7865\n",
      "Epoch 26: val_loss improved from 0.32604 to 0.32557, saving model to files/best_model.h5\n",
      "781/781 [==============================] - 115s 147ms/step - loss: 0.2347 - dice_coef: 0.8795 - accuracy: 0.9950 - iou_score: 0.7865 - val_loss: 0.3256 - val_dice_coef: 0.8297 - val_accuracy: 0.9924 - val_iou_score: 0.7132 - lr: 1.0000e-05\n",
      "Epoch 27/100\n",
      "781/781 [==============================] - ETA: 0s - loss: 0.2341 - dice_coef: 0.8798 - accuracy: 0.9949 - iou_score: 0.7870\n",
      "Epoch 27: val_loss improved from 0.32557 to 0.32314, saving model to files/best_model.h5\n",
      "781/781 [==============================] - 116s 149ms/step - loss: 0.2341 - dice_coef: 0.8798 - accuracy: 0.9949 - iou_score: 0.7870 - val_loss: 0.3231 - val_dice_coef: 0.8309 - val_accuracy: 0.9924 - val_iou_score: 0.7150 - lr: 1.0000e-05\n",
      "Epoch 28/100\n",
      "781/781 [==============================] - ETA: 0s - loss: 0.2317 - dice_coef: 0.8813 - accuracy: 0.9950 - iou_score: 0.7891\n",
      "Epoch 28: val_loss did not improve from 0.32314\n",
      "781/781 [==============================] - 115s 148ms/step - loss: 0.2317 - dice_coef: 0.8813 - accuracy: 0.9950 - iou_score: 0.7891 - val_loss: 0.3232 - val_dice_coef: 0.8309 - val_accuracy: 0.9925 - val_iou_score: 0.7146 - lr: 1.0000e-05\n",
      "Epoch 29/100\n",
      "781/781 [==============================] - ETA: 0s - loss: 0.2268 - dice_coef: 0.8840 - accuracy: 0.9952 - iou_score: 0.7934\n",
      "Epoch 29: val_loss improved from 0.32314 to 0.32128, saving model to files/best_model.h5\n",
      "781/781 [==============================] - 117s 150ms/step - loss: 0.2268 - dice_coef: 0.8840 - accuracy: 0.9952 - iou_score: 0.7934 - val_loss: 0.3213 - val_dice_coef: 0.8326 - val_accuracy: 0.9925 - val_iou_score: 0.7173 - lr: 1.0000e-05\n",
      "Epoch 30/100\n",
      "781/781 [==============================] - ETA: 0s - loss: 0.2311 - dice_coef: 0.8816 - accuracy: 0.9950 - iou_score: 0.7897\n",
      "Epoch 30: val_loss did not improve from 0.32128\n",
      "781/781 [==============================] - 117s 151ms/step - loss: 0.2311 - dice_coef: 0.8816 - accuracy: 0.9950 - iou_score: 0.7897 - val_loss: 0.3268 - val_dice_coef: 0.8291 - val_accuracy: 0.9924 - val_iou_score: 0.7126 - lr: 1.0000e-05\n",
      "Epoch 31/100\n",
      "781/781 [==============================] - ETA: 0s - loss: 0.2275 - dice_coef: 0.8836 - accuracy: 0.9951 - iou_score: 0.7928\n",
      "Epoch 31: val_loss did not improve from 0.32128\n",
      "781/781 [==============================] - 115s 147ms/step - loss: 0.2275 - dice_coef: 0.8836 - accuracy: 0.9951 - iou_score: 0.7928 - val_loss: 0.3237 - val_dice_coef: 0.8309 - val_accuracy: 0.9924 - val_iou_score: 0.7149 - lr: 1.0000e-05\n",
      "Epoch 32/100\n",
      "781/781 [==============================] - ETA: 0s - loss: 0.2256 - dice_coef: 0.8849 - accuracy: 0.9951 - iou_score: 0.7949\n",
      "Epoch 32: val_loss improved from 0.32128 to 0.32088, saving model to files/best_model.h5\n",
      "781/781 [==============================] - 116s 148ms/step - loss: 0.2256 - dice_coef: 0.8849 - accuracy: 0.9951 - iou_score: 0.7949 - val_loss: 0.3209 - val_dice_coef: 0.8327 - val_accuracy: 0.9925 - val_iou_score: 0.7174 - lr: 1.0000e-05\n",
      "Epoch 33/100\n",
      "781/781 [==============================] - ETA: 0s - loss: 0.2249 - dice_coef: 0.8852 - accuracy: 0.9952 - iou_score: 0.7953\n",
      "Epoch 33: val_loss improved from 0.32088 to 0.31993, saving model to files/best_model.h5\n",
      "781/781 [==============================] - 115s 147ms/step - loss: 0.2249 - dice_coef: 0.8852 - accuracy: 0.9952 - iou_score: 0.7953 - val_loss: 0.3199 - val_dice_coef: 0.8333 - val_accuracy: 0.9925 - val_iou_score: 0.7187 - lr: 1.0000e-05\n",
      "Epoch 34/100\n",
      "781/781 [==============================] - ETA: 0s - loss: 0.2239 - dice_coef: 0.8856 - accuracy: 0.9952 - iou_score: 0.7961\n",
      "Epoch 34: val_loss did not improve from 0.31993\n",
      "781/781 [==============================] - 114s 146ms/step - loss: 0.2239 - dice_coef: 0.8856 - accuracy: 0.9952 - iou_score: 0.7961 - val_loss: 0.3233 - val_dice_coef: 0.8321 - val_accuracy: 0.9925 - val_iou_score: 0.7163 - lr: 1.0000e-05\n",
      "Epoch 35/100\n",
      "781/781 [==============================] - ETA: 0s - loss: 0.2233 - dice_coef: 0.8858 - accuracy: 0.9952 - iou_score: 0.7966\n",
      "Epoch 35: val_loss did not improve from 0.31993\n",
      "781/781 [==============================] - 115s 147ms/step - loss: 0.2233 - dice_coef: 0.8858 - accuracy: 0.9952 - iou_score: 0.7966 - val_loss: 0.3200 - val_dice_coef: 0.8335 - val_accuracy: 0.9925 - val_iou_score: 0.7186 - lr: 1.0000e-05\n",
      "Epoch 36/100\n",
      "781/781 [==============================] - ETA: 0s - loss: 0.2206 - dice_coef: 0.8874 - accuracy: 0.9953 - iou_score: 0.7990\n",
      "Epoch 36: val_loss did not improve from 0.31993\n",
      "781/781 [==============================] - 116s 149ms/step - loss: 0.2206 - dice_coef: 0.8874 - accuracy: 0.9953 - iou_score: 0.7990 - val_loss: 0.3208 - val_dice_coef: 0.8336 - val_accuracy: 0.9925 - val_iou_score: 0.7189 - lr: 1.0000e-05\n",
      "Epoch 37/100\n",
      "781/781 [==============================] - ETA: 0s - loss: 0.2204 - dice_coef: 0.8876 - accuracy: 0.9953 - iou_score: 0.7993\n",
      "Epoch 37: val_loss improved from 0.31993 to 0.31840, saving model to files/best_model.h5\n",
      "781/781 [==============================] - 114s 147ms/step - loss: 0.2204 - dice_coef: 0.8876 - accuracy: 0.9953 - iou_score: 0.7993 - val_loss: 0.3184 - val_dice_coef: 0.8349 - val_accuracy: 0.9925 - val_iou_score: 0.7203 - lr: 1.0000e-05\n",
      "Epoch 38/100\n",
      "781/781 [==============================] - ETA: 0s - loss: 0.2214 - dice_coef: 0.8870 - accuracy: 0.9953 - iou_score: 0.7983\n",
      "Epoch 38: val_loss did not improve from 0.31840\n",
      "781/781 [==============================] - 115s 147ms/step - loss: 0.2214 - dice_coef: 0.8870 - accuracy: 0.9953 - iou_score: 0.7983 - val_loss: 0.3225 - val_dice_coef: 0.8324 - val_accuracy: 0.9925 - val_iou_score: 0.7170 - lr: 1.0000e-05\n",
      "Epoch 39/100\n",
      "781/781 [==============================] - ETA: 0s - loss: 0.2192 - dice_coef: 0.8882 - accuracy: 0.9953 - iou_score: 0.8002\n",
      "Epoch 39: val_loss did not improve from 0.31840\n",
      "781/781 [==============================] - 115s 147ms/step - loss: 0.2192 - dice_coef: 0.8882 - accuracy: 0.9953 - iou_score: 0.8002 - val_loss: 0.3205 - val_dice_coef: 0.8337 - val_accuracy: 0.9926 - val_iou_score: 0.7189 - lr: 1.0000e-05\n",
      "Epoch 40/100\n",
      "781/781 [==============================] - ETA: 0s - loss: 0.2189 - dice_coef: 0.8884 - accuracy: 0.9953 - iou_score: 0.8004\n",
      "Epoch 40: val_loss did not improve from 0.31840\n",
      "781/781 [==============================] - 114s 147ms/step - loss: 0.2189 - dice_coef: 0.8884 - accuracy: 0.9953 - iou_score: 0.8004 - val_loss: 0.3227 - val_dice_coef: 0.8323 - val_accuracy: 0.9925 - val_iou_score: 0.7172 - lr: 1.0000e-05\n",
      "Epoch 41/100\n",
      "781/781 [==============================] - ETA: 0s - loss: 0.2178 - dice_coef: 0.8892 - accuracy: 0.9953 - iou_score: 0.8017\n",
      "Epoch 41: val_loss did not improve from 0.31840\n",
      "781/781 [==============================] - 114s 147ms/step - loss: 0.2178 - dice_coef: 0.8892 - accuracy: 0.9953 - iou_score: 0.8017 - val_loss: 0.3235 - val_dice_coef: 0.8312 - val_accuracy: 0.9925 - val_iou_score: 0.7159 - lr: 1.0000e-05\n",
      "Epoch 42/100\n",
      "781/781 [==============================] - ETA: 0s - loss: 0.2165 - dice_coef: 0.8899 - accuracy: 0.9953 - iou_score: 0.8030\n",
      "Epoch 42: val_loss did not improve from 0.31840\n",
      "\n",
      "Epoch 42: ReduceLROnPlateau reducing learning rate to 9.999999747378752e-07.\n",
      "781/781 [==============================] - 115s 148ms/step - loss: 0.2165 - dice_coef: 0.8899 - accuracy: 0.9953 - iou_score: 0.8030 - val_loss: 0.3217 - val_dice_coef: 0.8326 - val_accuracy: 0.9926 - val_iou_score: 0.7176 - lr: 1.0000e-05\n",
      "Epoch 43/100\n",
      "781/781 [==============================] - ETA: 0s - loss: 0.2171 - dice_coef: 0.8895 - accuracy: 0.9954 - iou_score: 0.8022\n",
      "Epoch 43: val_loss did not improve from 0.31840\n",
      "781/781 [==============================] - 116s 148ms/step - loss: 0.2171 - dice_coef: 0.8895 - accuracy: 0.9954 - iou_score: 0.8022 - val_loss: 0.3210 - val_dice_coef: 0.8335 - val_accuracy: 0.9926 - val_iou_score: 0.7186 - lr: 1.0000e-06\n",
      "Epoch 44/100\n",
      "781/781 [==============================] - ETA: 0s - loss: 0.2152 - dice_coef: 0.8903 - accuracy: 0.9954 - iou_score: 0.8038\n",
      "Epoch 44: val_loss did not improve from 0.31840\n",
      "781/781 [==============================] - 115s 147ms/step - loss: 0.2152 - dice_coef: 0.8903 - accuracy: 0.9954 - iou_score: 0.8038 - val_loss: 0.3219 - val_dice_coef: 0.8328 - val_accuracy: 0.9925 - val_iou_score: 0.7178 - lr: 1.0000e-06\n",
      "Epoch 45/100\n",
      "781/781 [==============================] - ETA: 0s - loss: 0.2144 - dice_coef: 0.8909 - accuracy: 0.9954 - iou_score: 0.8046\n",
      "Epoch 45: val_loss did not improve from 0.31840\n",
      "781/781 [==============================] - 114s 146ms/step - loss: 0.2144 - dice_coef: 0.8909 - accuracy: 0.9954 - iou_score: 0.8046 - val_loss: 0.3192 - val_dice_coef: 0.8339 - val_accuracy: 0.9926 - val_iou_score: 0.7197 - lr: 1.0000e-06\n",
      "Epoch 46/100\n",
      "781/781 [==============================] - ETA: 0s - loss: 0.2141 - dice_coef: 0.8911 - accuracy: 0.9954 - iou_score: 0.8046\n",
      "Epoch 46: val_loss did not improve from 0.31840\n",
      "781/781 [==============================] - 115s 148ms/step - loss: 0.2141 - dice_coef: 0.8911 - accuracy: 0.9954 - iou_score: 0.8046 - val_loss: 0.3213 - val_dice_coef: 0.8334 - val_accuracy: 0.9925 - val_iou_score: 0.7187 - lr: 1.0000e-06\n",
      "Epoch 47/100\n",
      "781/781 [==============================] - ETA: 0s - loss: 0.2142 - dice_coef: 0.8912 - accuracy: 0.9954 - iou_score: 0.8049\n",
      "Epoch 47: val_loss did not improve from 0.31840\n",
      "\n",
      "Epoch 47: ReduceLROnPlateau reducing learning rate to 9.999999974752428e-08.\n",
      "781/781 [==============================] - 115s 147ms/step - loss: 0.2142 - dice_coef: 0.8912 - accuracy: 0.9954 - iou_score: 0.8049 - val_loss: 0.3186 - val_dice_coef: 0.8347 - val_accuracy: 0.9926 - val_iou_score: 0.7205 - lr: 1.0000e-06\n"
     ]
    }
   ],
   "source": [
    "model = model.fit(\n",
    "        train_dataset,\n",
    "        steps_per_epoch=steps_per_epoch,\n",
    "        epochs=num_epochs,\n",
    "        validation_data=valid_dataset,\n",
    "        validation_steps=steps_per_epoch,\n",
    "        callbacks=callbacks\n",
    "    )"
   ]
  },
  {
   "cell_type": "markdown",
   "metadata": {},
   "source": [
    "This code plots the performance metrics (`accuracy`, `loss`, `Dice-coef` and `IOU`) for the UNet model during training and validation. It starts by calculating the number of epochs based on the length of the accuracy history in the model. If the number of epochs is greater than 35, the `x-axis` label interval is set to 5, otherwise it is set to 2. The code then creates a 1x4 subplot figure and plots the `accuracy`, `loss`, `Dice-coef`, and `IOU` on separate subplots. Each subplot has labels for the train and validation data, with the `x-axis` labeled with the epoch number and the `y-axis` labeled with the corresponding performance metric. The legends for each subplot are located in the best position. The final line displays the plot."
   ]
  },
  {
   "cell_type": "code",
   "execution_count": 29,
   "metadata": {},
   "outputs": [
    {
     "data": {
      "image/png": "[encoded data removed]",
      "text/plain": [
       "<Figure size 1728x288 with 4 Axes>"
      ]
     },
     "metadata": {},
     "output_type": "display_data"
    }
   ],
   "source": [
    "# plot train, validation Accuracy, Loss, Dice-coef and IOU\n",
    "num_epochs = len(model.history['accuracy'])\n",
    "step = 2\n",
    "if num_epochs > 35:\n",
    "    step = 5\n",
    "\n",
    "f, (ax1, ax2, ax3, ax4) = plt.subplots(1, 4, figsize=(24, 4))\n",
    "t = f.suptitle('FPN Model Performance', fontsize=12)\n",
    "f.subplots_adjust(top=0.85, wspace=0.3)\n",
    "\n",
    "epoch_list = list(range(0,num_epochs))\n",
    "ax1.plot(epoch_list, model.history['accuracy'], label='Train Accuracy')\n",
    "ax1.plot(epoch_list, model.history['val_accuracy'], label='Validation Accuracy')\n",
    "ax1.set_xticks(np.arange(0, num_epochs, step))\n",
    "ax1.set_ylabel('Accuracy Value')\n",
    "ax1.set_xlabel('Epoch')\n",
    "ax1.set_title('Accuracy')\n",
    "l1 = ax1.legend(loc=\"best\")\n",
    "\n",
    "ax2.plot(epoch_list, model.history['loss'], label='Train Loss')\n",
    "ax2.plot(epoch_list, model.history['val_loss'], label='Validation Loss')\n",
    "ax2.set_xticks(np.arange(0, num_epochs, step))\n",
    "ax2.set_ylabel('Loss Value')\n",
    "ax2.set_xlabel('Epoch')\n",
    "ax2.set_title('Loss')\n",
    "l2 = ax2.legend(loc=\"best\")\n",
    "\n",
    "epoch_list = list(range(0,num_epochs))\n",
    "ax3.plot(epoch_list, model.history['dice_coef'], label='Training Dice Score')\n",
    "ax3.plot(epoch_list, model.history['val_dice_coef'], label='Validation Dice Score')\n",
    "ax3.set_xticks(np.arange(0, num_epochs, step))\n",
    "ax3.set_ylabel('Dice Score')\n",
    "ax3.set_xlabel('Epoch')\n",
    "ax3.set_title('Training and validation Dice Score')\n",
    "l3 = ax3.legend(loc=\"best\")\n",
    "\n",
    "ax4.plot(epoch_list, model.history['iou_score'], label='Training IoU')\n",
    "ax4.plot(epoch_list, model.history['val_iou_score'], label='Validation IoU')\n",
    "ax4.set_xticks(np.arange(0, num_epochs, step))\n",
    "ax4.set_ylabel('Mean IoU')\n",
    "ax4.set_xlabel('Epoch')\n",
    "ax4.set_title('Training and validation IoU')\n",
    "l4 = ax4.legend(loc=\"best\")"
   ]
  },
  {
   "cell_type": "markdown",
   "metadata": {},
   "source": [
    "This code loads a saved Keras model from a file named `best_model.h5` in the `files` directory, and returns the loaded model object. The model is not compiled during the loading process."
   ]
  },
  {
   "cell_type": "code",
   "execution_count": 30,
   "metadata": {},
   "outputs": [],
   "source": [
    "#Load the model\n",
    "# with CustomObjectScope({\"dice_coef\": dice_coef, \"dice_loss\": dice_loss}):\n",
    "model = tf.keras.models.load_model(os.path.join(\"files\", \"best_model.h5\"), compile=False)"
   ]
  },
  {
   "cell_type": "markdown",
   "metadata": {},
   "source": [
    "here we have a code loads a trained model and uses it to predict a random image and its corresponding mask from the test set. The predicted mask is thresholded using a threshold of 0.5 and is plotted along with the original image and mask for visual comparison. The output is a figure containing the original image, mask, and predicted mask."
   ]
  },
  {
   "cell_type": "code",
   "execution_count": 41,
   "metadata": {},
   "outputs": [
    {
     "data": {
      "image/png": "[encoded data removed]",
      "text/plain": [
       "<Figure size 864x576 with 4 Axes>"
      ]
     },
     "metadata": {},
     "output_type": "display_data"
    }
   ],
   "source": [
    "# predicts random images from test images\n",
    "\n",
    "test_img_number = random.randint(0, len(test_x) - 1)\n",
    "test_img = test_x[test_img_number]\n",
    "test_mask = test_y[test_img_number]\n",
    "test_mask = plt.imread(test_mask, 0)\n",
    "test_img = cv2.imread(test_img, 0)\n",
    "test_img = test_img.astype(np.uint8)\n",
    "test_img = cv2.resize(test_img, (IMG_WIDTH, IMG_HEIGHT))\n",
    "test_img = cv2.merge([test_img, test_img, test_img])\n",
    "test_img_input = np.expand_dims(test_img, 0)\n",
    "test_pred1 = model.predict(test_img_input/255)\n",
    "test_pred1 = np.squeeze(test_pred1, axis=-1)\n",
    "test_pred1= test_pred1 >= 0.5\n",
    "test_pred1 = test_pred1.astype(np.int32)\n",
    "\n",
    "fig, (ax1, ax2, ax3) = plt.subplots(figsize = (12, 8), ncols = 3)\n",
    "ax1.set_title('Testing Image')\n",
    "ax1.axis('off')\n",
    "ax1.imshow(test_img[:, :, 0], cmap = 'gray')\n",
    "ax2.set_title('Testing Mask')\n",
    "ax2.axis('off')\n",
    "ax2.imshow(test_mask, cmap = 'gray')\n",
    "ax3.set_title('Prediction on test image')\n",
    "ax3.axis('off')\n",
    "pred = ax3.imshow(test_pred1.squeeze(0), cmap = 'gray')\n",
    "fig.colorbar(pred, cax = fig.add_axes([0.92, 0.3, 0.015, 0.39]), extend='both')\n",
    "plt.show()"
   ]
  },
  {
   "cell_type": "markdown",
   "metadata": {},
   "source": [
    "The save_results function takes in an image, `mask`, `y_pred`, and a `save_image_path`. It concatenates the `image`, `mask`, and `y_pred` arrays horizontally with vertical lines and saves the resulting image to `save_image_path`. The mask and `y_pred` arrays are first converted to RGB format by repeating the grayscale values across all three color channels. `y_pred` is also multiplied by 255 to convert it to an image with pixel values in the range [0, 255]."
   ]
  },
  {
   "cell_type": "code",
   "execution_count": 42,
   "metadata": {},
   "outputs": [],
   "source": [
    "def save_results(image, mask, y_pred, save_image_path):\n",
    "    mask = np.expand_dims(mask, axis=-1)\n",
    "    mask = np.concatenate([mask, mask, mask], axis=-1)\n",
    "\n",
    "    y_pred = np.expand_dims(y_pred, axis=-1)\n",
    "    y_pred = np.concatenate([y_pred, y_pred, y_pred], axis=-1)\n",
    "    y_pred = y_pred * 255\n",
    "\n",
    "    line = np.ones((IMG_HEIGHT, 10, 3)) * 255\n",
    "\n",
    "    cat_images = np.concatenate([image, line, mask, line, y_pred], axis=1)\n",
    "    cv2.imwrite(save_image_path, cat_images)"
   ]
  },
  {
   "cell_type": "markdown",
   "metadata": {},
   "source": [
    "The code is evaluating the trained model on the test dataset. For each image in the test dataset, it loads the image and mask, resizes them, and performs a prediction using the trained model. The prediction is then saved as an image in the output_results directory. The code then calculates various evaluation metrics, such as F1 score, Jaccard score, recall, and precision, between the predicted mask and the ground truth mask. Finally, the evaluation metrics values are appended to a list SCORE."
   ]
  },
  {
   "cell_type": "markdown",
   "metadata": {},
   "source": [
    "Here we need to write a code that performs prediction and evaluation of a trained model on the test dataset. For each image and corresponding mask in the test dataset, it loads the image and mask, resizes them to the specified dimensions, and normalizes the image pixel values to the range of [0,1]. It then uses the trained model to predict the segmentation mask for the image and applies a threshold to the predicted mask to obtain a binary mask.\n",
    "\n",
    "The predicted mask and the original image and mask are saved in the \"output_results\" directory using the \"save_results()\" function. The code then calculates several evaluation metrics, including F1 score, Jaccard index, recall, and precision, for the predicted mask by comparing it with the ground truth mask. It flattens both the predicted mask and ground truth mask into 1D arrays and uses these arrays to calculate the metrics. The calculated metrics for each image and its corresponding name are saved to the \"SCORE\" list.\n",
    "\n",
    "The code uses the \"f1_score()\", \"jaccard_score()\", \"recall_score()\", and \"precision_score()\" functions from scikit-learn to calculate the metrics. The \"average\" parameter is set to \"binary\" to compute binary metrics since the segmentation masks are binary. The \"zero_division\" parameter is set to 0 to handle the case where a metric has 0 as the denominator. The tqdm module is used to display a progress bar while iterating over the test dataset.\n",
    "\n",
    "\n",
    "\n",
    "\n",
    "\n"
   ]
  },
  {
   "cell_type": "code",
   "execution_count": 43,
   "metadata": {},
   "outputs": [
    {
     "name": "stderr",
     "output_type": "stream",
     "text": [
      "100%|██████████| 153/153 [00:07<00:00, 20.21it/s]\n"
     ]
    }
   ],
   "source": [
    "# Prediction and Evaluation the model on th test dataset\n",
    "SCORE = []\n",
    "for x, y in tqdm(zip(test_x, test_y), total=len(test_y)):\n",
    "    #Extracting the name from the image path\n",
    "    name = x.split(\"/\")[-1]\n",
    "\n",
    "    # Reading the image\n",
    "    image = cv2.imread(x, cv2.IMREAD_COLOR)\n",
    "    image = cv2.resize(image, (IMG_WIDTH, IMG_HEIGHT)) \n",
    "    x = image/255\n",
    "    x = np.expand_dims(x, axis=0)\n",
    "\n",
    "    # Reading the mask\n",
    "    mask = cv2.imread(y, cv2.IMREAD_GRAYSCALE)\n",
    "    mask = cv2.resize(mask, (IMG_WIDTH, IMG_HEIGHT))\n",
    "\n",
    "    # Prediction\n",
    "    y_pred = model.predict(x, verbose=0)[0]\n",
    "    y_pred = np.squeeze(y_pred, axis=-1)\n",
    "    y_pred = y_pred >= 0.5\n",
    "    y_pred = y_pred.astype(np.int32)\n",
    "\n",
    "    # Saving the prediction as image\n",
    "    path='output_results/'\n",
    "    save_image_path = os.path.join(path, name)\n",
    "    save_results(image, mask, y_pred, save_image_path)\n",
    "\n",
    "    # Flatten the array\n",
    "    mask = mask\n",
    "    mask = (mask > 0.5).astype(np.int32).flatten()\n",
    "    y_pred = y_pred.flatten()\n",
    "\n",
    "    # Calculating the metrics values\n",
    "    f1_value = f1_score(mask, y_pred, labels=[0, 1], average=\"binary\")\n",
    "    jac_value = jaccard_score(mask, y_pred, labels=[0, 1], average=\"binary\")\n",
    "    recall_value = recall_score(mask, y_pred, labels=[0, 1], average=\"binary\", zero_division=0)\n",
    "    precision_value = precision_score(mask, y_pred, labels=[0, 1], average=\"binary\", zero_division=0)\n",
    "    SCORE.append([name, f1_value, jac_value, recall_value, precision_value])"
   ]
  },
  {
   "cell_type": "markdown",
   "metadata": {},
   "source": [
    "This code calculates the average of several metrics, including F1 score, Jaccard index, recall, and precision, and prints them to the console. It also saves the results as a CSV file in the \"output_results\" directory. The \"SCORE\" variable is assumed to be a list of lists, where each inner list contains the metrics for a single image. The first element in each inner list is assumed to be the image name, which is not used in the calculations. The remaining elements in each inner list are assumed to be the metrics in the following order: F1, Jaccard, recall, precision."
   ]
  },
  {
   "cell_type": "code",
   "execution_count": 44,
   "metadata": {},
   "outputs": [
    {
     "name": "stdout",
     "output_type": "stream",
     "text": [
      "F1: 0.83158\n",
      "Jaccard: 0.73849\n",
      "Recall: 0.84524\n",
      "Precision: 0.84534\n"
     ]
    }
   ],
   "source": [
    "# print and save the metrics values\n",
    "score = [s[1:]for s in SCORE]\n",
    "score = np.mean(score, axis=0)\n",
    "print(f\"F1: {score[0]:0.5f}\")\n",
    "print(f\"Jaccard: {score[1]:0.5f}\")\n",
    "print(f\"Recall: {score[2]:0.5f}\")\n",
    "print(f\"Precision: {score[3]:0.5f}\")\n",
    "\n",
    "# save the results as csv file\n",
    "df = pd.DataFrame(SCORE, columns=[\"Image\", \"F1\", \"Jaccard\", \"Recall\", \"Precision\"])\n",
    "df.to_csv(\"output_results/score.csv\")"
   ]
  },
  {
   "cell_type": "markdown",
   "metadata": {},
   "source": [
    "###  Conclusions"
   ]
  },
  {
   "cell_type": "markdown",
   "metadata": {},
   "source": [
    "- Our study evaluated the effectiveness of three deep learning models, including the FPN model, for MRI segmentation.\n",
    "- We split our MRI dataset into 85% for training, 10% for testing, and 5% for validation to evaluate the performance of the FPN model.\n",
    "- Our FPN model produced inferior results in comparison to the Unet and VGG16 models, with lower accuracy and Dice coefficient scores.\n",
    "- Our FPN model produced missing tumor spots in MRI segmentation, which is a critical concern for accurate diagnosis and treatment planning.\n",
    "- Our FPN model also produced extra spots in MRI segmentation, which can lead to false positives and unnecessary treatments.\n",
    "- The poor performance of our FPN model can be attributed to its limited ability to integrate high-level and low-level features from input images, leading to inaccurate and incomplete segmentation.\n",
    "- Our findings suggest that the FPN model may not be a suitable choice for accurate MRI segmentation in comparison to the Unet and VGG16 models.\n",
    "- Future studies can explore the use of other deep learning models or combine multiple models to improve the accuracy of MRI segmentation.\n",
    "- The Unet and VGG16 models produced better results in MRI segmentation, with higher accuracy and Dice coefficient scores.\n",
    "- The Unet model, in particular, provided the best results, accurately identifying all tumors without missing any.\n",
    "- The VGG16 model also provided good results, but its performance was lower than that of the Unet model.\n",
    "- The Unet model's encoder-decoder structure with skip connections is well-suited for MRI segmentation, enabling it to accurately identify regions of interest within MRI scans.\n",
    "- Accurate MRI segmentation using the Unet model can assist healthcare professionals in making more informed decisions and providing better treatment options to patients.\n",
    "- Our findings suggest that the Unet model is an effective tool for accurate and reliable MRI segmentation, which can aid in the diagnosis and treatment of various medical conditions."
   ]
  }
 ],
 "metadata": {
  "colab": {
   "provenance": []
  },
  "kernelspec": {
   "display_name": "Python 3",
   "language": "python",
   "name": "python3"
  },
  "language_info": {
   "codemirror_mode": {
    "name": "ipython",
    "version": 3
   },
   "file_extension": ".py",
   "mimetype": "text/x-python",
   "name": "python",
   "nbconvert_exporter": "python",
   "pygments_lexer": "ipython3",
   "version": "3.8.8"
  }
 },
 "nbformat": 4,
 "nbformat_minor": 4
}
