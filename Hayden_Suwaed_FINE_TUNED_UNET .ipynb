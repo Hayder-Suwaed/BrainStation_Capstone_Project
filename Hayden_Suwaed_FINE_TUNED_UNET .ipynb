{
 "cells": [
  {
   "cell_type": "markdown",
   "metadata": {
    "id": "XCD7SFNXrvO-"
   },
   "source": [
    "# Image Segmentation with Deep Learning\n",
    "\n",
    "\n",
    "\n",
    "\n",
    "Author: Hayden Suwaed\n",
    "\n",
    "Email: haidersuwaed@gmail.com\n",
    "\n",
    "\n",
    "\n",
    "Date: Apr-1-2023\n",
    "\n",
    "\n",
    "\n",
    "\n",
    "\n",
    "\n",
    "\n"
   ]
  },
  {
   "cell_type": "markdown",
   "metadata": {},
   "source": [
    "## Table of Contents\n",
    "[1. Introduction](#Intorduction) <br>\n",
    "[2. Modeling](#Modeling) <br>\n",
    "[3. Kernels](#Kernels) <br>\n",
    "[4. Pooling](#Pooling) <br>\n",
    "[5. Conclusions](#Conclusions)"
   ]
  },
  {
   "cell_type": "markdown",
   "metadata": {},
   "source": [
    "\n",
    "## Introduction <a class = 'anchor' id = 'Introduction'></a>\n",
    "\n",
    "\"Healing is a matter of time, but it is sometimes also a matter of opportunity.\" -*Hippocrates*\n",
    "\n",
    "Brain tumor segmentation is a critical task in medical image analysis, which entails the precise delineation of tumor regions from healthy brain tissues in magnetic resonance imaging (MRI) scans. Accurate segmentation is vital for diagnosis, treatment planning, and monitoring the progress of patients with brain tumors. Deep learning has emerged as a powerful tool for tackling this challenging problem, with Convolutional Neural Networks (CNNs) and other sophisticated architectures exhibiting remarkable performance in identifying, localizing, and classifying different tumor sub-regions.**The primary goal of utilizing deep learning algorithms for brain tumor segmentation is to achieve unparalleled accuracy in detecting and delineating tumor regions, thereby facilitating timely diagnosis and personalized treatment plans for improved patient outcomes.**"
   ]
  },
  {
   "cell_type": "markdown",
   "metadata": {},
   "source": [
    "## Data Collection and Description <a class = 'anchor' id = 'Data Collection and Description'></a>"
   ]
  },
  {
   "cell_type": "markdown",
   "metadata": {},
   "source": [
    "\n",
    "\n",
    "In this study, we will utilize a dataset consisting of images and their corresponding masks in the Joint Photographic Experts Group (JPEG) format. The dataset was procured and preprocessed by Southern Medical University, located in Guangzhou, Guangdong, China. The dataset was originally released on April 2, 2017.\n",
    "\n",
    "\n",
    "The brain tumor dataset comprises 3,064 T1-weighted contrast-enhanced images derived from 233 patients diagnosed with three distinct brain tumor types: meningioma (708 slices), glioma (1,426 slices), and pituitary tumor (930 slices). Owing to repository file size constraints, the dataset has been partitioned into four subsets and compressed into four separate .zip files, each containing 766 slices. Additionally, the dataset includes indices for 5-fold cross-validation to facilitate model evaluation and comparison.\n",
    "\n",
    "\n",
    "\n",
    "Check out the dataset that have bee used for this project [Here](https://drive.google.com/drive/folders/1nAu70XoU7Wln8nY1OC7zhfr7n5f0rYlf?usp=share_link)"
   ]
  },
  {
   "cell_type": "code",
   "execution_count": 1,
   "metadata": {
    "id": "_QKn7Ga0CgVR"
   },
   "outputs": [],
   "source": [
    "#Import different and necessary libraries\n",
    "import tensorflow as tf\n",
    "from tensorflow.keras import backend as K\n",
    "from tensorflow.keras.utils import CustomObjectScope\n",
    "from sklearn.metrics import f1_score, jaccard_score, precision_score, recall_score\n",
    "\n",
    "from tensorflow.keras.layers import Conv2D, BatchNormalization, Activation,\\\n",
    "MaxPool2D, Conv2DTranspose, Concatenate, Input, Dropout, GaussianNoise\n",
    "from tensorflow.keras.models import Model\n",
    "# from focal_loss import BinaryFocalLoss\n",
    "\n",
    "\n",
    "import os\n",
    "import random\n",
    "import numpy as np\n",
    "import pandas as pd\n",
    "from glob import glob\n",
    "import pandas as pd\n",
    "\n",
    " \n",
    "from tqdm import tqdm \n",
    "import cv2\n",
    "from skimage.io import imread, imshow\n",
    "from skimage.transform import resize\n",
    "from sklearn.model_selection import train_test_split\n",
    "from sklearn.utils import shuffle\n",
    "import matplotlib.pyplot as plt"
   ]
  },
  {
   "cell_type": "markdown",
   "metadata": {},
   "source": [
    "The following code utilizes the TensorFlow library to detect and list the physical and logical graphics processing units (GPUs) available in the system. It then sets the memory growth parameter to True for each available GPU, which allows for dynamic allocation of only necessary GPU memory during computation. The code is enclosed in a try-except block to handle any runtime errors. Finally, the code prints the number of physical and logical GPUs detected in the system."
   ]
  },
  {
   "cell_type": "code",
   "execution_count": null,
   "metadata": {
    "colab": {
     "base_uri": "https://localhost:8080/"
    },
    "id": "T9gD5uUEod1w",
    "outputId": "ecda08b3-5d3e-47bb-9d09-d1b509be6de1",
    "scrolled": true
   },
   "outputs": [
    {
     "name": "stdout",
     "output_type": "stream",
     "text": [
      "1 Physical GPUs, 1 Logical GPUs\n"
     ]
    }
   ],
   "source": [
    "gpus = tf.config.list_physical_devices('GPU')\n",
    "if gpus:\n",
    "  try:\n",
    "    # Currently, memory growth needs to be the same across GPUs\n",
    "    for gpu in gpus:\n",
    "      tf.config.experimental.set_memory_growth(gpu, True)\n",
    "    logical_gpus = tf.config.list_logical_devices('GPU')\n",
    "    print(len(gpus), \"Physical GPUs,\", len(logical_gpus), \"Logical GPUs\")\n",
    "  except RuntimeError as e:\n",
    "    # Memory growth must be set before GPUs have been initialized\n",
    "    print(e)"
   ]
  },
  {
   "cell_type": "markdown",
   "metadata": {},
   "source": [
    "Here we set the values of `IMG_WIDTH`, `IMG_HEIGHT`, and `IMG_CHANNELS` to 128, 128, and 3, respectively. These variables are commonly used in image processing and computer vision applications to define the dimensions and number of channels of an image."
   ]
  },
  {
   "cell_type": "code",
   "execution_count": null,
   "metadata": {
    "id": "krRavFvBClTX"
   },
   "outputs": [],
   "source": [
    "IMG_WIDTH = 128\n",
    "IMG_HEIGHT = 128\n",
    "IMG_CHANNELS = 3"
   ]
  },
  {
   "cell_type": "markdown",
   "metadata": {},
   "source": [
    "The `seed` variable is set to 42, which is a commonly used value in random number generation. The `batch_size` is set to 10, which specifies the number of samples to use for each training update. The `lr` variable defines the learning rate of the optimizer and is set to 1e-4, and the `optimizer` is defined using the Adam optimizer from the Keras library with the specified learning rate. `num_epochs` is set to 60, which specifies the number of times the training process should iterate over the entire dataset. Finally,`model_path` and `csv_path` specify the file paths for saving the best model and logging the training metrics, respectively."
   ]
  },
  {
   "cell_type": "code",
   "execution_count": null,
   "metadata": {
    "id": "23l5IPRID5jx"
   },
   "outputs": [],
   "source": [
    "seed=42\n",
    "batch_size = 10\n",
    "lr = 1e-4\n",
    "optimizer =tf.keras.optimizers.Adam(lr)\n",
    "num_epochs = 60\n",
    "model_path = os.path.join(\"files\", \"best_model.h5\")\n",
    "csv_path = os.path.join(\"files\", \"log.csv\")"
   ]
  },
  {
   "cell_type": "markdown",
   "metadata": {},
   "source": [
    "## Loading and Preprocessing Data\n",
    "\n",
    "\n",
    "Here wedefine a function named `load_dataset` that takes a `path` argument, which specifies the location of the dataset images and masks. The function also allows for specifying the `val_split` and `test_split` proportions for splitting the dataset into validation and test sets. The function first retrieves the images and masks from the specified paths using `glob` and sorts them. It then calculates the validation and test set sizes and splits the data accordingly using `train_test_split` from the Scikit-learn library. Finally, the function returns the training, validation, and test data as tuples of `(images, masks)` for each set."
   ]
  },
  {
   "cell_type": "code",
   "execution_count": null,
   "metadata": {
    "id": "Jel7N-06Cps7"
   },
   "outputs": [],
   "source": [
    "def load_dataset(path, val_split=0.1, test_split=0.05, image_format=\"jpg\"):\n",
    "    \"\"\"\n",
    "    Loads a dataset of images and masks from a specified path, and returns a tuple containing training, validation, and \n",
    "    test sets of data. \n",
    "    \n",
    "    Parameters:\n",
    "    path (str): The path to the dataset directory\n",
    "    val_split (float, optional): The proportion of the dataset to use for validation. Defaults to 0.1.\n",
    "    test_split (float, optional): The proportion of the dataset to use for testing. Defaults to 0.05.\n",
    "    image_format (str, optional): The file format of the images in the dataset. Defaults to \"jpg\".\n",
    "    \n",
    "    Returns:\n",
    "    Tuple: A tuple containing three sets of data, each represented as a tuple of two lists. \n",
    "           The first list contains file paths to the images in the dataset, \n",
    "           and the second list contains file paths to the corresponding masks. \n",
    "           The three sets of data are: (training data, validation data, test data)\n",
    "    \"\"\"\n",
    "        \n",
    "    image_format = image_format\n",
    "    images = sorted(glob(os.path.join(path, \"images\", f\"*.{image_format}\")))\n",
    "    masks = sorted(glob(os.path.join(path, \"masks\", f\"*.{image_format}\")))\n",
    "\n",
    "    val_split_size = int(len(images) * val_split)\n",
    "    test_split_size = int(len(images) * test_split)\n",
    "\n",
    "    train_x, valid_x = train_test_split(images, test_size=val_split_size, random_state=42)\n",
    "    train_y, valid_y = train_test_split(masks, test_size=val_split_size, random_state=42)\n",
    "\n",
    "    train_x, test_x = train_test_split(train_x, test_size=test_split_size, random_state=42)\n",
    "    train_y, test_y = train_test_split(train_y, test_size=test_split_size, random_state=42)\n",
    "\n",
    "    return (train_x, train_y), (valid_x, valid_y), (test_x, test_y)"
   ]
  },
  {
   "cell_type": "markdown",
   "metadata": {},
   "source": [
    "As you can see, `np.random.seed(42)` sets the NumPy random seed to 42, which ensures that the same sequence of random numbers will be generated on each run. `tf.random.set_seed(42)` sets the TensorFlow random seed to 42, which ensures that the model will be initialized with the same set of random weights on each run, allowing for reproducibility of results."
   ]
  },
  {
   "cell_type": "code",
   "execution_count": null,
   "metadata": {
    "id": "oxr9bRJZCsyY"
   },
   "outputs": [],
   "source": [
    "np.random.seed(42)\n",
    "tf.random.set_seed(42)"
   ]
  },
  {
   "cell_type": "markdown",
   "metadata": {},
   "source": [
    "We are checking if a directory named 'files/' exists, and creates one if it does not exist, using the `os` module. The following commented line is used to print the current working directory path using the `pwd` command."
   ]
  },
  {
   "cell_type": "code",
   "execution_count": null,
   "metadata": {
    "colab": {
     "base_uri": "https://localhost:8080/"
    },
    "id": "WUMfMZmBCwge",
    "outputId": "a8b6bf1e-251a-4280-fd93-8c454853da40"
   },
   "outputs": [
    {
     "name": "stdout",
     "output_type": "stream",
     "text": [
      "/content\n"
     ]
    }
   ],
   "source": [
    "if os.path.exists('files/') == False:\n",
    "  os.mkdir('files/')\n",
    "\n",
    "# os.chdir('/content/drive/MyDrive/BT_Seg_Unet')\n",
    "!pwd"
   ]
  },
  {
   "cell_type": "markdown",
   "metadata": {},
   "source": [
    "`dataset_path`, `image_path`, and `mask_path` variables store the paths to the dataset and the corresponding image and mask directories. The `load_dataset()` function is used to load and split the data into training, validation, and test sets and returns them as tuples of `(images, masks)` for each set. The returned values are then unpacked and stored in `(train_x, train_y)`, `(valid_x, valid_y)`, `(test_x, test_y)` variables."
   ]
  },
  {
   "cell_type": "code",
   "execution_count": null,
   "metadata": {
    "id": "VXXzGTCOC6a1"
   },
   "outputs": [],
   "source": [
    "dataset_path = \"/content/drive/MyDrive/Brain_MRI_Segmentation/dataset\"\n",
    "image_path = '/content/drive/MyDrive/Brain_MRI_Segmentation/dataset/images/'\n",
    "mask_path = '/content/drive/MyDrive/Brain_MRI_Segmentation/dataset/masks/'\n",
    "(train_x, train_y), (valid_x, valid_y), (test_x, test_y) = load_dataset(dataset_path, image_format='jpg')"
   ]
  },
  {
   "cell_type": "markdown",
   "metadata": {},
   "source": [
    "Here we mount the Google Drive to the Colaboratory notebook instance in order to access and read/write files from/to the Google Drive file system."
   ]
  },
  {
   "cell_type": "code",
   "execution_count": null,
   "metadata": {
    "colab": {
     "base_uri": "https://localhost:8080/"
    },
    "id": "OKxBLQSopYe2",
    "outputId": "e097a2c9-3bf7-4451-a7a5-8f382f3a512c",
    "scrolled": false
   },
   "outputs": [
    {
     "name": "stdout",
     "output_type": "stream",
     "text": [
      "Drive already mounted at /content/drive; to attempt to forcibly remount, call drive.mount(\"/content/drive\", force_remount=True).\n"
     ]
    }
   ],
   "source": [
    "from google.colab import drive\n",
    "drive.mount('/content/drive')"
   ]
  },
  {
   "cell_type": "code",
   "execution_count": null,
   "metadata": {
    "colab": {
     "base_uri": "https://localhost:8080/"
    },
    "id": "aLCh4XsLC8om",
    "outputId": "197abb6c-1541-4f92-d0ac-5915e56729c7",
    "scrolled": true
   },
   "outputs": [
    {
     "name": "stdout",
     "output_type": "stream",
     "text": [
      "Train: 2605 - 2605\n",
      "Valid: 306 - 306\n",
      "Test : 153 - 153\n"
     ]
    }
   ],
   "source": [
    "# Sanity check\n",
    "print(f\"Train: {len(train_x)} - {len(train_y)}\")\n",
    "print(f\"Valid: {len(valid_x)} - {len(valid_y)}\")\n",
    "print(f\"Test : {len(test_x)} - {len(test_y)}\")"
   ]
  },
  {
   "cell_type": "markdown",
   "metadata": {},
   "source": [
    "The below code creates a pandas DataFrame object `train_x_df` containing the paths to the training images, splits the paths by '/' using `str.split()` function, stores the resulting parts in separate columns, and sorts the column containing the names of the subdirectories in ascending order."
   ]
  },
  {
   "cell_type": "code",
   "execution_count": null,
   "metadata": {
    "colab": {
     "base_uri": "https://localhost:8080/",
     "height": 206
    },
    "id": "Au5m0vbxqGdz",
    "outputId": "2c9575f6-0a43-4d37-a455-0a07628dec2b"
   },
   "outputs": [
    {
     "data": {
      "text/html": [
       "\n",
       "  <div id=\"df-0f9ab737-7d49-480f-a8fd-8a87cfeb1941\">\n",
       "    <div class=\"colab-df-container\">\n",
       "      <div>\n",
       "<style scoped>\n",
       "    .dataframe tbody tr th:only-of-type {\n",
       "        vertical-align: middle;\n",
       "    }\n",
       "\n",
       "    .dataframe tbody tr th {\n",
       "        vertical-align: top;\n",
       "    }\n",
       "\n",
       "    .dataframe thead th {\n",
       "        text-align: right;\n",
       "    }\n",
       "</style>\n",
       "<table border=\"1\" class=\"dataframe\">\n",
       "  <thead>\n",
       "    <tr style=\"text-align: right;\">\n",
       "      <th></th>\n",
       "      <th>0</th>\n",
       "      <th>1</th>\n",
       "      <th>2</th>\n",
       "      <th>3</th>\n",
       "      <th>4</th>\n",
       "      <th>5</th>\n",
       "      <th>6</th>\n",
       "      <th>7</th>\n",
       "    </tr>\n",
       "  </thead>\n",
       "  <tbody>\n",
       "    <tr>\n",
       "      <th>0</th>\n",
       "      <td></td>\n",
       "      <td>content</td>\n",
       "      <td>drive</td>\n",
       "      <td>MyDrive</td>\n",
       "      <td>Brain_MRI_Segmentation</td>\n",
       "      <td>dataset</td>\n",
       "      <td>images</td>\n",
       "      <td>103582_pituitary_1634.jpg</td>\n",
       "    </tr>\n",
       "    <tr>\n",
       "      <th>1</th>\n",
       "      <td></td>\n",
       "      <td>content</td>\n",
       "      <td>drive</td>\n",
       "      <td>MyDrive</td>\n",
       "      <td>Brain_MRI_Segmentation</td>\n",
       "      <td>dataset</td>\n",
       "      <td>images</td>\n",
       "      <td>101724_pituitary_1933.jpg</td>\n",
       "    </tr>\n",
       "    <tr>\n",
       "      <th>2</th>\n",
       "      <td></td>\n",
       "      <td>content</td>\n",
       "      <td>drive</td>\n",
       "      <td>MyDrive</td>\n",
       "      <td>Brain_MRI_Segmentation</td>\n",
       "      <td>dataset</td>\n",
       "      <td>images</td>\n",
       "      <td>104684_pituitary_1104.jpg</td>\n",
       "    </tr>\n",
       "    <tr>\n",
       "      <th>3</th>\n",
       "      <td></td>\n",
       "      <td>content</td>\n",
       "      <td>drive</td>\n",
       "      <td>MyDrive</td>\n",
       "      <td>Brain_MRI_Segmentation</td>\n",
       "      <td>dataset</td>\n",
       "      <td>images</td>\n",
       "      <td>112847_pituitary_70.jpg</td>\n",
       "    </tr>\n",
       "    <tr>\n",
       "      <th>4</th>\n",
       "      <td></td>\n",
       "      <td>content</td>\n",
       "      <td>drive</td>\n",
       "      <td>MyDrive</td>\n",
       "      <td>Brain_MRI_Segmentation</td>\n",
       "      <td>dataset</td>\n",
       "      <td>images</td>\n",
       "      <td>MR026175E_glioma_337.jpg</td>\n",
       "    </tr>\n",
       "  </tbody>\n",
       "</table>\n",
       "</div>\n",
       "      <button class=\"colab-df-convert\" onclick=\"convertToInteractive('df-0f9ab737-7d49-480f-a8fd-8a87cfeb1941')\"\n",
       "              title=\"Convert this dataframe to an interactive table.\"\n",
       "              style=\"display:none;\">\n",
       "        \n",
       "  <svg xmlns=\"http://www.w3.org/2000/svg\" height=\"24px\"viewBox=\"0 0 24 24\"\n",
       "       width=\"24px\">\n",
       "    <path d=\"M0 0h24v24H0V0z\" fill=\"none\"/>\n",
       "    <path d=\"M18.56 5.44l.94 2.06.94-2.06 2.06-.94-2.06-.94-.94-2.06-.94 2.06-2.06.94zm-11 1L8.5 8.5l.94-2.06 2.06-.94-2.06-.94L8.5 2.5l-.94 2.06-2.06.94zm10 10l.94 2.06.94-2.06 2.06-.94-2.06-.94-.94-2.06-.94 2.06-2.06.94z\"/><path d=\"M17.41 7.96l-1.37-1.37c-.4-.4-.92-.59-1.43-.59-.52 0-1.04.2-1.43.59L10.3 9.45l-7.72 7.72c-.78.78-.78 2.05 0 2.83L4 21.41c.39.39.9.59 1.41.59.51 0 1.02-.2 1.41-.59l7.78-7.78 2.81-2.81c.8-.78.8-2.07 0-2.86zM5.41 20L4 18.59l7.72-7.72 1.47 1.35L5.41 20z\"/>\n",
       "  </svg>\n",
       "      </button>\n",
       "      \n",
       "  <style>\n",
       "    .colab-df-container {\n",
       "      display:flex;\n",
       "      flex-wrap:wrap;\n",
       "      gap: 12px;\n",
       "    }\n",
       "\n",
       "    .colab-df-convert {\n",
       "      background-color: #E8F0FE;\n",
       "      border: none;\n",
       "      border-radius: 50%;\n",
       "      cursor: pointer;\n",
       "      display: none;\n",
       "      fill: #1967D2;\n",
       "      height: 32px;\n",
       "      padding: 0 0 0 0;\n",
       "      width: 32px;\n",
       "    }\n",
       "\n",
       "    .colab-df-convert:hover {\n",
       "      background-color: #E2EBFA;\n",
       "      box-shadow: 0px 1px 2px rgba(60, 64, 67, 0.3), 0px 1px 3px 1px rgba(60, 64, 67, 0.15);\n",
       "      fill: #174EA6;\n",
       "    }\n",
       "\n",
       "    [theme=dark] .colab-df-convert {\n",
       "      background-color: #3B4455;\n",
       "      fill: #D2E3FC;\n",
       "    }\n",
       "\n",
       "    [theme=dark] .colab-df-convert:hover {\n",
       "      background-color: #434B5C;\n",
       "      box-shadow: 0px 1px 3px 1px rgba(0, 0, 0, 0.15);\n",
       "      filter: drop-shadow(0px 1px 2px rgba(0, 0, 0, 0.3));\n",
       "      fill: #FFFFFF;\n",
       "    }\n",
       "  </style>\n",
       "\n",
       "      <script>\n",
       "        const buttonEl =\n",
       "          document.querySelector('#df-0f9ab737-7d49-480f-a8fd-8a87cfeb1941 button.colab-df-convert');\n",
       "        buttonEl.style.display =\n",
       "          google.colab.kernel.accessAllowed ? 'block' : 'none';\n",
       "\n",
       "        async function convertToInteractive(key) {\n",
       "          const element = document.querySelector('#df-0f9ab737-7d49-480f-a8fd-8a87cfeb1941');\n",
       "          const dataTable =\n",
       "            await google.colab.kernel.invokeFunction('convertToInteractive',\n",
       "                                                     [key], {});\n",
       "          if (!dataTable) return;\n",
       "\n",
       "          const docLinkHtml = 'Like what you see? Visit the ' +\n",
       "            '<a target=\"_blank\" href=https://colab.research.google.com/notebooks/data_table.ipynb>data table notebook</a>'\n",
       "            + ' to learn more about interactive tables.';\n",
       "          element.innerHTML = '';\n",
       "          dataTable['output_type'] = 'display_data';\n",
       "          await google.colab.output.renderOutput(dataTable, element);\n",
       "          const docLink = document.createElement('div');\n",
       "          docLink.innerHTML = docLinkHtml;\n",
       "          element.appendChild(docLink);\n",
       "        }\n",
       "      </script>\n",
       "    </div>\n",
       "  </div>\n",
       "  "
      ],
      "text/plain": [
       "  0        1      2        3                       4        5       6  \\\n",
       "0    content  drive  MyDrive  Brain_MRI_Segmentation  dataset  images   \n",
       "1    content  drive  MyDrive  Brain_MRI_Segmentation  dataset  images   \n",
       "2    content  drive  MyDrive  Brain_MRI_Segmentation  dataset  images   \n",
       "3    content  drive  MyDrive  Brain_MRI_Segmentation  dataset  images   \n",
       "4    content  drive  MyDrive  Brain_MRI_Segmentation  dataset  images   \n",
       "\n",
       "                           7  \n",
       "0  103582_pituitary_1634.jpg  \n",
       "1  101724_pituitary_1933.jpg  \n",
       "2  104684_pituitary_1104.jpg  \n",
       "3    112847_pituitary_70.jpg  \n",
       "4   MR026175E_glioma_337.jpg  "
      ]
     },
     "execution_count": 13,
     "metadata": {},
     "output_type": "execute_result"
    }
   ],
   "source": [
    "train_x_df=pd.DataFrame(train_x, columns=['path'])\n",
    "train_x_df = train_x_df.path.str.split(\"/\", expand=True)\n",
    "train_x_df[2]=train_x_df[2].sort_values()\n",
    "train_x_df.head()"
   ]
  },
  {
   "cell_type": "markdown",
   "metadata": {},
   "source": [
    "The following code creates a pandas DataFrame object containing the paths to the training masks and splits the paths by '/' using `str.split()`, storing the resulting parts in separate columns, and sorting the column containing the names of the subdirectories in ascending order."
   ]
  },
  {
   "cell_type": "code",
   "execution_count": null,
   "metadata": {
    "colab": {
     "base_uri": "https://localhost:8080/",
     "height": 206
    },
    "id": "ZoxpHR_D5E0D",
    "outputId": "6d645d85-b09f-472f-ee84-83add636024e"
   },
   "outputs": [
    {
     "data": {
      "text/html": [
       "\n",
       "  <div id=\"df-e3e8f323-9ef0-468c-9320-e39a67c8b3e2\">\n",
       "    <div class=\"colab-df-container\">\n",
       "      <div>\n",
       "<style scoped>\n",
       "    .dataframe tbody tr th:only-of-type {\n",
       "        vertical-align: middle;\n",
       "    }\n",
       "\n",
       "    .dataframe tbody tr th {\n",
       "        vertical-align: top;\n",
       "    }\n",
       "\n",
       "    .dataframe thead th {\n",
       "        text-align: right;\n",
       "    }\n",
       "</style>\n",
       "<table border=\"1\" class=\"dataframe\">\n",
       "  <thead>\n",
       "    <tr style=\"text-align: right;\">\n",
       "      <th></th>\n",
       "      <th>0</th>\n",
       "      <th>1</th>\n",
       "      <th>2</th>\n",
       "      <th>3</th>\n",
       "      <th>4</th>\n",
       "      <th>5</th>\n",
       "      <th>6</th>\n",
       "      <th>7</th>\n",
       "    </tr>\n",
       "  </thead>\n",
       "  <tbody>\n",
       "    <tr>\n",
       "      <th>0</th>\n",
       "      <td></td>\n",
       "      <td>content</td>\n",
       "      <td>drive</td>\n",
       "      <td>MyDrive</td>\n",
       "      <td>Brain_MRI_Segmentation</td>\n",
       "      <td>dataset</td>\n",
       "      <td>masks</td>\n",
       "      <td>103582_pituitary_1634.jpg</td>\n",
       "    </tr>\n",
       "    <tr>\n",
       "      <th>1</th>\n",
       "      <td></td>\n",
       "      <td>content</td>\n",
       "      <td>drive</td>\n",
       "      <td>MyDrive</td>\n",
       "      <td>Brain_MRI_Segmentation</td>\n",
       "      <td>dataset</td>\n",
       "      <td>masks</td>\n",
       "      <td>101724_pituitary_1933.jpg</td>\n",
       "    </tr>\n",
       "    <tr>\n",
       "      <th>2</th>\n",
       "      <td></td>\n",
       "      <td>content</td>\n",
       "      <td>drive</td>\n",
       "      <td>MyDrive</td>\n",
       "      <td>Brain_MRI_Segmentation</td>\n",
       "      <td>dataset</td>\n",
       "      <td>masks</td>\n",
       "      <td>104684_pituitary_1104.jpg</td>\n",
       "    </tr>\n",
       "    <tr>\n",
       "      <th>3</th>\n",
       "      <td></td>\n",
       "      <td>content</td>\n",
       "      <td>drive</td>\n",
       "      <td>MyDrive</td>\n",
       "      <td>Brain_MRI_Segmentation</td>\n",
       "      <td>dataset</td>\n",
       "      <td>masks</td>\n",
       "      <td>112847_pituitary_70.jpg</td>\n",
       "    </tr>\n",
       "    <tr>\n",
       "      <th>4</th>\n",
       "      <td></td>\n",
       "      <td>content</td>\n",
       "      <td>drive</td>\n",
       "      <td>MyDrive</td>\n",
       "      <td>Brain_MRI_Segmentation</td>\n",
       "      <td>dataset</td>\n",
       "      <td>masks</td>\n",
       "      <td>MR026175E_glioma_337.jpg</td>\n",
       "    </tr>\n",
       "  </tbody>\n",
       "</table>\n",
       "</div>\n",
       "      <button class=\"colab-df-convert\" onclick=\"convertToInteractive('df-e3e8f323-9ef0-468c-9320-e39a67c8b3e2')\"\n",
       "              title=\"Convert this dataframe to an interactive table.\"\n",
       "              style=\"display:none;\">\n",
       "        \n",
       "  <svg xmlns=\"http://www.w3.org/2000/svg\" height=\"24px\"viewBox=\"0 0 24 24\"\n",
       "       width=\"24px\">\n",
       "    <path d=\"M0 0h24v24H0V0z\" fill=\"none\"/>\n",
       "    <path d=\"M18.56 5.44l.94 2.06.94-2.06 2.06-.94-2.06-.94-.94-2.06-.94 2.06-2.06.94zm-11 1L8.5 8.5l.94-2.06 2.06-.94-2.06-.94L8.5 2.5l-.94 2.06-2.06.94zm10 10l.94 2.06.94-2.06 2.06-.94-2.06-.94-.94-2.06-.94 2.06-2.06.94z\"/><path d=\"M17.41 7.96l-1.37-1.37c-.4-.4-.92-.59-1.43-.59-.52 0-1.04.2-1.43.59L10.3 9.45l-7.72 7.72c-.78.78-.78 2.05 0 2.83L4 21.41c.39.39.9.59 1.41.59.51 0 1.02-.2 1.41-.59l7.78-7.78 2.81-2.81c.8-.78.8-2.07 0-2.86zM5.41 20L4 18.59l7.72-7.72 1.47 1.35L5.41 20z\"/>\n",
       "  </svg>\n",
       "      </button>\n",
       "      \n",
       "  <style>\n",
       "    .colab-df-container {\n",
       "      display:flex;\n",
       "      flex-wrap:wrap;\n",
       "      gap: 12px;\n",
       "    }\n",
       "\n",
       "    .colab-df-convert {\n",
       "      background-color: #E8F0FE;\n",
       "      border: none;\n",
       "      border-radius: 50%;\n",
       "      cursor: pointer;\n",
       "      display: none;\n",
       "      fill: #1967D2;\n",
       "      height: 32px;\n",
       "      padding: 0 0 0 0;\n",
       "      width: 32px;\n",
       "    }\n",
       "\n",
       "    .colab-df-convert:hover {\n",
       "      background-color: #E2EBFA;\n",
       "      box-shadow: 0px 1px 2px rgba(60, 64, 67, 0.3), 0px 1px 3px 1px rgba(60, 64, 67, 0.15);\n",
       "      fill: #174EA6;\n",
       "    }\n",
       "\n",
       "    [theme=dark] .colab-df-convert {\n",
       "      background-color: #3B4455;\n",
       "      fill: #D2E3FC;\n",
       "    }\n",
       "\n",
       "    [theme=dark] .colab-df-convert:hover {\n",
       "      background-color: #434B5C;\n",
       "      box-shadow: 0px 1px 3px 1px rgba(0, 0, 0, 0.15);\n",
       "      filter: drop-shadow(0px 1px 2px rgba(0, 0, 0, 0.3));\n",
       "      fill: #FFFFFF;\n",
       "    }\n",
       "  </style>\n",
       "\n",
       "      <script>\n",
       "        const buttonEl =\n",
       "          document.querySelector('#df-e3e8f323-9ef0-468c-9320-e39a67c8b3e2 button.colab-df-convert');\n",
       "        buttonEl.style.display =\n",
       "          google.colab.kernel.accessAllowed ? 'block' : 'none';\n",
       "\n",
       "        async function convertToInteractive(key) {\n",
       "          const element = document.querySelector('#df-e3e8f323-9ef0-468c-9320-e39a67c8b3e2');\n",
       "          const dataTable =\n",
       "            await google.colab.kernel.invokeFunction('convertToInteractive',\n",
       "                                                     [key], {});\n",
       "          if (!dataTable) return;\n",
       "\n",
       "          const docLinkHtml = 'Like what you see? Visit the ' +\n",
       "            '<a target=\"_blank\" href=https://colab.research.google.com/notebooks/data_table.ipynb>data table notebook</a>'\n",
       "            + ' to learn more about interactive tables.';\n",
       "          element.innerHTML = '';\n",
       "          dataTable['output_type'] = 'display_data';\n",
       "          await google.colab.output.renderOutput(dataTable, element);\n",
       "          const docLink = document.createElement('div');\n",
       "          docLink.innerHTML = docLinkHtml;\n",
       "          element.appendChild(docLink);\n",
       "        }\n",
       "      </script>\n",
       "    </div>\n",
       "  </div>\n",
       "  "
      ],
      "text/plain": [
       "  0        1      2        3                       4        5      6  \\\n",
       "0    content  drive  MyDrive  Brain_MRI_Segmentation  dataset  masks   \n",
       "1    content  drive  MyDrive  Brain_MRI_Segmentation  dataset  masks   \n",
       "2    content  drive  MyDrive  Brain_MRI_Segmentation  dataset  masks   \n",
       "3    content  drive  MyDrive  Brain_MRI_Segmentation  dataset  masks   \n",
       "4    content  drive  MyDrive  Brain_MRI_Segmentation  dataset  masks   \n",
       "\n",
       "                           7  \n",
       "0  103582_pituitary_1634.jpg  \n",
       "1  101724_pituitary_1933.jpg  \n",
       "2  104684_pituitary_1104.jpg  \n",
       "3    112847_pituitary_70.jpg  \n",
       "4   MR026175E_glioma_337.jpg  "
      ]
     },
     "execution_count": 14,
     "metadata": {},
     "output_type": "execute_result"
    }
   ],
   "source": [
    "train_y_df=pd.DataFrame(train_y, columns=['path'])\n",
    "train_y_df = train_y_df.path.str.split(\"/\", expand=True)\n",
    "train_y_df[2]=train_y_df[2].sort_values()\n",
    "train_y_df.head()"
   ]
  },
  {
   "cell_type": "markdown",
   "metadata": {},
   "source": [
    "Here we create a pandas DataFrame object containing the paths to the validation images, splits the paths by '/' using `str.split()`, storing the resulting parts in separate columns, and sorts the column containing the names of the subdirectories in ascending order."
   ]
  },
  {
   "cell_type": "code",
   "execution_count": null,
   "metadata": {
    "colab": {
     "base_uri": "https://localhost:8080/",
     "height": 206
    },
    "id": "IjakjsQeK1wS",
    "outputId": "a085c228-3fe4-4702-f29d-9ab6b581b560"
   },
   "outputs": [
    {
     "data": {
      "text/html": [
       "\n",
       "  <div id=\"df-86b56607-d7b7-4a45-9faf-91bd98757e3a\">\n",
       "    <div class=\"colab-df-container\">\n",
       "      <div>\n",
       "<style scoped>\n",
       "    .dataframe tbody tr th:only-of-type {\n",
       "        vertical-align: middle;\n",
       "    }\n",
       "\n",
       "    .dataframe tbody tr th {\n",
       "        vertical-align: top;\n",
       "    }\n",
       "\n",
       "    .dataframe thead th {\n",
       "        text-align: right;\n",
       "    }\n",
       "</style>\n",
       "<table border=\"1\" class=\"dataframe\">\n",
       "  <thead>\n",
       "    <tr style=\"text-align: right;\">\n",
       "      <th></th>\n",
       "      <th>0</th>\n",
       "      <th>1</th>\n",
       "      <th>2</th>\n",
       "      <th>3</th>\n",
       "      <th>4</th>\n",
       "      <th>5</th>\n",
       "      <th>6</th>\n",
       "      <th>7</th>\n",
       "    </tr>\n",
       "  </thead>\n",
       "  <tbody>\n",
       "    <tr>\n",
       "      <th>0</th>\n",
       "      <td></td>\n",
       "      <td>content</td>\n",
       "      <td>drive</td>\n",
       "      <td>MyDrive</td>\n",
       "      <td>Brain_MRI_Segmentation</td>\n",
       "      <td>dataset</td>\n",
       "      <td>images</td>\n",
       "      <td>112552_meningioma_88.jpg</td>\n",
       "    </tr>\n",
       "    <tr>\n",
       "      <th>1</th>\n",
       "      <td></td>\n",
       "      <td>content</td>\n",
       "      <td>drive</td>\n",
       "      <td>MyDrive</td>\n",
       "      <td>Brain_MRI_Segmentation</td>\n",
       "      <td>dataset</td>\n",
       "      <td>images</td>\n",
       "      <td>102075_glioma_739.jpg</td>\n",
       "    </tr>\n",
       "    <tr>\n",
       "      <th>2</th>\n",
       "      <td></td>\n",
       "      <td>content</td>\n",
       "      <td>drive</td>\n",
       "      <td>MyDrive</td>\n",
       "      <td>Brain_MRI_Segmentation</td>\n",
       "      <td>dataset</td>\n",
       "      <td>images</td>\n",
       "      <td>112649_pituitary_2472.jpg</td>\n",
       "    </tr>\n",
       "    <tr>\n",
       "      <th>3</th>\n",
       "      <td></td>\n",
       "      <td>content</td>\n",
       "      <td>drive</td>\n",
       "      <td>MyDrive</td>\n",
       "      <td>Brain_MRI_Segmentation</td>\n",
       "      <td>dataset</td>\n",
       "      <td>images</td>\n",
       "      <td>97890_pituitary_67.jpg</td>\n",
       "    </tr>\n",
       "    <tr>\n",
       "      <th>4</th>\n",
       "      <td></td>\n",
       "      <td>content</td>\n",
       "      <td>drive</td>\n",
       "      <td>MyDrive</td>\n",
       "      <td>Brain_MRI_Segmentation</td>\n",
       "      <td>dataset</td>\n",
       "      <td>images</td>\n",
       "      <td>97607_meningioma_477.jpg</td>\n",
       "    </tr>\n",
       "  </tbody>\n",
       "</table>\n",
       "</div>\n",
       "      <button class=\"colab-df-convert\" onclick=\"convertToInteractive('df-86b56607-d7b7-4a45-9faf-91bd98757e3a')\"\n",
       "              title=\"Convert this dataframe to an interactive table.\"\n",
       "              style=\"display:none;\">\n",
       "        \n",
       "  <svg xmlns=\"http://www.w3.org/2000/svg\" height=\"24px\"viewBox=\"0 0 24 24\"\n",
       "       width=\"24px\">\n",
       "    <path d=\"M0 0h24v24H0V0z\" fill=\"none\"/>\n",
       "    <path d=\"M18.56 5.44l.94 2.06.94-2.06 2.06-.94-2.06-.94-.94-2.06-.94 2.06-2.06.94zm-11 1L8.5 8.5l.94-2.06 2.06-.94-2.06-.94L8.5 2.5l-.94 2.06-2.06.94zm10 10l.94 2.06.94-2.06 2.06-.94-2.06-.94-.94-2.06-.94 2.06-2.06.94z\"/><path d=\"M17.41 7.96l-1.37-1.37c-.4-.4-.92-.59-1.43-.59-.52 0-1.04.2-1.43.59L10.3 9.45l-7.72 7.72c-.78.78-.78 2.05 0 2.83L4 21.41c.39.39.9.59 1.41.59.51 0 1.02-.2 1.41-.59l7.78-7.78 2.81-2.81c.8-.78.8-2.07 0-2.86zM5.41 20L4 18.59l7.72-7.72 1.47 1.35L5.41 20z\"/>\n",
       "  </svg>\n",
       "      </button>\n",
       "      \n",
       "  <style>\n",
       "    .colab-df-container {\n",
       "      display:flex;\n",
       "      flex-wrap:wrap;\n",
       "      gap: 12px;\n",
       "    }\n",
       "\n",
       "    .colab-df-convert {\n",
       "      background-color: #E8F0FE;\n",
       "      border: none;\n",
       "      border-radius: 50%;\n",
       "      cursor: pointer;\n",
       "      display: none;\n",
       "      fill: #1967D2;\n",
       "      height: 32px;\n",
       "      padding: 0 0 0 0;\n",
       "      width: 32px;\n",
       "    }\n",
       "\n",
       "    .colab-df-convert:hover {\n",
       "      background-color: #E2EBFA;\n",
       "      box-shadow: 0px 1px 2px rgba(60, 64, 67, 0.3), 0px 1px 3px 1px rgba(60, 64, 67, 0.15);\n",
       "      fill: #174EA6;\n",
       "    }\n",
       "\n",
       "    [theme=dark] .colab-df-convert {\n",
       "      background-color: #3B4455;\n",
       "      fill: #D2E3FC;\n",
       "    }\n",
       "\n",
       "    [theme=dark] .colab-df-convert:hover {\n",
       "      background-color: #434B5C;\n",
       "      box-shadow: 0px 1px 3px 1px rgba(0, 0, 0, 0.15);\n",
       "      filter: drop-shadow(0px 1px 2px rgba(0, 0, 0, 0.3));\n",
       "      fill: #FFFFFF;\n",
       "    }\n",
       "  </style>\n",
       "\n",
       "      <script>\n",
       "        const buttonEl =\n",
       "          document.querySelector('#df-86b56607-d7b7-4a45-9faf-91bd98757e3a button.colab-df-convert');\n",
       "        buttonEl.style.display =\n",
       "          google.colab.kernel.accessAllowed ? 'block' : 'none';\n",
       "\n",
       "        async function convertToInteractive(key) {\n",
       "          const element = document.querySelector('#df-86b56607-d7b7-4a45-9faf-91bd98757e3a');\n",
       "          const dataTable =\n",
       "            await google.colab.kernel.invokeFunction('convertToInteractive',\n",
       "                                                     [key], {});\n",
       "          if (!dataTable) return;\n",
       "\n",
       "          const docLinkHtml = 'Like what you see? Visit the ' +\n",
       "            '<a target=\"_blank\" href=https://colab.research.google.com/notebooks/data_table.ipynb>data table notebook</a>'\n",
       "            + ' to learn more about interactive tables.';\n",
       "          element.innerHTML = '';\n",
       "          dataTable['output_type'] = 'display_data';\n",
       "          await google.colab.output.renderOutput(dataTable, element);\n",
       "          const docLink = document.createElement('div');\n",
       "          docLink.innerHTML = docLinkHtml;\n",
       "          element.appendChild(docLink);\n",
       "        }\n",
       "      </script>\n",
       "    </div>\n",
       "  </div>\n",
       "  "
      ],
      "text/plain": [
       "  0        1      2        3                       4        5       6  \\\n",
       "0    content  drive  MyDrive  Brain_MRI_Segmentation  dataset  images   \n",
       "1    content  drive  MyDrive  Brain_MRI_Segmentation  dataset  images   \n",
       "2    content  drive  MyDrive  Brain_MRI_Segmentation  dataset  images   \n",
       "3    content  drive  MyDrive  Brain_MRI_Segmentation  dataset  images   \n",
       "4    content  drive  MyDrive  Brain_MRI_Segmentation  dataset  images   \n",
       "\n",
       "                           7  \n",
       "0   112552_meningioma_88.jpg  \n",
       "1      102075_glioma_739.jpg  \n",
       "2  112649_pituitary_2472.jpg  \n",
       "3     97890_pituitary_67.jpg  \n",
       "4   97607_meningioma_477.jpg  "
      ]
     },
     "execution_count": 15,
     "metadata": {},
     "output_type": "execute_result"
    }
   ],
   "source": [
    "valid_x_df=pd.DataFrame(valid_x, columns=['path'])\n",
    "valid_x_df = valid_x_df.path.str.split(\"/\", expand=True)\n",
    "valid_x_df[2]=valid_x_df[2].sort_values()\n",
    "valid_x_df.head()"
   ]
  },
  {
   "cell_type": "markdown",
   "metadata": {},
   "source": [
    "Here we create a pandas DataFrame object containing the paths to the validation masks, splits the paths by '/' using `str.split()`, storing the resulting parts in separate columns, and sorts the column containing the names of the subdirectories in ascending order."
   ]
  },
  {
   "cell_type": "code",
   "execution_count": null,
   "metadata": {
    "colab": {
     "base_uri": "https://localhost:8080/",
     "height": 206
    },
    "id": "dK9qhk4OLUVD",
    "outputId": "21a47388-c3e5-4c4f-c2cc-88cc9c54e3fa"
   },
   "outputs": [
    {
     "data": {
      "text/html": [
       "\n",
       "  <div id=\"df-4f61734a-2464-469b-8795-8439f59d9a53\">\n",
       "    <div class=\"colab-df-container\">\n",
       "      <div>\n",
       "<style scoped>\n",
       "    .dataframe tbody tr th:only-of-type {\n",
       "        vertical-align: middle;\n",
       "    }\n",
       "\n",
       "    .dataframe tbody tr th {\n",
       "        vertical-align: top;\n",
       "    }\n",
       "\n",
       "    .dataframe thead th {\n",
       "        text-align: right;\n",
       "    }\n",
       "</style>\n",
       "<table border=\"1\" class=\"dataframe\">\n",
       "  <thead>\n",
       "    <tr style=\"text-align: right;\">\n",
       "      <th></th>\n",
       "      <th>0</th>\n",
       "      <th>1</th>\n",
       "      <th>2</th>\n",
       "      <th>3</th>\n",
       "      <th>4</th>\n",
       "      <th>5</th>\n",
       "      <th>6</th>\n",
       "      <th>7</th>\n",
       "    </tr>\n",
       "  </thead>\n",
       "  <tbody>\n",
       "    <tr>\n",
       "      <th>0</th>\n",
       "      <td></td>\n",
       "      <td>content</td>\n",
       "      <td>drive</td>\n",
       "      <td>MyDrive</td>\n",
       "      <td>Brain_MRI_Segmentation</td>\n",
       "      <td>dataset</td>\n",
       "      <td>masks</td>\n",
       "      <td>112552_meningioma_88.jpg</td>\n",
       "    </tr>\n",
       "    <tr>\n",
       "      <th>1</th>\n",
       "      <td></td>\n",
       "      <td>content</td>\n",
       "      <td>drive</td>\n",
       "      <td>MyDrive</td>\n",
       "      <td>Brain_MRI_Segmentation</td>\n",
       "      <td>dataset</td>\n",
       "      <td>masks</td>\n",
       "      <td>102075_glioma_739.jpg</td>\n",
       "    </tr>\n",
       "    <tr>\n",
       "      <th>2</th>\n",
       "      <td></td>\n",
       "      <td>content</td>\n",
       "      <td>drive</td>\n",
       "      <td>MyDrive</td>\n",
       "      <td>Brain_MRI_Segmentation</td>\n",
       "      <td>dataset</td>\n",
       "      <td>masks</td>\n",
       "      <td>112649_pituitary_2472.jpg</td>\n",
       "    </tr>\n",
       "    <tr>\n",
       "      <th>3</th>\n",
       "      <td></td>\n",
       "      <td>content</td>\n",
       "      <td>drive</td>\n",
       "      <td>MyDrive</td>\n",
       "      <td>Brain_MRI_Segmentation</td>\n",
       "      <td>dataset</td>\n",
       "      <td>masks</td>\n",
       "      <td>97890_pituitary_67.jpg</td>\n",
       "    </tr>\n",
       "    <tr>\n",
       "      <th>4</th>\n",
       "      <td></td>\n",
       "      <td>content</td>\n",
       "      <td>drive</td>\n",
       "      <td>MyDrive</td>\n",
       "      <td>Brain_MRI_Segmentation</td>\n",
       "      <td>dataset</td>\n",
       "      <td>masks</td>\n",
       "      <td>97607_meningioma_477.jpg</td>\n",
       "    </tr>\n",
       "  </tbody>\n",
       "</table>\n",
       "</div>\n",
       "      <button class=\"colab-df-convert\" onclick=\"convertToInteractive('df-4f61734a-2464-469b-8795-8439f59d9a53')\"\n",
       "              title=\"Convert this dataframe to an interactive table.\"\n",
       "              style=\"display:none;\">\n",
       "        \n",
       "  <svg xmlns=\"http://www.w3.org/2000/svg\" height=\"24px\"viewBox=\"0 0 24 24\"\n",
       "       width=\"24px\">\n",
       "    <path d=\"M0 0h24v24H0V0z\" fill=\"none\"/>\n",
       "    <path d=\"M18.56 5.44l.94 2.06.94-2.06 2.06-.94-2.06-.94-.94-2.06-.94 2.06-2.06.94zm-11 1L8.5 8.5l.94-2.06 2.06-.94-2.06-.94L8.5 2.5l-.94 2.06-2.06.94zm10 10l.94 2.06.94-2.06 2.06-.94-2.06-.94-.94-2.06-.94 2.06-2.06.94z\"/><path d=\"M17.41 7.96l-1.37-1.37c-.4-.4-.92-.59-1.43-.59-.52 0-1.04.2-1.43.59L10.3 9.45l-7.72 7.72c-.78.78-.78 2.05 0 2.83L4 21.41c.39.39.9.59 1.41.59.51 0 1.02-.2 1.41-.59l7.78-7.78 2.81-2.81c.8-.78.8-2.07 0-2.86zM5.41 20L4 18.59l7.72-7.72 1.47 1.35L5.41 20z\"/>\n",
       "  </svg>\n",
       "      </button>\n",
       "      \n",
       "  <style>\n",
       "    .colab-df-container {\n",
       "      display:flex;\n",
       "      flex-wrap:wrap;\n",
       "      gap: 12px;\n",
       "    }\n",
       "\n",
       "    .colab-df-convert {\n",
       "      background-color: #E8F0FE;\n",
       "      border: none;\n",
       "      border-radius: 50%;\n",
       "      cursor: pointer;\n",
       "      display: none;\n",
       "      fill: #1967D2;\n",
       "      height: 32px;\n",
       "      padding: 0 0 0 0;\n",
       "      width: 32px;\n",
       "    }\n",
       "\n",
       "    .colab-df-convert:hover {\n",
       "      background-color: #E2EBFA;\n",
       "      box-shadow: 0px 1px 2px rgba(60, 64, 67, 0.3), 0px 1px 3px 1px rgba(60, 64, 67, 0.15);\n",
       "      fill: #174EA6;\n",
       "    }\n",
       "\n",
       "    [theme=dark] .colab-df-convert {\n",
       "      background-color: #3B4455;\n",
       "      fill: #D2E3FC;\n",
       "    }\n",
       "\n",
       "    [theme=dark] .colab-df-convert:hover {\n",
       "      background-color: #434B5C;\n",
       "      box-shadow: 0px 1px 3px 1px rgba(0, 0, 0, 0.15);\n",
       "      filter: drop-shadow(0px 1px 2px rgba(0, 0, 0, 0.3));\n",
       "      fill: #FFFFFF;\n",
       "    }\n",
       "  </style>\n",
       "\n",
       "      <script>\n",
       "        const buttonEl =\n",
       "          document.querySelector('#df-4f61734a-2464-469b-8795-8439f59d9a53 button.colab-df-convert');\n",
       "        buttonEl.style.display =\n",
       "          google.colab.kernel.accessAllowed ? 'block' : 'none';\n",
       "\n",
       "        async function convertToInteractive(key) {\n",
       "          const element = document.querySelector('#df-4f61734a-2464-469b-8795-8439f59d9a53');\n",
       "          const dataTable =\n",
       "            await google.colab.kernel.invokeFunction('convertToInteractive',\n",
       "                                                     [key], {});\n",
       "          if (!dataTable) return;\n",
       "\n",
       "          const docLinkHtml = 'Like what you see? Visit the ' +\n",
       "            '<a target=\"_blank\" href=https://colab.research.google.com/notebooks/data_table.ipynb>data table notebook</a>'\n",
       "            + ' to learn more about interactive tables.';\n",
       "          element.innerHTML = '';\n",
       "          dataTable['output_type'] = 'display_data';\n",
       "          await google.colab.output.renderOutput(dataTable, element);\n",
       "          const docLink = document.createElement('div');\n",
       "          docLink.innerHTML = docLinkHtml;\n",
       "          element.appendChild(docLink);\n",
       "        }\n",
       "      </script>\n",
       "    </div>\n",
       "  </div>\n",
       "  "
      ],
      "text/plain": [
       "  0        1      2        3                       4        5      6  \\\n",
       "0    content  drive  MyDrive  Brain_MRI_Segmentation  dataset  masks   \n",
       "1    content  drive  MyDrive  Brain_MRI_Segmentation  dataset  masks   \n",
       "2    content  drive  MyDrive  Brain_MRI_Segmentation  dataset  masks   \n",
       "3    content  drive  MyDrive  Brain_MRI_Segmentation  dataset  masks   \n",
       "4    content  drive  MyDrive  Brain_MRI_Segmentation  dataset  masks   \n",
       "\n",
       "                           7  \n",
       "0   112552_meningioma_88.jpg  \n",
       "1      102075_glioma_739.jpg  \n",
       "2  112649_pituitary_2472.jpg  \n",
       "3     97890_pituitary_67.jpg  \n",
       "4   97607_meningioma_477.jpg  "
      ]
     },
     "execution_count": 16,
     "metadata": {},
     "output_type": "execute_result"
    }
   ],
   "source": [
    "valid_y_df=pd.DataFrame(valid_y, columns=['path'])\n",
    "valid_y_df = valid_y_df.path.str.split(\"/\", expand=True)\n",
    "valid_y_df[2]=valid_y_df[2].sort_values()\n",
    "valid_y_df.head()"
   ]
  },
  {
   "cell_type": "markdown",
   "metadata": {},
   "source": [
    "## Data Augmentation\n",
    "\n",
    "\n",
    "Here we need to initialize a random seed and imports the `ImageDataGenerator` class from the Keras library to define `img_data_gen_args` and `mask_data_gen_args` which specify the data augmentation parameters for images and masks, respectively. Two `ImageDataGenerator` objects are then created using these dictionaries. These generators are used to flow data from the dataframes of training and validation images and masks into the model. The `flow_from_dataframe()` function creates a generator that yields batches of augmented images and masks during training and validation. The `color_mode` parameter specifies the color channel format of the images and masks, and the `target_size` parameter defines the desired size of the images and masks after augmentation."
   ]
  },
  {
   "cell_type": "code",
   "execution_count": null,
   "metadata": {
    "colab": {
     "base_uri": "https://localhost:8080/"
    },
    "id": "hD6xrtYZ5Ypc",
    "outputId": "bb744ab1-7b0c-416b-9ecf-bb0f35695ec8"
   },
   "outputs": [
    {
     "name": "stdout",
     "output_type": "stream",
     "text": [
      "Found 2605 validated image filenames.\n",
      "Found 2605 validated image filenames.\n",
      "Found 306 validated image filenames.\n",
      "Found 306 validated image filenames.\n"
     ]
    }
   ],
   "source": [
    "seed=42\n",
    "from keras.preprocessing.image import ImageDataGenerator\n",
    "\n",
    "img_data_gen_args = dict(rotation_range=30,\n",
    "                     width_shift_range=0.1,\n",
    "                     height_shift_range=0.1,\n",
    "                     shear_range=0.2,\n",
    "                     zoom_range=0.1,\n",
    "                     brightness_range=[0.1,1.2],\n",
    "                     horizontal_flip=True,\n",
    "                     vertical_flip=True,\n",
    "                     fill_mode='reflect',\n",
    "                     rescale=1/255.) \n",
    "\n",
    "mask_data_gen_args = dict(rotation_range=30,\n",
    "                     width_shift_range=0.1,\n",
    "                     height_shift_range=0.1,\n",
    "                     shear_range=0.2,\n",
    "                     zoom_range=0.1,\n",
    "                     brightness_range=[0.1,1.2],\n",
    "                     horizontal_flip=True,\n",
    "                     vertical_flip=True,\n",
    "                     fill_mode='reflect',\n",
    "                     preprocessing_function = lambda x: np.where(x>0, 1, 0)) \n",
    "image_data_generator = ImageDataGenerator(**img_data_gen_args)\n",
    "# image_data_generator.fit(X_train, augment=True, seed=seed)\n",
    "mask_data_generator = ImageDataGenerator(**mask_data_gen_args)\n",
    "# mask_data_generator.fit(Y_train, augment=True, seed=seed)\n",
    "\n",
    "image_generator = image_data_generator.flow_from_dataframe(dataframe=train_x_df, x_col=7, directory=image_path, class_mode=None, seed=seed,color_mode=\"rgb\", batch_size=batch_size, target_size=(IMG_WIDTH,IMG_HEIGHT))\n",
    "mask_generator = mask_data_generator.flow_from_dataframe(dataframe=train_y_df, x_col=7, directory=mask_path, class_mode=None, seed=seed,color_mode=\"grayscale\", batch_size=batch_size, target_size=(IMG_WIDTH,IMG_HEIGHT))\n",
    "\n",
    "valid_img_generator = image_data_generator.flow_from_dataframe(dataframe=valid_x_df, x_col=7, directory=image_path, class_mode=None, seed=seed,color_mode=\"rgb\", batch_size=batch_size, target_size=(IMG_WIDTH,IMG_HEIGHT))\n",
    "valid_mask_generator = mask_data_generator.flow_from_dataframe(dataframe=valid_y_df, x_col=7, directory=mask_path, class_mode=None, seed=seed,color_mode=\"grayscale\", batch_size=batch_size, target_size=(IMG_WIDTH,IMG_HEIGHT))"
   ]
  },
  {
   "cell_type": "code",
   "execution_count": null,
   "metadata": {
    "colab": {
     "base_uri": "https://localhost:8080/"
    },
    "id": "-atQqJTcD-Bf",
    "outputId": "a20fba04-7fd4-44a1-f64c-2d35bfe7f443"
   },
   "outputs": [
    {
     "name": "stdout",
     "output_type": "stream",
     "text": [
      "Train: 261\n",
      "Valid: 31\n"
     ]
    }
   ],
   "source": [
    "# Sanity check\n",
    "print(f\"Train: {len(image_generator)}\")\n",
    "print(f\"Valid: {len(valid_img_generator)}\")"
   ]
  },
  {
   "cell_type": "code",
   "execution_count": null,
   "metadata": {
    "colab": {
     "base_uri": "https://localhost:8080/"
    },
    "id": "I1sOUKZjHPAR",
    "outputId": "46d6ec3f-08b3-406a-ecfa-cbc33118dc7e"
   },
   "outputs": [
    {
     "data": {
      "text/plain": [
       "((128, 128, 3), (128, 128, 1))"
      ]
     },
     "execution_count": 20,
     "metadata": {},
     "output_type": "execute_result"
    }
   ],
   "source": [
    "# check image & mask dimensions\n",
    "image_generator[1][0].shape, mask_generator[1][0].shape"
   ]
  },
  {
   "cell_type": "code",
   "execution_count": null,
   "metadata": {
    "colab": {
     "base_uri": "https://localhost:8080/"
    },
    "id": "TjvaLvRiMkk3",
    "outputId": "7a67de09-7aa5-4f7c-f852-4e741d5d4236"
   },
   "outputs": [
    {
     "data": {
      "text/plain": [
       "((128, 128, 3), (128, 128, 1))"
      ]
     },
     "execution_count": 21,
     "metadata": {},
     "output_type": "execute_result"
    }
   ],
   "source": [
    "valid_img_generator[1][0].shape, valid_mask_generator[1][0].shape"
   ]
  },
  {
   "cell_type": "code",
   "execution_count": null,
   "metadata": {
    "colab": {
     "base_uri": "https://localhost:8080/",
     "height": 285
    },
    "id": "e01tPqYuHKBF",
    "outputId": "53fff275-9e5f-4795-eef6-6be3c7c6552e"
   },
   "outputs": [
    {
     "data": {
      "text/plain": [
       "<matplotlib.image.AxesImage at 0x7f685f199df0>"
      ]
     },
     "execution_count": 22,
     "metadata": {},
     "output_type": "execute_result"
    },
    {
     "data": {
      "image/png": "[encoded data removed]",
      "text/plain": [
       "<Figure size 432x288 with 1 Axes>"
      ]
     },
     "metadata": {
      "needs_background": "light"
     },
     "output_type": "display_data"
    }
   ],
   "source": [
    "# sanity check\n",
    "# np.random.seed(42)\n",
    "i=np.random.randint(0, len(image_generator) - 1)\n",
    "j=np.random.randint(0, batch_size - 1)\n",
    "plt.imshow(image_generator[i][j])\n",
    "plt.imshow(mask_generator[i][j], alpha=0.2)"
   ]
  },
  {
   "cell_type": "markdown",
   "metadata": {},
   "source": [
    "Here we define a custom generator function `my_image_mask_generator()` that takes `image_generator` and `mask_generator` as input. The `zip()` function is used to combine the images and masks from the generators into pairs. The generator then yields these pairs of augmented images and masks during training."
   ]
  },
  {
   "cell_type": "code",
   "execution_count": null,
   "metadata": {
    "id": "EMXOwZadD-05"
   },
   "outputs": [],
   "source": [
    "def my_image_mask_generator(image_generator, mask_generator):\n",
    "    train_generator = zip(image_generator, mask_generator)\n",
    "    for (img, mask) in train_generator:\n",
    "        yield (img, mask)"
   ]
  },
  {
   "cell_type": "markdown",
   "metadata": {},
   "source": [
    "The code below initializes the training and validation datasets using the custom generator function `my_image_mask_generator()`. The `train_dataset` is created by calling `my_image_mask_generator()` with the `image_generator` and `mask_generator`, while valid_dataset is created by calling `my_image_mask_generator()` with `valid_img_generator` and `valid_mask_generator`. These generators yield pairs of augmented images and masks during training and validation."
   ]
  },
  {
   "cell_type": "code",
   "execution_count": null,
   "metadata": {
    "id": "nvFy0jNdEBpw"
   },
   "outputs": [],
   "source": [
    "train_dataset = my_image_mask_generator(image_generator, mask_generator)\n",
    "valid_dataset = my_image_mask_generator(valid_img_generator, valid_mask_generator)"
   ]
  },
  {
   "cell_type": "markdown",
   "metadata": {},
   "source": [
    "We need to calculate the number of batches in the training and validation datasets using `steps_per_epoch` and `val_steps` variables, respectively. `steps_per_epoch` is calculated by multiplying the length of `train_x` by 3 and dividing the result by batch_size. Similarly, `val_steps` is calculated by multiplying the length of `valid_x` by 3 and dividing the result by `batch_size`. These variables are used to specify the number of training and validation steps during model training."
   ]
  },
  {
   "cell_type": "code",
   "execution_count": null,
   "metadata": {
    "id": "CQyQCiEYEE49"
   },
   "outputs": [],
   "source": [
    "steps_per_epoch = 3*(len(train_x))//batch_size\n",
    "val_steps = 3*(len(valid_x))//batch_size"
   ]
  },
  {
   "cell_type": "markdown",
   "metadata": {},
   "source": [
    "## Evaluation Metrics\n",
    "   **- Dice Coefficient (F1 Score)**\\\n",
    "   **- Intersection-Over-Union (Jaccard Index)**"
   ]
  },
  {
   "cell_type": "markdown",
   "metadata": {},
   "source": [
    "This function defines two functions for calculating the Dice coefficient and loss, respectively. The `dice_coef()` function calculates the Dice coefficient between the true and predicted masks. The function first flattens the input masks using `tf.keras.layers.Flatten()`, computes the intersection between the true and predicted masks using element-wise multiplication and `tf.reduce_sum()`, and returns the Dice coefficient using the formula `(2. * intersection + smooth) / (tf.reduce_sum(y_true) + tf.reduce_sum(y_pred) + smooth)`, where `smooth` is a small value added to the denominator to avoid division by zero. The `dice_loss()` function calculates the dice loss by subtracting the Dice coefficient from 1.0."
   ]
  },
  {
   "cell_type": "code",
   "execution_count": null,
   "metadata": {
    "id": "5wqgTaZ1EG8Z"
   },
   "outputs": [],
   "source": [
    "smooth = 1e-15\n",
    "def dice_coef(y_true, y_pred):\n",
    "    y_true = tf.keras.layers.Flatten()(y_true)\n",
    "    y_pred = tf.keras.layers.Flatten()(y_pred)\n",
    "    intersection = tf.reduce_sum(y_true * y_pred)\n",
    "    return (2. * intersection + smooth) / (tf.reduce_sum(y_true) + tf.reduce_sum(y_pred) + smooth)\n",
    "\n",
    "def dice_loss(y_true, y_pred):\n",
    "    return 1.0 - dice_coef(y_true, y_pred)"
   ]
  },
  {
   "cell_type": "markdown",
   "metadata": {},
   "source": [
    "## Modeling"
   ]
  },
  {
   "cell_type": "markdown",
   "metadata": {},
   "source": [
    "In this project, we will use a convolutional neural network that was developed for biomedical image segmentation at the Computer Science Department of the University of Freiburg called **Unet.**"
   ]
  },
  {
   "cell_type": "markdown",
   "metadata": {},
   "source": [
    "**U-Net** is an architecture for semantic segmentation. It consists of a contracting path and an expansive path. The contracting path follows the typical architecture of a convolutional network."
   ]
  },
  {
   "cell_type": "markdown",
   "metadata": {},
   "source": [
    " \n",
    "<img src=\"https://lmb.informatik.uni-freiburg.de/people/ronneber/u-net/u-net-architecture.png\"\n",
    "     align=\"middle\"\n",
    "     width=1000 />"
   ]
  },
  {
   "cell_type": "markdown",
   "metadata": {},
   "source": [
    "## Convolutional Neural Networks"
   ]
  },
  {
   "cell_type": "markdown",
   "metadata": {},
   "source": [
    "Convolutional neural networks are a deep learning algorithm similar to other neural network structures consisting of an input layer, an output layer, and one or many hidden layers. CNNs are commonly used in Computer vision for image classification, image segmentation and medical image processing. The image below shows the structure of a CNN model."
   ]
  },
  {
   "cell_type": "markdown",
   "metadata": {},
   "source": [
    "\n",
    "<img src=https://www.researchgate.net/publication/336805909/figure/fig2/AS:817888827027462@1572011300841/The-proposed-CNN-model-architecture.ppm align=\"middle\" \n",
    "     width=\"800\" />"
   ]
  },
  {
   "cell_type": "markdown",
   "metadata": {},
   "source": [
    "## Kernels\n",
    "**Kernels** can refer to a central component of an operating system that manages system resources, a function used in machine learning to transform data into a more useful representation, or a small matrix used in image processing to apply operations on an image.\n",
    "\n",
    "\n",
    "**Kernels:** kernels are the size of the windows that are slided on the input images. We Implement convolutions on the pixels in the underlying windows. This helps to learn local features of the images. However, we do not need to implement convolutions on all the pixels on the image and we can jump a few pixels by using the hyperparameter Stride. Stride defines the number of pixels we jump each time we move the window. For example in the gif below, the kernel size is 3x3 and the stride is 1."
   ]
  },
  {
   "cell_type": "markdown",
   "metadata": {},
   "source": [
    "<img src=\"https://miro.medium.com/v2/resize:fit:1052/0*jLoqqFsO-52KHTn9.gif\" \n",
    "     align=\"middle\" \n",
    "     width=\"300\" />"
   ]
  },
  {
   "cell_type": "markdown",
   "metadata": {},
   "source": [
    "## Pooling\n",
    "**Pooling** is a technique in deep learning used to reduce the spatial dimensions of feature maps, thereby reducing the computational complexity of subsequent layers. It is a form of down-sampling that reduces the size of the input by summarizing nearby features.\n",
    "\n",
    "**Max pooling** is a specific type of pooling operation where the maximum value in each pooling window is selected as the output value. The pooling window is typically a square or rectangular region of the input feature map.\n",
    "\n",
    "Max pooling is commonly used in convolutional neural networks (CNNs) for computer vision tasks such as image classification and object detection. It helps to extract the most important features from the input while reducing the spatial dimensions of the feature map.v"
   ]
  },
  {
   "cell_type": "markdown",
   "metadata": {},
   "source": [
    "\n",
    "<img src=\"https://miro.medium.com/v2/resize:fit:700/1*FHPUtGrVP6fRmVHDn3A7Rw.png\" \n",
    "     align=\"middle\" \n",
    "     width=\"600\" />"
   ]
  },
  {
   "cell_type": "markdown",
   "metadata": {},
   "source": [
    "Convolutional encoder-decoder architecture combines the principles of both convolutional neural networks (CNNs) and encoder-decoder networks. It can be used for both feature extraction and segmentation tasks. The encoder extracts high-level features from the input image, while the decoder maps those features back to the original image size and produces a segmentation mask. It has been shown to be effective for a wide range of tasks such as image segmentation, image denoising, and image super-resolution.\n",
    "\n",
    "\n",
    "And here we will now combine the sturcture of a autoencoder and a **U-Net** is an encoder-decoder segmentation network with skip connections as our model."
   ]
  },
  {
   "cell_type": "markdown",
   "metadata": {},
   "source": [
    "<img src=\"https://assets-global.website-files.com/5d7b77b063a9066d83e1209c/6114d9b889ba55c2ce882f8a_tVEj_AI9vFj89ZW6G21JHR2r6ZrZ18cvB6lt24-KeGmp9HozQwWACebWAbBJF4hVMQKxh_cMXkmtO2yJrfO3bkp-WNrRa-nTFBM8NPqI0_A3uz6V7hg_-MDy67NgTrzqcg6m-r93.png\"\n",
    "     align=\"middle\"\n",
    "     width= 800/>"
   ]
  },
  {
   "cell_type": "markdown",
   "metadata": {},
   "source": [
    "The below defines a U-Net architecture for image segmentation. The architecture consists of encoder and decoder blocks, which are defined using the `encoder_block()` and `decoder_block()` functions, respectively. The conv_block() function defines a convolutional block consisting of two convolutional layers with ReLU activation and dropout. The `build_unet()` function defines the entire U-Net architecture using input dimensions of `IMG_WIDTH`, `IMG_HEIGHT`, and `IMG_CHANNELS`. The model includes an output layer with a single sigmoid activation unit. The summary of the model is printed using `model.summary()`."
   ]
  },
  {
   "cell_type": "code",
   "execution_count": null,
   "metadata": {
    "colab": {
     "base_uri": "https://localhost:8080/"
    },
    "id": "S6ojwEgyV69g",
    "outputId": "544c614f-ff4e-4fab-e776-dd3906062a52"
   },
   "outputs": [
    {
     "name": "stdout",
     "output_type": "stream",
     "text": [
      "Model: \"UNET\"\n",
      "__________________________________________________________________________________________________\n",
      " Layer (type)                   Output Shape         Param #     Connected to                     \n",
      "==================================================================================================\n",
      " input_1 (InputLayer)           [(None, 128, 128, 3  0           []                               \n",
      "                                )]                                                                \n",
      "                                                                                                  \n",
      " conv2d (Conv2D)                (None, 128, 128, 48  1344        ['input_1[0][0]']                \n",
      "                                )                                                                 \n",
      "                                                                                                  \n",
      " conv2d_1 (Conv2D)              (None, 128, 128, 48  20784       ['conv2d[0][0]']                 \n",
      "                                )                                                                 \n",
      "                                                                                                  \n",
      " max_pooling2d (MaxPooling2D)   (None, 64, 64, 48)   0           ['conv2d_1[0][0]']               \n",
      "                                                                                                  \n",
      " dropout (Dropout)              (None, 64, 64, 48)   0           ['max_pooling2d[0][0]']          \n",
      "                                                                                                  \n",
      " conv2d_2 (Conv2D)              (None, 64, 64, 112)  48496       ['dropout[0][0]']                \n",
      "                                                                                                  \n",
      " conv2d_3 (Conv2D)              (None, 64, 64, 112)  113008      ['conv2d_2[0][0]']               \n",
      "                                                                                                  \n",
      " max_pooling2d_1 (MaxPooling2D)  (None, 32, 32, 112)  0          ['conv2d_3[0][0]']               \n",
      "                                                                                                  \n",
      " dropout_1 (Dropout)            (None, 32, 32, 112)  0           ['max_pooling2d_1[0][0]']        \n",
      "                                                                                                  \n",
      " conv2d_4 (Conv2D)              (None, 32, 32, 240)  242160      ['dropout_1[0][0]']              \n",
      "                                                                                                  \n",
      " conv2d_5 (Conv2D)              (None, 32, 32, 240)  518640      ['conv2d_4[0][0]']               \n",
      "                                                                                                  \n",
      " max_pooling2d_2 (MaxPooling2D)  (None, 16, 16, 240)  0          ['conv2d_5[0][0]']               \n",
      "                                                                                                  \n",
      " dropout_2 (Dropout)            (None, 16, 16, 240)  0           ['max_pooling2d_2[0][0]']        \n",
      "                                                                                                  \n",
      " conv2d_6 (Conv2D)              (None, 16, 16, 496)  1071856     ['dropout_2[0][0]']              \n",
      "                                                                                                  \n",
      " conv2d_7 (Conv2D)              (None, 16, 16, 496)  2214640     ['conv2d_6[0][0]']               \n",
      "                                                                                                  \n",
      " max_pooling2d_3 (MaxPooling2D)  (None, 8, 8, 496)   0           ['conv2d_7[0][0]']               \n",
      "                                                                                                  \n",
      " dropout_3 (Dropout)            (None, 8, 8, 496)    0           ['max_pooling2d_3[0][0]']        \n",
      "                                                                                                  \n",
      " conv2d_8 (Conv2D)              (None, 8, 8, 1008)   4500720     ['dropout_3[0][0]']              \n",
      "                                                                                                  \n",
      " conv2d_9 (Conv2D)              (None, 8, 8, 1008)   9145584     ['conv2d_8[0][0]']               \n",
      "                                                                                                  \n",
      " conv2d_transpose (Conv2DTransp  (None, 16, 16, 496)  2000368    ['conv2d_9[0][0]']               \n",
      " ose)                                                                                             \n",
      "                                                                                                  \n",
      " concatenate (Concatenate)      (None, 16, 16, 992)  0           ['conv2d_transpose[0][0]',       \n",
      "                                                                  'conv2d_7[0][0]']               \n",
      "                                                                                                  \n",
      " dropout_4 (Dropout)            (None, 16, 16, 992)  0           ['concatenate[0][0]']            \n",
      "                                                                                                  \n",
      " conv2d_10 (Conv2D)             (None, 16, 16, 496)  4428784     ['dropout_4[0][0]']              \n",
      "                                                                                                  \n",
      " conv2d_11 (Conv2D)             (None, 16, 16, 496)  2214640     ['conv2d_10[0][0]']              \n",
      "                                                                                                  \n",
      " conv2d_transpose_1 (Conv2DTran  (None, 32, 32, 140)  277900     ['conv2d_11[0][0]']              \n",
      " spose)                                                                                           \n",
      "                                                                                                  \n",
      " concatenate_1 (Concatenate)    (None, 32, 32, 380)  0           ['conv2d_transpose_1[0][0]',     \n",
      "                                                                  'conv2d_5[0][0]']               \n",
      "                                                                                                  \n",
      " dropout_5 (Dropout)            (None, 32, 32, 380)  0           ['concatenate_1[0][0]']          \n",
      "                                                                                                  \n",
      " conv2d_12 (Conv2D)             (None, 32, 32, 140)  478940      ['dropout_5[0][0]']              \n",
      "                                                                                                  \n",
      " conv2d_13 (Conv2D)             (None, 32, 32, 140)  176540      ['conv2d_12[0][0]']              \n",
      "                                                                                                  \n",
      " conv2d_transpose_2 (Conv2DTran  (None, 64, 64, 112)  62832      ['conv2d_13[0][0]']              \n",
      " spose)                                                                                           \n",
      "                                                                                                  \n",
      " concatenate_2 (Concatenate)    (None, 64, 64, 224)  0           ['conv2d_transpose_2[0][0]',     \n",
      "                                                                  'conv2d_3[0][0]']               \n",
      "                                                                                                  \n",
      " dropout_6 (Dropout)            (None, 64, 64, 224)  0           ['concatenate_2[0][0]']          \n",
      "                                                                                                  \n",
      " conv2d_14 (Conv2D)             (None, 64, 64, 112)  225904      ['dropout_6[0][0]']              \n",
      "                                                                                                  \n",
      " conv2d_15 (Conv2D)             (None, 64, 64, 112)  113008      ['conv2d_14[0][0]']              \n",
      "                                                                                                  \n",
      " conv2d_transpose_3 (Conv2DTran  (None, 128, 128, 48  21552      ['conv2d_15[0][0]']              \n",
      " spose)                         )                                                                 \n",
      "                                                                                                  \n",
      " concatenate_3 (Concatenate)    (None, 128, 128, 96  0           ['conv2d_transpose_3[0][0]',     \n",
      "                                )                                 'conv2d_1[0][0]']               \n",
      "                                                                                                  \n",
      " dropout_7 (Dropout)            (None, 128, 128, 96  0           ['concatenate_3[0][0]']          \n",
      "                                )                                                                 \n",
      "                                                                                                  \n",
      " conv2d_16 (Conv2D)             (None, 128, 128, 48  41520       ['dropout_7[0][0]']              \n",
      "                                )                                                                 \n",
      "                                                                                                  \n",
      " conv2d_17 (Conv2D)             (None, 128, 128, 48  20784       ['conv2d_16[0][0]']              \n",
      "                                )                                                                 \n",
      "                                                                                                  \n",
      " conv2d_18 (Conv2D)             (None, 128, 128, 1)  49          ['conv2d_17[0][0]']              \n",
      "                                                                                                  \n",
      "==================================================================================================\n",
      "Total params: 27,940,053\n",
      "Trainable params: 27,940,053\n",
      "Non-trainable params: 0\n",
      "__________________________________________________________________________________________________\n"
     ]
    }
   ],
   "source": [
    "def conv_block(inputs, num_filters):\n",
    "    x = Conv2D(num_filters, 3, activation = \"relu\", kernel_initializer='he_normal', padding=\"same\")(inputs)\n",
    "    x = Conv2D(num_filters, 3, activation = \"relu\", kernel_initializer='he_normal', padding=\"same\")(x)\n",
    "\n",
    "    return x\n",
    "\n",
    "def encoder_block(inputs, num_filters):\n",
    "    x = conv_block(inputs, num_filters)\n",
    "    p = MaxPool2D((2, 2))(x)\n",
    "    p = Dropout(0.4)(p)\n",
    "    return x, p\n",
    "\n",
    "def decoder_block(inputs, skip_features, num_filters):\n",
    "    x = Conv2DTranspose(num_filters, 2, strides=2, padding=\"same\")(inputs)\n",
    "    x = Concatenate()([x, skip_features])\n",
    "    x = Dropout(0.4)(x)\n",
    "    x = conv_block(x, num_filters)\n",
    "    return x\n",
    "\n",
    "def build_unet(input_shape):\n",
    "    inputs = Input(input_shape)\n",
    "\n",
    "    s1, p1 = encoder_block(inputs, 48)\n",
    "    s2, p2 = encoder_block(p1, 112)\n",
    "    s3, p3 = encoder_block(p2, 240)\n",
    "    s4, p4 = encoder_block(p3, 496)\n",
    "\n",
    "    b1 = conv_block(p4, 1008)\n",
    "\n",
    "    d1 = decoder_block(b1, s4, 496)\n",
    "    d2 = decoder_block(d1, s3, 140)\n",
    "    d3 = decoder_block(d2, s2, 112)\n",
    "    d4 = decoder_block(d3, s1, 48)\n",
    "\n",
    "    outputs = Conv2D(1, 1, padding=\"same\", activation=\"sigmoid\")(d4)\n",
    "\n",
    "    model = Model(inputs, outputs, name=\"UNET\")\n",
    "    return model\n",
    "\n",
    "model = build_unet((IMG_WIDTH, IMG_HEIGHT, IMG_CHANNELS))\n",
    "model.summary()"
   ]
  },
  {
   "cell_type": "markdown",
   "metadata": {},
   "source": [
    "As you can see, we compile the U-Net model using the Adam optimizer with learning rate `lr`, binary cross-entropy loss function, and four evaluation metrics. The `dice_coef()` function is used to calculate the Dice coefficient between the predicted and true masks. The `accuracy` metric is used to evaluate the accuracy of the model. The `BinaryIoU()` function is used to calculate the binary intersection over union (IoU) metric with a threshold of 0.5."
   ]
  },
  {
   "cell_type": "code",
   "execution_count": null,
   "metadata": {
    "id": "1gHteT69V_DQ"
   },
   "outputs": [],
   "source": [
    "model.compile(optimizer=optimizer, loss='binary_crossentropy', metrics=[dice_coef,'accuracy', tf.keras.metrics.BinaryIoU(threshold=0.5)])"
   ]
  },
  {
   "cell_type": "markdown",
   "metadata": {},
   "source": [
    "We need to define four callbacks to be used during model training. The `ModelCheckpoint()` callback saves the best model based on the validation loss during training. The `ReduceLROnPlateau()` callback reduces the learning rate by a factor of 0.1 if the validation loss does not improve for 5 epochs. The `CSVLogger()` callback logs the training and validation metrics to a CSV file. The `EarlyStopping()` callback stops the training if the validation loss does not improve for 10 epochs and does not restore the best weights."
   ]
  },
  {
   "cell_type": "code",
   "execution_count": null,
   "metadata": {
    "id": "BsyWbq5IWBOj"
   },
   "outputs": [],
   "source": [
    "callbacks = [\n",
    "        tf.keras.callbacks.ModelCheckpoint(model_path, verbose=1, save_best_only=True),\n",
    "        tf.keras.callbacks.ReduceLROnPlateau(monitor='val_loss', factor=0.1, patience=5, min_lr=1e-7, verbose=1),\n",
    "        tf.keras.callbacks.CSVLogger(csv_path),\n",
    "        tf.keras.callbacks.EarlyStopping(monitor='val_loss', patience=10, restore_best_weights=False),\n",
    "    ]"
   ]
  },
  {
   "cell_type": "markdown",
   "metadata": {},
   "source": [
    "And here we need to train the U-Net model using the `fit()` method. The training data is provided as `train_dataset`, with `steps_per_epoch` steps per epoch and `num_epochs` epochs. The validation data is provided as `valid_dataset`, with `steps_per_epoch` validation steps. The `callbacks` defined earlier are also used during training. The resulting model is returned and assigned to the `model` variable."
   ]
  },
  {
   "cell_type": "code",
   "execution_count": null,
   "metadata": {
    "colab": {
     "base_uri": "https://localhost:8080/"
    },
    "id": "6VKddPowWD9D",
    "outputId": "8e1cf5bb-09e7-4a5c-f1ec-1147db6cdf3c"
   },
   "outputs": [
    {
     "name": "stdout",
     "output_type": "stream",
     "text": [
      "Epoch 1/60\n",
      "781/781 [==============================] - ETA: 0s - loss: 0.0918 - dice_coef: 0.0810 - accuracy: 0.9780 - binary_io_u: 0.4897\n",
      "Epoch 1: val_loss improved from inf to 0.10109, saving model to files/best_model.h5\n",
      "781/781 [==============================] - 1116s 1s/step - loss: 0.0918 - dice_coef: 0.0810 - accuracy: 0.9780 - binary_io_u: 0.4897 - val_loss: 0.1011 - val_dice_coef: 0.1062 - val_accuracy: 0.9784 - val_binary_io_u: 0.4892 - lr: 1.0000e-04\n",
      "Epoch 2/60\n",
      "781/781 [==============================] - ETA: 0s - loss: 0.0667 - dice_coef: 0.1536 - accuracy: 0.9800 - binary_io_u: 0.5034\n",
      "Epoch 2: val_loss improved from 0.10109 to 0.06115, saving model to files/best_model.h5\n",
      "781/781 [==============================] - 208s 267ms/step - loss: 0.0667 - dice_coef: 0.1536 - accuracy: 0.9800 - binary_io_u: 0.5034 - val_loss: 0.0611 - val_dice_coef: 0.2730 - val_accuracy: 0.9789 - val_binary_io_u: 0.6344 - lr: 1.0000e-04\n",
      "Epoch 3/60\n",
      "781/781 [==============================] - ETA: 0s - loss: 0.0503 - dice_coef: 0.3414 - accuracy: 0.9834 - binary_io_u: 0.6315\n",
      "Epoch 3: val_loss improved from 0.06115 to 0.04776, saving model to files/best_model.h5\n",
      "781/781 [==============================] - 208s 267ms/step - loss: 0.0503 - dice_coef: 0.3414 - accuracy: 0.9834 - binary_io_u: 0.6315 - val_loss: 0.0478 - val_dice_coef: 0.4318 - val_accuracy: 0.9830 - val_binary_io_u: 0.6912 - lr: 1.0000e-04\n",
      "Epoch 4/60\n",
      "781/781 [==============================] - ETA: 0s - loss: 0.0409 - dice_coef: 0.4507 - accuracy: 0.9858 - binary_io_u: 0.6842\n",
      "Epoch 4: val_loss improved from 0.04776 to 0.03976, saving model to files/best_model.h5\n",
      "781/781 [==============================] - 208s 266ms/step - loss: 0.0409 - dice_coef: 0.4507 - accuracy: 0.9858 - binary_io_u: 0.6842 - val_loss: 0.0398 - val_dice_coef: 0.5063 - val_accuracy: 0.9855 - val_binary_io_u: 0.7458 - lr: 1.0000e-04\n",
      "Epoch 5/60\n",
      "781/781 [==============================] - ETA: 0s - loss: 0.0351 - dice_coef: 0.5215 - accuracy: 0.9874 - binary_io_u: 0.7257\n",
      "Epoch 5: val_loss improved from 0.03976 to 0.03440, saving model to files/best_model.h5\n",
      "781/781 [==============================] - 208s 267ms/step - loss: 0.0351 - dice_coef: 0.5215 - accuracy: 0.9874 - binary_io_u: 0.7257 - val_loss: 0.0344 - val_dice_coef: 0.5742 - val_accuracy: 0.9869 - val_binary_io_u: 0.7592 - lr: 1.0000e-04\n",
      "Epoch 6/60\n",
      "781/781 [==============================] - ETA: 0s - loss: 0.0317 - dice_coef: 0.5592 - accuracy: 0.9883 - binary_io_u: 0.7460\n",
      "Epoch 6: val_loss improved from 0.03440 to 0.02947, saving model to files/best_model.h5\n",
      "781/781 [==============================] - 208s 266ms/step - loss: 0.0317 - dice_coef: 0.5592 - accuracy: 0.9883 - binary_io_u: 0.7460 - val_loss: 0.0295 - val_dice_coef: 0.6061 - val_accuracy: 0.9888 - val_binary_io_u: 0.7821 - lr: 1.0000e-04\n",
      "Epoch 7/60\n",
      "781/781 [==============================] - ETA: 0s - loss: 0.0297 - dice_coef: 0.5888 - accuracy: 0.9891 - binary_io_u: 0.7623\n",
      "Epoch 7: val_loss improved from 0.02947 to 0.02820, saving model to files/best_model.h5\n",
      "781/781 [==============================] - 208s 267ms/step - loss: 0.0297 - dice_coef: 0.5888 - accuracy: 0.9891 - binary_io_u: 0.7623 - val_loss: 0.0282 - val_dice_coef: 0.6147 - val_accuracy: 0.9896 - val_binary_io_u: 0.7889 - lr: 1.0000e-04\n",
      "Epoch 8/60\n",
      "781/781 [==============================] - ETA: 0s - loss: 0.0282 - dice_coef: 0.6074 - accuracy: 0.9896 - binary_io_u: 0.7731\n",
      "Epoch 8: val_loss improved from 0.02820 to 0.02609, saving model to files/best_model.h5\n",
      "781/781 [==============================] - 208s 267ms/step - loss: 0.0282 - dice_coef: 0.6074 - accuracy: 0.9896 - binary_io_u: 0.7731 - val_loss: 0.0261 - val_dice_coef: 0.6533 - val_accuracy: 0.9896 - val_binary_io_u: 0.7983 - lr: 1.0000e-04\n",
      "Epoch 9/60\n",
      "781/781 [==============================] - ETA: 0s - loss: 0.0266 - dice_coef: 0.6265 - accuracy: 0.9900 - binary_io_u: 0.7822\n",
      "Epoch 9: val_loss did not improve from 0.02609\n",
      "781/781 [==============================] - 207s 266ms/step - loss: 0.0266 - dice_coef: 0.6265 - accuracy: 0.9900 - binary_io_u: 0.7822 - val_loss: 0.0273 - val_dice_coef: 0.6432 - val_accuracy: 0.9891 - val_binary_io_u: 0.8005 - lr: 1.0000e-04\n",
      "Epoch 10/60\n",
      "781/781 [==============================] - ETA: 0s - loss: 0.0257 - dice_coef: 0.6396 - accuracy: 0.9904 - binary_io_u: 0.7895\n",
      "Epoch 10: val_loss did not improve from 0.02609\n",
      "781/781 [==============================] - 208s 266ms/step - loss: 0.0257 - dice_coef: 0.6396 - accuracy: 0.9904 - binary_io_u: 0.7895 - val_loss: 0.0266 - val_dice_coef: 0.6465 - val_accuracy: 0.9896 - val_binary_io_u: 0.7982 - lr: 1.0000e-04\n",
      "Epoch 11/60\n",
      "781/781 [==============================] - ETA: 0s - loss: 0.0255 - dice_coef: 0.6423 - accuracy: 0.9904 - binary_io_u: 0.7903\n",
      "Epoch 11: val_loss improved from 0.02609 to 0.02471, saving model to files/best_model.h5\n",
      "781/781 [==============================] - 208s 266ms/step - loss: 0.0255 - dice_coef: 0.6423 - accuracy: 0.9904 - binary_io_u: 0.7903 - val_loss: 0.0247 - val_dice_coef: 0.7030 - val_accuracy: 0.9906 - val_binary_io_u: 0.8079 - lr: 1.0000e-04\n",
      "Epoch 12/60\n",
      "781/781 [==============================] - ETA: 0s - loss: 0.0239 - dice_coef: 0.6630 - accuracy: 0.9909 - binary_io_u: 0.8003\n",
      "Epoch 12: val_loss improved from 0.02471 to 0.02348, saving model to files/best_model.h5\n",
      "781/781 [==============================] - 208s 267ms/step - loss: 0.0239 - dice_coef: 0.6630 - accuracy: 0.9909 - binary_io_u: 0.8003 - val_loss: 0.0235 - val_dice_coef: 0.6994 - val_accuracy: 0.9910 - val_binary_io_u: 0.8193 - lr: 1.0000e-04\n",
      "Epoch 13/60\n",
      "781/781 [==============================] - ETA: 0s - loss: 0.0235 - dice_coef: 0.6659 - accuracy: 0.9911 - binary_io_u: 0.8037\n",
      "Epoch 13: val_loss improved from 0.02348 to 0.02281, saving model to files/best_model.h5\n",
      "781/781 [==============================] - 211s 271ms/step - loss: 0.0235 - dice_coef: 0.6659 - accuracy: 0.9911 - binary_io_u: 0.8037 - val_loss: 0.0228 - val_dice_coef: 0.7037 - val_accuracy: 0.9911 - val_binary_io_u: 0.8199 - lr: 1.0000e-04\n",
      "Epoch 14/60\n",
      "781/781 [==============================] - ETA: 0s - loss: 0.0229 - dice_coef: 0.6773 - accuracy: 0.9912 - binary_io_u: 0.8082\n",
      "Epoch 14: val_loss did not improve from 0.02281\n",
      "781/781 [==============================] - 208s 267ms/step - loss: 0.0229 - dice_coef: 0.6773 - accuracy: 0.9912 - binary_io_u: 0.8082 - val_loss: 0.0247 - val_dice_coef: 0.7056 - val_accuracy: 0.9902 - val_binary_io_u: 0.8163 - lr: 1.0000e-04\n",
      "Epoch 15/60\n",
      "781/781 [==============================] - ETA: 0s - loss: 0.0221 - dice_coef: 0.6869 - accuracy: 0.9916 - binary_io_u: 0.8143\n",
      "Epoch 15: val_loss improved from 0.02281 to 0.02205, saving model to files/best_model.h5\n",
      "781/781 [==============================] - 209s 268ms/step - loss: 0.0221 - dice_coef: 0.6869 - accuracy: 0.9916 - binary_io_u: 0.8143 - val_loss: 0.0221 - val_dice_coef: 0.7153 - val_accuracy: 0.9914 - val_binary_io_u: 0.8245 - lr: 1.0000e-04\n",
      "Epoch 16/60\n",
      "781/781 [==============================] - ETA: 0s - loss: 0.0215 - dice_coef: 0.6931 - accuracy: 0.9917 - binary_io_u: 0.8161\n",
      "Epoch 16: val_loss improved from 0.02205 to 0.02137, saving model to files/best_model.h5\n",
      "781/781 [==============================] - 211s 270ms/step - loss: 0.0215 - dice_coef: 0.6931 - accuracy: 0.9917 - binary_io_u: 0.8161 - val_loss: 0.0214 - val_dice_coef: 0.7033 - val_accuracy: 0.9918 - val_binary_io_u: 0.8280 - lr: 1.0000e-04\n",
      "Epoch 17/60\n",
      "781/781 [==============================] - ETA: 0s - loss: 0.0208 - dice_coef: 0.7031 - accuracy: 0.9919 - binary_io_u: 0.8228\n",
      "Epoch 17: val_loss did not improve from 0.02137\n",
      "781/781 [==============================] - 211s 270ms/step - loss: 0.0208 - dice_coef: 0.7031 - accuracy: 0.9919 - binary_io_u: 0.8228 - val_loss: 0.0219 - val_dice_coef: 0.7323 - val_accuracy: 0.9914 - val_binary_io_u: 0.8299 - lr: 1.0000e-04\n",
      "Epoch 18/60\n",
      "781/781 [==============================] - ETA: 0s - loss: 0.0205 - dice_coef: 0.7060 - accuracy: 0.9921 - binary_io_u: 0.8238\n",
      "Epoch 18: val_loss did not improve from 0.02137\n",
      "781/781 [==============================] - 209s 268ms/step - loss: 0.0205 - dice_coef: 0.7060 - accuracy: 0.9921 - binary_io_u: 0.8238 - val_loss: 0.0217 - val_dice_coef: 0.7243 - val_accuracy: 0.9914 - val_binary_io_u: 0.8312 - lr: 1.0000e-04\n",
      "Epoch 19/60\n",
      "781/781 [==============================] - ETA: 0s - loss: 0.0200 - dice_coef: 0.7142 - accuracy: 0.9922 - binary_io_u: 0.8286\n",
      "Epoch 19: val_loss did not improve from 0.02137\n",
      "781/781 [==============================] - 210s 269ms/step - loss: 0.0200 - dice_coef: 0.7142 - accuracy: 0.9922 - binary_io_u: 0.8286 - val_loss: 0.0216 - val_dice_coef: 0.7281 - val_accuracy: 0.9914 - val_binary_io_u: 0.8310 - lr: 1.0000e-04\n",
      "Epoch 20/60\n",
      "781/781 [==============================] - ETA: 0s - loss: 0.0193 - dice_coef: 0.7210 - accuracy: 0.9924 - binary_io_u: 0.8321\n",
      "Epoch 20: val_loss did not improve from 0.02137\n",
      "781/781 [==============================] - 209s 268ms/step - loss: 0.0193 - dice_coef: 0.7210 - accuracy: 0.9924 - binary_io_u: 0.8321 - val_loss: 0.0219 - val_dice_coef: 0.7145 - val_accuracy: 0.9916 - val_binary_io_u: 0.8253 - lr: 1.0000e-04\n",
      "Epoch 21/60\n",
      "781/781 [==============================] - ETA: 0s - loss: 0.0192 - dice_coef: 0.7219 - accuracy: 0.9924 - binary_io_u: 0.8323\n",
      "Epoch 21: val_loss did not improve from 0.02137\n",
      "\n",
      "Epoch 21: ReduceLROnPlateau reducing learning rate to 9.999999747378752e-06.\n",
      "781/781 [==============================] - 210s 269ms/step - loss: 0.0192 - dice_coef: 0.7219 - accuracy: 0.9924 - binary_io_u: 0.8323 - val_loss: 0.0227 - val_dice_coef: 0.7111 - val_accuracy: 0.9913 - val_binary_io_u: 0.8187 - lr: 1.0000e-04\n",
      "Epoch 22/60\n",
      "781/781 [==============================] - ETA: 0s - loss: 0.0172 - dice_coef: 0.7493 - accuracy: 0.9932 - binary_io_u: 0.8480\n",
      "Epoch 22: val_loss improved from 0.02137 to 0.01998, saving model to files/best_model.h5\n",
      "781/781 [==============================] - 211s 271ms/step - loss: 0.0172 - dice_coef: 0.7493 - accuracy: 0.9932 - binary_io_u: 0.8480 - val_loss: 0.0200 - val_dice_coef: 0.7495 - val_accuracy: 0.9922 - val_binary_io_u: 0.8408 - lr: 1.0000e-05\n",
      "Epoch 23/60\n",
      "781/781 [==============================] - ETA: 0s - loss: 0.0166 - dice_coef: 0.7566 - accuracy: 0.9934 - binary_io_u: 0.8511\n",
      "Epoch 23: val_loss improved from 0.01998 to 0.01994, saving model to files/best_model.h5\n",
      "781/781 [==============================] - 209s 268ms/step - loss: 0.0166 - dice_coef: 0.7566 - accuracy: 0.9934 - binary_io_u: 0.8511 - val_loss: 0.0199 - val_dice_coef: 0.7502 - val_accuracy: 0.9922 - val_binary_io_u: 0.8419 - lr: 1.0000e-05\n",
      "Epoch 24/60\n",
      "781/781 [==============================] - ETA: 0s - loss: 0.0161 - dice_coef: 0.7631 - accuracy: 0.9935 - binary_io_u: 0.8551\n",
      "Epoch 24: val_loss improved from 0.01994 to 0.01991, saving model to files/best_model.h5\n",
      "781/781 [==============================] - 209s 268ms/step - loss: 0.0161 - dice_coef: 0.7631 - accuracy: 0.9935 - binary_io_u: 0.8551 - val_loss: 0.0199 - val_dice_coef: 0.7486 - val_accuracy: 0.9922 - val_binary_io_u: 0.8404 - lr: 1.0000e-05\n",
      "Epoch 25/60\n",
      "781/781 [==============================] - ETA: 0s - loss: 0.0161 - dice_coef: 0.7619 - accuracy: 0.9935 - binary_io_u: 0.8543\n",
      "Epoch 25: val_loss did not improve from 0.01991\n",
      "781/781 [==============================] - 209s 268ms/step - loss: 0.0161 - dice_coef: 0.7619 - accuracy: 0.9935 - binary_io_u: 0.8543 - val_loss: 0.0200 - val_dice_coef: 0.7563 - val_accuracy: 0.9923 - val_binary_io_u: 0.8432 - lr: 1.0000e-05\n",
      "Epoch 26/60\n",
      "781/781 [==============================] - ETA: 0s - loss: 0.0161 - dice_coef: 0.7642 - accuracy: 0.9936 - binary_io_u: 0.8557\n",
      "Epoch 26: val_loss did not improve from 0.01991\n",
      "781/781 [==============================] - 210s 269ms/step - loss: 0.0161 - dice_coef: 0.7642 - accuracy: 0.9936 - binary_io_u: 0.8557 - val_loss: 0.0199 - val_dice_coef: 0.7562 - val_accuracy: 0.9923 - val_binary_io_u: 0.8428 - lr: 1.0000e-05\n",
      "Epoch 27/60\n",
      "781/781 [==============================] - ETA: 0s - loss: 0.0160 - dice_coef: 0.7670 - accuracy: 0.9937 - binary_io_u: 0.8577\n",
      "Epoch 27: val_loss did not improve from 0.01991\n",
      "\n",
      "Epoch 27: ReduceLROnPlateau reducing learning rate to 9.999999747378752e-07.\n",
      "781/781 [==============================] - 210s 269ms/step - loss: 0.0160 - dice_coef: 0.7670 - accuracy: 0.9937 - binary_io_u: 0.8577 - val_loss: 0.0203 - val_dice_coef: 0.7594 - val_accuracy: 0.9923 - val_binary_io_u: 0.8437 - lr: 1.0000e-05\n",
      "Epoch 28/60\n",
      "781/781 [==============================] - ETA: 0s - loss: 0.0155 - dice_coef: 0.7729 - accuracy: 0.9937 - binary_io_u: 0.8595\n",
      "Epoch 28: val_loss improved from 0.01991 to 0.01982, saving model to files/best_model.h5\n",
      "781/781 [==============================] - 210s 269ms/step - loss: 0.0155 - dice_coef: 0.7729 - accuracy: 0.9937 - binary_io_u: 0.8595 - val_loss: 0.0198 - val_dice_coef: 0.7601 - val_accuracy: 0.9923 - val_binary_io_u: 0.8444 - lr: 1.0000e-06\n",
      "Epoch 29/60\n",
      "781/781 [==============================] - ETA: 0s - loss: 0.0156 - dice_coef: 0.7711 - accuracy: 0.9937 - binary_io_u: 0.8592\n",
      "Epoch 29: val_loss improved from 0.01982 to 0.01963, saving model to files/best_model.h5\n",
      "781/781 [==============================] - 209s 268ms/step - loss: 0.0156 - dice_coef: 0.7711 - accuracy: 0.9937 - binary_io_u: 0.8592 - val_loss: 0.0196 - val_dice_coef: 0.7617 - val_accuracy: 0.9924 - val_binary_io_u: 0.8460 - lr: 1.0000e-06\n",
      "Epoch 30/60\n",
      "781/781 [==============================] - ETA: 0s - loss: 0.0154 - dice_coef: 0.7728 - accuracy: 0.9938 - binary_io_u: 0.8601\n",
      "Epoch 30: val_loss did not improve from 0.01963\n",
      "781/781 [==============================] - 208s 267ms/step - loss: 0.0154 - dice_coef: 0.7728 - accuracy: 0.9938 - binary_io_u: 0.8601 - val_loss: 0.0200 - val_dice_coef: 0.7597 - val_accuracy: 0.9923 - val_binary_io_u: 0.8440 - lr: 1.0000e-06\n",
      "Epoch 31/60\n",
      "781/781 [==============================] - ETA: 0s - loss: 0.0155 - dice_coef: 0.7727 - accuracy: 0.9937 - binary_io_u: 0.8598\n",
      "Epoch 31: val_loss did not improve from 0.01963\n",
      "781/781 [==============================] - 208s 267ms/step - loss: 0.0155 - dice_coef: 0.7727 - accuracy: 0.9937 - binary_io_u: 0.8598 - val_loss: 0.0200 - val_dice_coef: 0.7587 - val_accuracy: 0.9923 - val_binary_io_u: 0.8435 - lr: 1.0000e-06\n",
      "Epoch 32/60\n",
      "781/781 [==============================] - ETA: 0s - loss: 0.0153 - dice_coef: 0.7734 - accuracy: 0.9938 - binary_io_u: 0.8604\n",
      "Epoch 32: val_loss did not improve from 0.01963\n",
      "781/781 [==============================] - 208s 267ms/step - loss: 0.0153 - dice_coef: 0.7734 - accuracy: 0.9938 - binary_io_u: 0.8604 - val_loss: 0.0200 - val_dice_coef: 0.7610 - val_accuracy: 0.9923 - val_binary_io_u: 0.8442 - lr: 1.0000e-06\n",
      "Epoch 33/60\n",
      "781/781 [==============================] - ETA: 0s - loss: 0.0156 - dice_coef: 0.7726 - accuracy: 0.9938 - binary_io_u: 0.8599\n",
      "Epoch 33: val_loss did not improve from 0.01963\n",
      "781/781 [==============================] - 208s 267ms/step - loss: 0.0156 - dice_coef: 0.7726 - accuracy: 0.9938 - binary_io_u: 0.8599 - val_loss: 0.0199 - val_dice_coef: 0.7615 - val_accuracy: 0.9924 - val_binary_io_u: 0.8449 - lr: 1.0000e-06\n",
      "Epoch 34/60\n",
      "781/781 [==============================] - ETA: 0s - loss: 0.0154 - dice_coef: 0.7726 - accuracy: 0.9938 - binary_io_u: 0.8600\n",
      "Epoch 34: val_loss did not improve from 0.01963\n",
      "\n",
      "Epoch 34: ReduceLROnPlateau reducing learning rate to 1e-07.\n",
      "781/781 [==============================] - 208s 266ms/step - loss: 0.0154 - dice_coef: 0.7726 - accuracy: 0.9938 - binary_io_u: 0.8600 - val_loss: 0.0200 - val_dice_coef: 0.7595 - val_accuracy: 0.9923 - val_binary_io_u: 0.8448 - lr: 1.0000e-06\n",
      "Epoch 35/60\n",
      "781/781 [==============================] - ETA: 0s - loss: 0.0154 - dice_coef: 0.7733 - accuracy: 0.9938 - binary_io_u: 0.8614\n",
      "Epoch 35: val_loss did not improve from 0.01963\n",
      "781/781 [==============================] - 208s 266ms/step - loss: 0.0154 - dice_coef: 0.7733 - accuracy: 0.9938 - binary_io_u: 0.8614 - val_loss: 0.0201 - val_dice_coef: 0.7595 - val_accuracy: 0.9923 - val_binary_io_u: 0.8441 - lr: 1.0000e-07\n",
      "Epoch 36/60\n",
      "781/781 [==============================] - ETA: 0s - loss: 0.0154 - dice_coef: 0.7733 - accuracy: 0.9938 - binary_io_u: 0.8602\n",
      "Epoch 36: val_loss did not improve from 0.01963\n",
      "781/781 [==============================] - 207s 266ms/step - loss: 0.0154 - dice_coef: 0.7733 - accuracy: 0.9938 - binary_io_u: 0.8602 - val_loss: 0.0200 - val_dice_coef: 0.7600 - val_accuracy: 0.9923 - val_binary_io_u: 0.8445 - lr: 1.0000e-07\n",
      "Epoch 37/60\n",
      "781/781 [==============================] - ETA: 0s - loss: 0.0155 - dice_coef: 0.7748 - accuracy: 0.9938 - binary_io_u: 0.8609\n",
      "Epoch 37: val_loss did not improve from 0.01963\n",
      "781/781 [==============================] - 208s 266ms/step - loss: 0.0155 - dice_coef: 0.7748 - accuracy: 0.9938 - binary_io_u: 0.8609 - val_loss: 0.0199 - val_dice_coef: 0.7610 - val_accuracy: 0.9923 - val_binary_io_u: 0.8449 - lr: 1.0000e-07\n",
      "Epoch 38/60\n",
      "781/781 [==============================] - ETA: 0s - loss: 0.0154 - dice_coef: 0.7729 - accuracy: 0.9938 - binary_io_u: 0.8600\n",
      "Epoch 38: val_loss did not improve from 0.01963\n",
      "781/781 [==============================] - 208s 266ms/step - loss: 0.0154 - dice_coef: 0.7729 - accuracy: 0.9938 - binary_io_u: 0.8600 - val_loss: 0.0200 - val_dice_coef: 0.7586 - val_accuracy: 0.9923 - val_binary_io_u: 0.8438 - lr: 1.0000e-07\n",
      "Epoch 39/60\n",
      "781/781 [==============================] - ETA: 0s - loss: 0.0155 - dice_coef: 0.7720 - accuracy: 0.9938 - binary_io_u: 0.8597\n",
      "Epoch 39: val_loss did not improve from 0.01963\n",
      "781/781 [==============================] - 208s 266ms/step - loss: 0.0155 - dice_coef: 0.7720 - accuracy: 0.9938 - binary_io_u: 0.8597 - val_loss: 0.0199 - val_dice_coef: 0.7606 - val_accuracy: 0.9924 - val_binary_io_u: 0.8454 - lr: 1.0000e-07\n"
     ]
    }
   ],
   "source": [
    "model = model.fit(\n",
    "        train_dataset,\n",
    "        steps_per_epoch=steps_per_epoch,\n",
    "        epochs=num_epochs,\n",
    "        validation_data=valid_dataset,\n",
    "        validation_steps=steps_per_epoch,\n",
    "        callbacks=callbacks\n",
    "    )"
   ]
  },
  {
   "cell_type": "markdown",
   "metadata": {},
   "source": [
    "The function below is plotting the train and validation accuracy, loss, dice coefficient, and Intersection over Union (IoU) score of a trained Unet model. It takes the number of epochs and model history data as input, and creates a plot with four subplots. The x-axis of all subplots represents the number of epochs and the y-axis represents the corresponding accuracy, loss, dice coefficient, and IoU value. The plot also includes legends to distinguish the training and validation results of each metric. The function uses matplotlib to create the plot and returns None."
   ]
  },
  {
   "cell_type": "code",
   "execution_count": null,
   "metadata": {
    "colab": {
     "base_uri": "https://localhost:8080/",
     "height": 308
    },
    "id": "QpIHYavEod16",
    "outputId": "998b9837-a01d-440e-e791-7226aa507223"
   },
   "outputs": [
    {
     "data": {
      "image/png": "[encoded data removed]",
      "text/plain": [
       "<Figure size 1728x288 with 4 Axes>"
      ]
     },
     "metadata": {
      "needs_background": "light"
     },
     "output_type": "display_data"
    }
   ],
   "source": [
    "# plot train, validation Accuracy, Loss, Dice-coef and IOU\n",
    "num_epochs = len(model.history['accuracy'])\n",
    "step = 2\n",
    "if num_epochs > 35:\n",
    "    step = 5\n",
    "\n",
    "f, (ax1, ax2, ax3, ax4) = plt.subplots(1, 4, figsize=(24, 4))\n",
    "t = f.suptitle('Unet Model Performance', fontsize=12)\n",
    "f.subplots_adjust(top=0.85, wspace=0.3)\n",
    "\n",
    "epoch_list = list(range(0,num_epochs))\n",
    "ax1.plot(epoch_list, model.history['accuracy'], label='Train Accuracy')\n",
    "ax1.plot(epoch_list, model.history['val_accuracy'], label='Validation Accuracy')\n",
    "ax1.set_xticks(np.arange(0, num_epochs, step))\n",
    "ax1.set_ylabel('Accuracy Value')\n",
    "ax1.set_xlabel('Epoch')\n",
    "ax1.set_title('Accuracy')\n",
    "l1 = ax1.legend(loc=\"best\")\n",
    "\n",
    "ax2.plot(epoch_list, model.history['loss'], label='Train Loss')\n",
    "ax2.plot(epoch_list, model.history['val_loss'], label='Validation Loss')\n",
    "ax2.set_xticks(np.arange(0, num_epochs, step))\n",
    "ax2.set_ylabel('Loss Value')\n",
    "ax2.set_xlabel('Epoch')\n",
    "ax2.set_title('Loss')\n",
    "l2 = ax2.legend(loc=\"best\")\n",
    "\n",
    "epoch_list = list(range(0,num_epochs))\n",
    "ax3.plot(epoch_list, model.history['dice_coef'], label='Training Dice Score')\n",
    "ax3.plot(epoch_list, model.history['val_dice_coef'], label='Validation Dice Score')\n",
    "ax3.set_xticks(np.arange(0, num_epochs, step))\n",
    "ax3.set_ylabel('Dice Score')\n",
    "ax3.set_xlabel('Epoch')\n",
    "ax3.set_title('Training and validation Dice Score')\n",
    "l3 = ax3.legend(loc=\"best\")\n",
    "\n",
    "ax4.plot(epoch_list, model.history['binary_io_u'], label='Training IoU')\n",
    "ax4.plot(epoch_list, model.history['val_binary_io_u'], label='Validation IoU')\n",
    "ax4.set_xticks(np.arange(0, num_epochs, step))\n",
    "ax4.set_ylabel('Mean IoU')\n",
    "ax4.set_xlabel('Epoch')\n",
    "ax4.set_title('Training and validation IoU')\n",
    "l4 = ax4.legend(loc=\"best\")"
   ]
  },
  {
   "cell_type": "markdown",
   "metadata": {},
   "source": [
    "The `load_model()` function loads a saved Keras model stored in an H5 file. In this code snippet, it loads the best model saved in the `best_model.h5` file located in the `files` directory. The `CustomObjectScope()` method is used to load any custom objects, such as custom loss functions or metrics, that were used to compile the saved model. In this case, `dice_coef` and `dice_loss` functions are used as custom objects. However, since the `compile` argument is set to `False`, the loaded model is not compiled and the user must manually compile it before using it for prediction or evaluation."
   ]
  },
  {
   "cell_type": "code",
   "execution_count": null,
   "metadata": {
    "id": "3BUDC_rtod17"
   },
   "outputs": [],
   "source": [
    "#Load the model\n",
    "# with CustomObjectScope({\"dice_coef\": dice_coef, \"dice_loss\": dice_loss}):\n",
    "model = tf.keras.models.load_model(os.path.join(\"files\", \"best_model.h5\"), compile=False)"
   ]
  },
  {
   "cell_type": "markdown",
   "metadata": {},
   "source": [
    "Here we randomly selects an image and its corresponding mask from the test dataset, preprocesses the image, feeds it into the trained model to get the predicted mask, and then displays the original image, original mask, and the predicted mask side by side in a matplotlib figure. The figure also includes a color bar representing the predicted mask."
   ]
  },
  {
   "cell_type": "code",
   "execution_count": null,
   "metadata": {
    "colab": {
     "base_uri": "https://localhost:8080/",
     "height": 279
    },
    "id": "-zMVgdUMod17",
    "outputId": "f73e5cb4-ace6-4d9c-b98d-3d95f02bbc6f"
   },
   "outputs": [
    {
     "name": "stdout",
     "output_type": "stream",
     "text": [
      "1/1 [==============================] - 0s 25ms/step\n"
     ]
    },
    {
     "data": {
      "image/png": "[encoded data removed]",
      "text/plain": [
       "<Figure size 864x576 with 4 Axes>"
      ]
     },
     "metadata": {
      "needs_background": "light"
     },
     "output_type": "display_data"
    }
   ],
   "source": [
    "# predicts random images from test images\n",
    "\n",
    "test_img_number = random.randint(0, len(test_x) - 1)\n",
    "test_img = test_x[test_img_number]\n",
    "test_mask = test_y[test_img_number]\n",
    "test_mask = plt.imread(test_mask, 0)\n",
    "test_img = cv2.imread(test_img, 0)\n",
    "test_img = test_img.astype(np.uint8)\n",
    "test_img = cv2.resize(test_img, (IMG_WIDTH, IMG_HEIGHT))\n",
    "test_img = cv2.merge([test_img, test_img, test_img])\n",
    "test_img_input = np.expand_dims(test_img, 0)\n",
    "test_pred1 = model.predict(test_img_input)\n",
    "test_pred1 = np.squeeze(test_pred1, axis=-1)\n",
    "test_pred1= test_pred1 >= 0.5\n",
    "test_pred1 = test_pred1.astype(np.int32)\n",
    "\n",
    "fig, (ax1, ax2, ax3) = plt.subplots(figsize = (12, 8), ncols = 3)\n",
    "ax1.set_title('Testing Image')\n",
    "ax1.axis('off')\n",
    "ax1.imshow(test_img[:, :, 0], cmap = 'gray')\n",
    "ax2.set_title('Testing Mask')\n",
    "ax2.axis('off')\n",
    "ax2.imshow(test_mask, cmap = 'gray')\n",
    "ax3.set_title('Prediction on test image')\n",
    "ax3.axis('off')\n",
    "pred = ax3.imshow(test_pred1.squeeze(0), cmap = 'gray')\n",
    "fig.colorbar(pred, cax = fig.add_axes([0.92, 0.3, 0.015, 0.39]), extend='both')\n",
    "plt.show()"
   ]
  },
  {
   "cell_type": "markdown",
   "metadata": {},
   "source": [
    "The `save_results` function saves the input image, ground truth mask, and predicted mask side by side as a single image. It processes the masks, creates white separator lines, concatenates the images horizontally, and saves the resulting image to the specified file path."
   ]
  },
  {
   "cell_type": "code",
   "execution_count": null,
   "metadata": {
    "id": "9gmC5BwUod17"
   },
   "outputs": [],
   "source": [
    "def save_results(image, mask, y_pred, save_image_path):\n",
    "    mask = np.expand_dims(mask, axis=-1)\n",
    "    mask = np.concatenate([mask, mask, mask], axis=-1)\n",
    "\n",
    "    y_pred = np.expand_dims(y_pred, axis=-1)\n",
    "    y_pred = np.concatenate([y_pred, y_pred, y_pred], axis=-1)\n",
    "    y_pred = y_pred * 255\n",
    "\n",
    "    line = np.ones((IMG_HEIGHT, 10, 3)) * 255\n",
    "\n",
    "    cat_images = np.concatenate([image, line, mask, line, y_pred], axis=1)\n",
    "    cv2.imwrite(save_image_path, cat_images)"
   ]
  },
  {
   "cell_type": "markdown",
   "metadata": {},
   "source": [
    "We need to write a function that performs prediction and evaluation of a model on a test dataset:\n",
    "\n",
    "- Iterates through pairs of test images and their corresponding masks.\n",
    "- Preprocesses the images and masks, and predicts the mask using the model.\n",
    "- Saves the input image, ground truth mask, and predicted mask as a single image.\n",
    "- Calculates the evaluation metrics (F1 score, Jaccard index, Recall, and Precision) for each image-mask pair.\n",
    "- Appends the image name and metric values to the `SCORE` list for further analysis."
   ]
  },
  {
   "cell_type": "code",
   "execution_count": null,
   "metadata": {
    "colab": {
     "base_uri": "https://localhost:8080/"
    },
    "id": "nRylC_QWod17",
    "outputId": "b2029259-3452-4860-950f-50e30a7ce23e"
   },
   "outputs": [
    {
     "name": "stderr",
     "output_type": "stream",
     "text": [
      "100%|██████████| 153/153 [01:02<00:00,  2.45it/s]\n"
     ]
    }
   ],
   "source": [
    "# Prediction and Evaluation the model on th test dataset\n",
    "SCORE = []\n",
    "for x, y in tqdm(zip(test_x, test_y), total=len(test_y)):\n",
    "    #Extracting the name from the image path\n",
    "    name = x.split(\"/\")[-1]\n",
    "\n",
    "    # Reading the image\n",
    "    image = cv2.imread(x, cv2.IMREAD_COLOR)\n",
    "    image = cv2.resize(image, (IMG_WIDTH, IMG_HEIGHT)) \n",
    "    x = image\n",
    "    x = np.expand_dims(x, axis=0)\n",
    "\n",
    "    # Reading the mask\n",
    "    mask = cv2.imread(y, cv2.IMREAD_GRAYSCALE)\n",
    "    mask = cv2.resize(mask, (IMG_WIDTH, IMG_HEIGHT))\n",
    "\n",
    "    # Prediction\n",
    "    y_pred = model.predict(x, verbose=0)[0]\n",
    "    y_pred = np.squeeze(y_pred, axis=-1)\n",
    "    y_pred = y_pred >= 0.5\n",
    "    y_pred = y_pred.astype(np.int32)\n",
    "\n",
    "    # Saving the prediction as image\n",
    "    path='output_results/'\n",
    "    save_image_path = os.path.join(path, name)\n",
    "    save_results(image, mask, y_pred, save_image_path)\n",
    "\n",
    "    # Flatten the array\n",
    "    mask = mask\n",
    "    mask = (mask > 0.5).astype(np.int32).flatten()\n",
    "    y_pred = y_pred.flatten()\n",
    "\n",
    "    # Calculating the metrics values\n",
    "    f1_value = f1_score(mask, y_pred, labels=[0, 1], average=\"binary\")\n",
    "    jac_value = jaccard_score(mask, y_pred, labels=[0, 1], average=\"binary\")\n",
    "    recall_value = recall_score(mask, y_pred, labels=[0, 1], average=\"binary\", zero_division=0)\n",
    "    precision_value = precision_score(mask, y_pred, labels=[0, 1], average=\"binary\", zero_division=0)\n",
    "    SCORE.append([name, f1_value, jac_value, recall_value, precision_value])"
   ]
  },
  {
   "cell_type": "markdown",
   "metadata": {},
   "source": [
    "Fucntion below calculates, prints, and saves the average evaluation metrics for a dataset:\n",
    "\n",
    "- Extracts and averages the evaluation metrics from the `SCORE` list.\n",
    "- Prints the F1 score, Jaccard index, Recall, and Precision with 5 decimal places.\n",
    "- Saves the evaluation metrics for each image in a CSV file named `score.csv` in the `output_results` directory."
   ]
  },
  {
   "cell_type": "code",
   "execution_count": null,
   "metadata": {
    "colab": {
     "base_uri": "https://localhost:8080/",
     "height": 415
    },
    "id": "iMjULIOOod18",
    "outputId": "c90b0316-3b98-4e83-d991-c667c3f9e2c8",
    "scrolled": true
   },
   "outputs": [],
   "source": [
    "# print and save the metrics values\n",
    "score = [s[1:]for s in SCORE]\n",
    "score = np.mean(score, axis=0)\n",
    "print(f\"F1: {score[0]:0.5f}\")\n",
    "print(f\"Jaccard: {score[1]:0.5f}\")\n",
    "print(f\"Recall: {score[2]:0.5f}\")\n",
    "print(f\"Precision: {score[3]:0.5f}\")\n",
    "\n",
    "# save the results as csv file\n",
    "df = pd.DataFrame(SCORE, columns=[\"Image\", \"F1\", \"Jaccard\", \"Recall\", \"Precision\"])\n",
    "#df.to_csv(\"output_results/score.csv\")\n",
    "df.to_csv(\"output_results/score.csv\")"
   ]
  },
  {
   "cell_type": "markdown",
   "metadata": {
    "id": "uc_AKWEDod18"
   },
   "source": [
    "F1: 0.83158\\\n",
    "Jaccard: 0.73849\\\n",
    "Recall: 0.84524\\\n",
    "Precision: 0.84534"
   ]
  },
  {
   "cell_type": "markdown",
   "metadata": {},
   "source": [
    "## Conclusions"
   ]
  },
  {
   "cell_type": "markdown",
   "metadata": {},
   "source": [
    "- Our study evaluated the effectiveness of the Unet model for MRI segmentation, a widely used convolutional neural network architecture.\n",
    "- We split our MRI dataset into 85% for training, 10% for testing, and 5% for validation to evaluate the performance of the Unet model.\n",
    "- The Unet model's encoder-decoder structure with skip connections is well-suited for MRI segmentation, enabling it to accurately identify regions of interest, such as tumors, within MRI scans.\n",
    "- We evaluated the performance of our Unet model using the Dice coefficient, which measures the similarity between predicted and ground truth segmentation masks.\n",
    "- Our Unet model achieved a high Dice coefficient score of 80%, indicating its superior performance in MRI segmentation.\n",
    "- Accurate MRI segmentation using the Unet model can assist healthcare professionals in making more informed decisions and providing better treatment options to patients.\n",
    "- Our findings suggest that the Unet model is an effective tool for accurate and reliable MRI segmentation, which can aid in the diagnosis and treatment of various medical conditions.\n",
    "- Future studies can explore the use of other deep learning models or combine multiple models to improve the accuracy of MRI segmentation.\n",
    "- The Unet model's superior performance in MRI segmentation is due to its ability to extract and integrate high-level and low-level features from input images.\n",
    "- The Unet model is also widely used in other medical imaging applications, such as identifying lung nodules in CT scans and segmenting the heart in cardiac MRI scans.\n",
    "\n",
    "\n",
    "\n",
    "\n"
   ]
  }
 ],
 "metadata": {
  "accelerator": "GPU",
  "colab": {
   "provenance": []
  },
  "gpuClass": "premium",
  "kernelspec": {
   "display_name": "Python 3",
   "language": "python",
   "name": "python3"
  },
  "language_info": {
   "codemirror_mode": {
    "name": "ipython",
    "version": 3
   },
   "file_extension": ".py",
   "mimetype": "text/x-python",
   "name": "python",
   "nbconvert_exporter": "python",
   "pygments_lexer": "ipython3",
   "version": "3.8.8"
  }
 },
 "nbformat": 4,
 "nbformat_minor": 1
}
